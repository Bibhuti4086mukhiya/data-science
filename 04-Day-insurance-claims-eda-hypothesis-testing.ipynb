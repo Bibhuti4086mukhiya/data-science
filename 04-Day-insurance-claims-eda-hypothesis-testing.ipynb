{
 "cells": [
  {
   "cell_type": "markdown",
   "metadata": {},
   "source": [
    "<font size=5 color=\"blue\"><b><center> Business Statistics:  EDA & Insurance claims</center></b></font><br>"
   ]
  },
  {
   "cell_type": "markdown",
   "metadata": {},
   "source": [
    "**Objective – Explore the dataset and extract insights from the data. Using statistical evidence to**\n",
    "- Prove (or disprove) that the medical claims made by the people who smoke is greater than those who don't? \n",
    "- Prove (or disprove) with statistical evidence that the BMI of females is different from that of males.\n",
    "- Is the proportion of smokers significantly different across different regions? \n",
    "- Is the mean BMI of women with no children, one child, and two children the same?<br>\n",
    "\n",
    "<br>"
   ]
  },
  {
   "cell_type": "markdown",
   "metadata": {},
   "source": [
    "# Context\n",
    "Leveraging customer information is of paramount importance for most businesses. In the case of an insurance company, attributes of customers like the ones mentioned below can be crucial in making business decisions. "
   ]
  },
  {
   "cell_type": "markdown",
   "metadata": {},
   "source": [
    "# Data Set \n",
    "- Age :- This is an integer indicating the age of the primary beneficiary (excluding those above 64 years, since they are generally covered by the government).\n",
    "- Sex :- This is the policy holder's gender, either male or female.\n",
    "- BMI :- This is the body mass index (BMI), which provides a sense of how over or under-weight a person is relative to their height. BMI is equal to weight (in kilograms) divided by height (in meters) squared. An ideal BMI is within the range of 18.5 to 24.9.\n",
    "- Children :- This is an integer indicating the number of children / dependents covered by the insurance plan.\n",
    "- Smoker :- This is yes or no depending on whether the insured regularly smokes tobacco.\n",
    "- Region :- This is the beneficiary's place of residence in the U.S., divided into four geographic regions - northeast, southeast, southwest, or northwest.\n",
    "- Charges​ :- Individual medical costs billed to health insurance"
   ]
  },
  {
   "cell_type": "markdown",
   "metadata": {},
   "source": [
    "# Question to be answered\n",
    "- Are there more Male beneficary ?\n",
    "- Are there more smoker ?\n",
    "- Which region has maximum , medical cost billed to health insurance.?\n",
    "- What is age of beneficary.?\n",
    "- Do beneficary having more dependents had more medical cost billed.?\n",
    "- "
   ]
  },
  {
   "cell_type": "markdown",
   "metadata": {},
   "source": [
    "# Libraries\n"
   ]
  },
  {
   "cell_type": "code",
   "execution_count": 1,
   "metadata": {},
   "outputs": [],
   "source": [
    "### IMPORT: ------------------------------------\n",
    "import scipy.stats as stats #It has all the probability distributions available along with many statistical functions.\n",
    "import pandas as pd\n",
    "import numpy as np\n",
    "import matplotlib.pyplot as plt\n",
    "%matplotlib inline\n",
    "import seaborn as sns\n",
    "import warnings\n",
    "warnings.filterwarnings('ignore') # To supress warnings\n",
    "sns.set(style=\"darkgrid\") # set the background for the graphs\n",
    "from scipy.stats import skew\n",
    "from statsmodels.stats.proportion import proportions_ztest # For proportion Z-test\n",
    "from statsmodels.formula.api import ols      # For n-way ANOVA\n",
    "from statsmodels.stats.anova import anova_lm # For n-way ANOVA\n",
    "from   scipy.stats import chi2_contingency   # For Chi-Sq \n"
   ]
  },
  {
   "cell_type": "markdown",
   "metadata": {},
   "source": [
    "# Read and Understand Data"
   ]
  },
  {
   "cell_type": "code",
   "execution_count": 5,
   "metadata": {},
   "outputs": [
    {
     "name": "stdout",
     "output_type": "stream",
     "text": [
      "      age     sex   bmi  children smoker     region  expenses\n",
      "0      19  female  27.9         0    yes  southwest  16884.92\n",
      "1      18    male  33.8         1     no  southeast   1725.55\n",
      "2      28    male  33.0         3     no  southeast   4449.46\n",
      "3      33    male  22.7         0     no  northwest  21984.47\n",
      "4      32    male  28.9         0     no  northwest   3866.86\n",
      "...   ...     ...   ...       ...    ...        ...       ...\n",
      "1333   50    male  31.0         3     no  northwest  10600.55\n",
      "1334   18  female  31.9         0     no  northeast   2205.98\n",
      "1335   18  female  36.9         0     no  southeast   1629.83\n",
      "1336   21  female  25.8         0     no  southwest   2007.95\n",
      "1337   61  female  29.1         0    yes  northwest  29141.36\n",
      "\n",
      "[1338 rows x 7 columns]\n"
     ]
    }
   ],
   "source": [
    "#Reading the csv file AxisInsurance.csv \n",
    "data_path='csv_files/insurance.csv'\n",
    "df=pd.read_csv(data_path)\n",
    "insured=df.copy()\n",
    "print(df)"
   ]
  },
  {
   "cell_type": "code",
   "execution_count": 6,
   "metadata": {},
   "outputs": [
    {
     "data": {
      "text/html": [
       "<div>\n",
       "<style scoped>\n",
       "    .dataframe tbody tr th:only-of-type {\n",
       "        vertical-align: middle;\n",
       "    }\n",
       "\n",
       "    .dataframe tbody tr th {\n",
       "        vertical-align: top;\n",
       "    }\n",
       "\n",
       "    .dataframe thead th {\n",
       "        text-align: right;\n",
       "    }\n",
       "</style>\n",
       "<table border=\"1\" class=\"dataframe\">\n",
       "  <thead>\n",
       "    <tr style=\"text-align: right;\">\n",
       "      <th></th>\n",
       "      <th>age</th>\n",
       "      <th>sex</th>\n",
       "      <th>bmi</th>\n",
       "      <th>children</th>\n",
       "      <th>smoker</th>\n",
       "      <th>region</th>\n",
       "      <th>expenses</th>\n",
       "    </tr>\n",
       "  </thead>\n",
       "  <tbody>\n",
       "    <tr>\n",
       "      <th>0</th>\n",
       "      <td>19</td>\n",
       "      <td>female</td>\n",
       "      <td>27.9</td>\n",
       "      <td>0</td>\n",
       "      <td>yes</td>\n",
       "      <td>southwest</td>\n",
       "      <td>16884.92</td>\n",
       "    </tr>\n",
       "    <tr>\n",
       "      <th>1</th>\n",
       "      <td>18</td>\n",
       "      <td>male</td>\n",
       "      <td>33.8</td>\n",
       "      <td>1</td>\n",
       "      <td>no</td>\n",
       "      <td>southeast</td>\n",
       "      <td>1725.55</td>\n",
       "    </tr>\n",
       "    <tr>\n",
       "      <th>2</th>\n",
       "      <td>28</td>\n",
       "      <td>male</td>\n",
       "      <td>33.0</td>\n",
       "      <td>3</td>\n",
       "      <td>no</td>\n",
       "      <td>southeast</td>\n",
       "      <td>4449.46</td>\n",
       "    </tr>\n",
       "    <tr>\n",
       "      <th>3</th>\n",
       "      <td>33</td>\n",
       "      <td>male</td>\n",
       "      <td>22.7</td>\n",
       "      <td>0</td>\n",
       "      <td>no</td>\n",
       "      <td>northwest</td>\n",
       "      <td>21984.47</td>\n",
       "    </tr>\n",
       "    <tr>\n",
       "      <th>4</th>\n",
       "      <td>32</td>\n",
       "      <td>male</td>\n",
       "      <td>28.9</td>\n",
       "      <td>0</td>\n",
       "      <td>no</td>\n",
       "      <td>northwest</td>\n",
       "      <td>3866.86</td>\n",
       "    </tr>\n",
       "  </tbody>\n",
       "</table>\n",
       "</div>"
      ],
      "text/plain": [
       "   age     sex   bmi  children smoker     region  expenses\n",
       "0   19  female  27.9         0    yes  southwest  16884.92\n",
       "1   18    male  33.8         1     no  southeast   1725.55\n",
       "2   28    male  33.0         3     no  southeast   4449.46\n",
       "3   33    male  22.7         0     no  northwest  21984.47\n",
       "4   32    male  28.9         0     no  northwest   3866.86"
      ]
     },
     "execution_count": 6,
     "metadata": {},
     "output_type": "execute_result"
    }
   ],
   "source": [
    "# inspect data, print top 5 \n",
    "insured.head(5)"
   ]
  },
  {
   "cell_type": "code",
   "execution_count": 7,
   "metadata": {},
   "outputs": [
    {
     "data": {
      "text/html": [
       "<div>\n",
       "<style scoped>\n",
       "    .dataframe tbody tr th:only-of-type {\n",
       "        vertical-align: middle;\n",
       "    }\n",
       "\n",
       "    .dataframe tbody tr th {\n",
       "        vertical-align: top;\n",
       "    }\n",
       "\n",
       "    .dataframe thead th {\n",
       "        text-align: right;\n",
       "    }\n",
       "</style>\n",
       "<table border=\"1\" class=\"dataframe\">\n",
       "  <thead>\n",
       "    <tr style=\"text-align: right;\">\n",
       "      <th></th>\n",
       "      <th>age</th>\n",
       "      <th>sex</th>\n",
       "      <th>bmi</th>\n",
       "      <th>children</th>\n",
       "      <th>smoker</th>\n",
       "      <th>region</th>\n",
       "      <th>expenses</th>\n",
       "    </tr>\n",
       "  </thead>\n",
       "  <tbody>\n",
       "    <tr>\n",
       "      <th>1333</th>\n",
       "      <td>50</td>\n",
       "      <td>male</td>\n",
       "      <td>31.0</td>\n",
       "      <td>3</td>\n",
       "      <td>no</td>\n",
       "      <td>northwest</td>\n",
       "      <td>10600.55</td>\n",
       "    </tr>\n",
       "    <tr>\n",
       "      <th>1334</th>\n",
       "      <td>18</td>\n",
       "      <td>female</td>\n",
       "      <td>31.9</td>\n",
       "      <td>0</td>\n",
       "      <td>no</td>\n",
       "      <td>northeast</td>\n",
       "      <td>2205.98</td>\n",
       "    </tr>\n",
       "    <tr>\n",
       "      <th>1335</th>\n",
       "      <td>18</td>\n",
       "      <td>female</td>\n",
       "      <td>36.9</td>\n",
       "      <td>0</td>\n",
       "      <td>no</td>\n",
       "      <td>southeast</td>\n",
       "      <td>1629.83</td>\n",
       "    </tr>\n",
       "    <tr>\n",
       "      <th>1336</th>\n",
       "      <td>21</td>\n",
       "      <td>female</td>\n",
       "      <td>25.8</td>\n",
       "      <td>0</td>\n",
       "      <td>no</td>\n",
       "      <td>southwest</td>\n",
       "      <td>2007.95</td>\n",
       "    </tr>\n",
       "    <tr>\n",
       "      <th>1337</th>\n",
       "      <td>61</td>\n",
       "      <td>female</td>\n",
       "      <td>29.1</td>\n",
       "      <td>0</td>\n",
       "      <td>yes</td>\n",
       "      <td>northwest</td>\n",
       "      <td>29141.36</td>\n",
       "    </tr>\n",
       "  </tbody>\n",
       "</table>\n",
       "</div>"
      ],
      "text/plain": [
       "      age     sex   bmi  children smoker     region  expenses\n",
       "1333   50    male  31.0         3     no  northwest  10600.55\n",
       "1334   18  female  31.9         0     no  northeast   2205.98\n",
       "1335   18  female  36.9         0     no  southeast   1629.83\n",
       "1336   21  female  25.8         0     no  southwest   2007.95\n",
       "1337   61  female  29.1         0    yes  northwest  29141.36"
      ]
     },
     "execution_count": 7,
     "metadata": {},
     "output_type": "execute_result"
    }
   ],
   "source": [
    "# bottom 5 rows:\n",
    "insured.tail(5)"
   ]
  },
  {
   "cell_type": "code",
   "execution_count": 13,
   "metadata": {},
   "outputs": [
    {
     "data": {
      "text/plain": [
       "(1338, 7)"
      ]
     },
     "execution_count": 13,
     "metadata": {},
     "output_type": "execute_result"
    }
   ],
   "source": [
    "insured.shape"
   ]
  },
  {
   "cell_type": "code",
   "execution_count": 17,
   "metadata": {},
   "outputs": [
    {
     "data": {
      "text/plain": [
       "['age', 'sex', 'bmi', 'children', 'smoker', 'region', 'expenses']"
      ]
     },
     "execution_count": 17,
     "metadata": {},
     "output_type": "execute_result"
    }
   ],
   "source": [
    "# list(insured.columns)\n",
    "insured.columns.tolist()"
   ]
  },
  {
   "cell_type": "code",
   "execution_count": 22,
   "metadata": {},
   "outputs": [
    {
     "data": {
      "text/plain": [
       "age         0\n",
       "sex         0\n",
       "bmi         0\n",
       "children    0\n",
       "smoker      0\n",
       "region      0\n",
       "expenses    0\n",
       "dtype: int64"
      ]
     },
     "execution_count": 22,
     "metadata": {},
     "output_type": "execute_result"
    }
   ],
   "source": [
    "insured.isnull().sum()"
   ]
  },
  {
   "cell_type": "code",
   "execution_count": 23,
   "metadata": {},
   "outputs": [
    {
     "data": {
      "text/plain": [
       "0"
      ]
     },
     "execution_count": 23,
     "metadata": {},
     "output_type": "execute_result"
    }
   ],
   "source": [
    "insured.isnull().sum().values.sum()"
   ]
  },
  {
   "cell_type": "code",
   "execution_count": 24,
   "metadata": {},
   "outputs": [
    {
     "data": {
      "text/plain": [
       "age           47\n",
       "sex            2\n",
       "bmi          275\n",
       "children       6\n",
       "smoker         2\n",
       "region         4\n",
       "expenses    1337\n",
       "dtype: int64"
      ]
     },
     "execution_count": 24,
     "metadata": {},
     "output_type": "execute_result"
    }
   ],
   "source": [
    "insured.nunique()"
   ]
  },
  {
   "cell_type": "code",
   "execution_count": 25,
   "metadata": {},
   "outputs": [
    {
     "name": "stdout",
     "output_type": "stream",
     "text": [
      "Rows     :  1338\n",
      "Columns  :  7\n",
      "\n",
      "Features : \n",
      " ['age', 'sex', 'bmi', 'children', 'smoker', 'region', 'expenses']\n",
      "\n",
      "Missing values :   0\n",
      "\n",
      "Unique values :  \n",
      " age           47\n",
      "sex            2\n",
      "bmi          275\n",
      "children       6\n",
      "smoker         2\n",
      "region         4\n",
      "expenses    1337\n",
      "dtype: int64\n"
     ]
    }
   ],
   "source": [
    "#get the size of dataframe\n",
    "print (\"Rows     : \" , insured.shape[0])\n",
    "print (\"Columns  : \" , insured.shape[1])\n",
    "\n",
    "print (\"\\nFeatures : \\n\", insured.columns.tolist())\n",
    "\n",
    "print (\"\\nMissing values :  \", insured.isnull().sum().values.sum())\n",
    "print (\"\\nUnique values :  \\n\", insured.nunique())\n"
   ]
  },
  {
   "cell_type": "code",
   "execution_count": 26,
   "metadata": {},
   "outputs": [
    {
     "name": "stdout",
     "output_type": "stream",
     "text": [
      "<class 'pandas.core.frame.DataFrame'>\n",
      "RangeIndex: 1338 entries, 0 to 1337\n",
      "Data columns (total 7 columns):\n",
      " #   Column    Non-Null Count  Dtype  \n",
      "---  ------    --------------  -----  \n",
      " 0   age       1338 non-null   int64  \n",
      " 1   sex       1338 non-null   object \n",
      " 2   bmi       1338 non-null   float64\n",
      " 3   children  1338 non-null   int64  \n",
      " 4   smoker    1338 non-null   object \n",
      " 5   region    1338 non-null   object \n",
      " 6   expenses  1338 non-null   float64\n",
      "dtypes: float64(2), int64(2), object(3)\n",
      "memory usage: 73.3+ KB\n"
     ]
    }
   ],
   "source": [
    "insured.info()"
   ]
  },
  {
   "cell_type": "code",
   "execution_count": 28,
   "metadata": {},
   "outputs": [
    {
     "data": {
      "text/html": [
       "<div>\n",
       "<style scoped>\n",
       "    .dataframe tbody tr th:only-of-type {\n",
       "        vertical-align: middle;\n",
       "    }\n",
       "\n",
       "    .dataframe tbody tr th {\n",
       "        vertical-align: top;\n",
       "    }\n",
       "\n",
       "    .dataframe thead th {\n",
       "        text-align: right;\n",
       "    }\n",
       "</style>\n",
       "<table border=\"1\" class=\"dataframe\">\n",
       "  <thead>\n",
       "    <tr style=\"text-align: right;\">\n",
       "      <th></th>\n",
       "      <th>age</th>\n",
       "      <th>bmi</th>\n",
       "      <th>children</th>\n",
       "      <th>expenses</th>\n",
       "    </tr>\n",
       "  </thead>\n",
       "  <tbody>\n",
       "    <tr>\n",
       "      <th>count</th>\n",
       "      <td>1338.000000</td>\n",
       "      <td>1338.000000</td>\n",
       "      <td>1338.000000</td>\n",
       "      <td>1338.000000</td>\n",
       "    </tr>\n",
       "    <tr>\n",
       "      <th>mean</th>\n",
       "      <td>39.207025</td>\n",
       "      <td>30.665471</td>\n",
       "      <td>1.094918</td>\n",
       "      <td>13270.422414</td>\n",
       "    </tr>\n",
       "    <tr>\n",
       "      <th>std</th>\n",
       "      <td>14.049960</td>\n",
       "      <td>6.098382</td>\n",
       "      <td>1.205493</td>\n",
       "      <td>12110.011240</td>\n",
       "    </tr>\n",
       "    <tr>\n",
       "      <th>min</th>\n",
       "      <td>18.000000</td>\n",
       "      <td>16.000000</td>\n",
       "      <td>0.000000</td>\n",
       "      <td>1121.870000</td>\n",
       "    </tr>\n",
       "    <tr>\n",
       "      <th>25%</th>\n",
       "      <td>27.000000</td>\n",
       "      <td>26.300000</td>\n",
       "      <td>0.000000</td>\n",
       "      <td>4740.287500</td>\n",
       "    </tr>\n",
       "    <tr>\n",
       "      <th>50%</th>\n",
       "      <td>39.000000</td>\n",
       "      <td>30.400000</td>\n",
       "      <td>1.000000</td>\n",
       "      <td>9382.030000</td>\n",
       "    </tr>\n",
       "    <tr>\n",
       "      <th>75%</th>\n",
       "      <td>51.000000</td>\n",
       "      <td>34.700000</td>\n",
       "      <td>2.000000</td>\n",
       "      <td>16639.915000</td>\n",
       "    </tr>\n",
       "    <tr>\n",
       "      <th>max</th>\n",
       "      <td>64.000000</td>\n",
       "      <td>53.100000</td>\n",
       "      <td>5.000000</td>\n",
       "      <td>63770.430000</td>\n",
       "    </tr>\n",
       "  </tbody>\n",
       "</table>\n",
       "</div>"
      ],
      "text/plain": [
       "               age          bmi     children      expenses\n",
       "count  1338.000000  1338.000000  1338.000000   1338.000000\n",
       "mean     39.207025    30.665471     1.094918  13270.422414\n",
       "std      14.049960     6.098382     1.205493  12110.011240\n",
       "min      18.000000    16.000000     0.000000   1121.870000\n",
       "25%      27.000000    26.300000     0.000000   4740.287500\n",
       "50%      39.000000    30.400000     1.000000   9382.030000\n",
       "75%      51.000000    34.700000     2.000000  16639.915000\n",
       "max      64.000000    53.100000     5.000000  63770.430000"
      ]
     },
     "execution_count": 28,
     "metadata": {},
     "output_type": "execute_result"
    }
   ],
   "source": [
    "insured.describe()"
   ]
  },
  {
   "cell_type": "code",
   "execution_count": 31,
   "metadata": {},
   "outputs": [
    {
     "data": {
      "text/plain": [
       "0       female\n",
       "1         male\n",
       "2         male\n",
       "3         male\n",
       "4         male\n",
       "         ...  \n",
       "1333      male\n",
       "1334    female\n",
       "1335    female\n",
       "1336    female\n",
       "1337    female\n",
       "Name: sex, Length: 1338, dtype: category\n",
       "Categories (2, object): ['female', 'male']"
      ]
     },
     "execution_count": 31,
     "metadata": {},
     "output_type": "execute_result"
    }
   ],
   "source": [
    "insured.sex\n"
   ]
  },
  {
   "cell_type": "markdown",
   "metadata": {},
   "source": [
    "**Types of variables**\n",
    "\n",
    "- Categorical varibles - sex,smoker,region,children\n",
    "-  Quantitative variables -age,bmi,charges. Here children is a discrete variable where as age, bmi, and charges are continous variables.\n",
    "\n",
    "- There are no missing values"
   ]
  },
  {
   "cell_type": "code",
   "execution_count": 32,
   "metadata": {},
   "outputs": [],
   "source": [
    "#changing object dtype to category  to save memory\n",
    "insured.sex=insured['sex'].astype(\"category\")\n",
    "insured.smoker=insured['smoker'].astype(\"category\")\n",
    "insured.region=insured['region'].astype(\"category\")\n"
   ]
  },
  {
   "cell_type": "code",
   "execution_count": null,
   "metadata": {},
   "outputs": [],
   "source": [
    "insured.info()"
   ]
  },
  {
   "cell_type": "code",
   "execution_count": null,
   "metadata": {},
   "outputs": [],
   "source": [
    "insured.describe()"
   ]
  },
  {
   "cell_type": "markdown",
   "metadata": {},
   "source": [
    "**Observations**\n",
    " - Average age of the primary beneficiary is 39.2 and maximum age is 64.\n",
    " - Average BMI is 30.66, that is out of normal BMI range, Maximum BMI is 53.13\n",
    " - Average medical costs billed to health insurance is 13270, median is 9382 and maximum is 63770\n",
    " - Median is less than mean in charges , indicating distrubution is postively skewed .\n",
    " - Customer on an average has 1 child.\n",
    " - For Age, BMI, children , mean is almost equal to median , suggesting data is normally distrubuted \n",
    " \n",
    "    "
   ]
  },
  {
   "cell_type": "code",
   "execution_count": 33,
   "metadata": {},
   "outputs": [
    {
     "data": {
      "text/html": [
       "<div>\n",
       "<style scoped>\n",
       "    .dataframe tbody tr th:only-of-type {\n",
       "        vertical-align: middle;\n",
       "    }\n",
       "\n",
       "    .dataframe tbody tr th {\n",
       "        vertical-align: top;\n",
       "    }\n",
       "\n",
       "    .dataframe thead th {\n",
       "        text-align: right;\n",
       "    }\n",
       "</style>\n",
       "<table border=\"1\" class=\"dataframe\">\n",
       "  <thead>\n",
       "    <tr style=\"text-align: right;\">\n",
       "      <th></th>\n",
       "      <th>sex</th>\n",
       "      <th>smoker</th>\n",
       "      <th>region</th>\n",
       "    </tr>\n",
       "  </thead>\n",
       "  <tbody>\n",
       "    <tr>\n",
       "      <th>count</th>\n",
       "      <td>1338</td>\n",
       "      <td>1338</td>\n",
       "      <td>1338</td>\n",
       "    </tr>\n",
       "    <tr>\n",
       "      <th>unique</th>\n",
       "      <td>2</td>\n",
       "      <td>2</td>\n",
       "      <td>4</td>\n",
       "    </tr>\n",
       "    <tr>\n",
       "      <th>top</th>\n",
       "      <td>male</td>\n",
       "      <td>no</td>\n",
       "      <td>southeast</td>\n",
       "    </tr>\n",
       "    <tr>\n",
       "      <th>freq</th>\n",
       "      <td>676</td>\n",
       "      <td>1064</td>\n",
       "      <td>364</td>\n",
       "    </tr>\n",
       "  </tbody>\n",
       "</table>\n",
       "</div>"
      ],
      "text/plain": [
       "         sex smoker     region\n",
       "count   1338   1338       1338\n",
       "unique     2      2          4\n",
       "top     male     no  southeast\n",
       "freq     676   1064        364"
      ]
     },
     "execution_count": 33,
     "metadata": {},
     "output_type": "execute_result"
    }
   ],
   "source": [
    "#Are there more Male beneficary ?\n",
    "# Are there more smoker ?\n",
    "# which region has maximum , claims .?\n",
    "\n",
    "insured.describe(include='category')"
   ]
  },
  {
   "cell_type": "code",
   "execution_count": 36,
   "metadata": {},
   "outputs": [
    {
     "name": "stdout",
     "output_type": "stream",
     "text": [
      "Index(['sex', 'smoker', 'region'], dtype='object')\n"
     ]
    }
   ],
   "source": [
    "print(insured.select_dtypes(['category']).columns)\n"
   ]
  },
  {
   "cell_type": "code",
   "execution_count": 34,
   "metadata": {},
   "outputs": [
    {
     "name": "stdout",
     "output_type": "stream",
     "text": [
      "male      676\n",
      "female    662\n",
      "Name: sex, dtype: int64\n",
      "no     1064\n",
      "yes     274\n",
      "Name: smoker, dtype: int64\n",
      "southeast    364\n",
      "northwest    325\n",
      "southwest    325\n",
      "northeast    324\n",
      "Name: region, dtype: int64\n"
     ]
    }
   ],
   "source": [
    "# get counts of unique observations for each category variable\n",
    "list_col=  insured.select_dtypes(['category']).columns\n",
    "for i in range(len(list_col)):\n",
    "    print(insured[list_col[i]].value_counts())\n"
   ]
  },
  {
   "cell_type": "markdown",
   "metadata": {},
   "source": [
    "**Observations**\n",
    " - 676 male and 662 female, indicated sample has  slightly more males than females. \n",
    " - 1064 nonsomker and 274 smoker, indicating sample has more nonsmokers.\n",
    " - Number of  claims from customer who reside in southwest region is more compared to other regions\n"
   ]
  },
  {
   "cell_type": "markdown",
   "metadata": {},
   "source": [
    "# Exploratory Data Analysis"
   ]
  },
  {
   "cell_type": "markdown",
   "metadata": {},
   "source": [
    "## Univariate Analysis"
   ]
  },
  {
   "cell_type": "code",
   "execution_count": null,
   "metadata": {},
   "outputs": [],
   "source": [
    "def dist_box(data):\n",
    " # function plots a combined graph for univariate analysis of continous variable \n",
    " #to check spread, central tendency , dispersion and outliers  \n",
    "    Name=data.name.upper()\n",
    "    fig,(ax_box,ax_dis)  =plt.subplots(2,1,gridspec_kw = {\"height_ratios\": (.25, .75)},figsize=(8, 5))\n",
    "    mean=data.mean()\n",
    "    median=data.median()\n",
    "    mode=data.mode().tolist()[0]\n",
    "    fig.suptitle(\"SPREAD OF DATA FOR \"+ Name  , fontsize=18, fontweight='bold')\n",
    "    sns.boxplot(x=data,showmeans=True, orient='h',color=\"violet\",ax=ax_box)\n",
    "    ax_box.set(xlabel='')\n",
    "    sns.distplot(data,kde=False,color='blue',ax=ax_dis)\n",
    "    ax_dis.axvline(mean, color='r', linestyle='--',linewidth=2)\n",
    "    ax_dis.axvline(median, color='g', linestyle='-',linewidth=2)\n",
    "    ax_dis.axvline(mode, color='y', linestyle='-',linewidth=2)\n",
    "    plt.legend({'Mean':mean,'Median':median,'Mode':mode})\n",
    "   "
   ]
  },
  {
   "cell_type": "code",
   "execution_count": null,
   "metadata": {},
   "outputs": [],
   "source": [
    "#select all quantitative columns for checking the spread\n",
    "list_col=  insured.select_dtypes([np.number]).columns\n",
    "for i in range(len(list_col)):\n",
    "    dist_box(insured[list_col[i]])\n",
    "    "
   ]
  },
  {
   "cell_type": "markdown",
   "metadata": {},
   "source": [
    "**Observations**\n",
    "- Age of primary beneficary lies approximately between 20 - 65 . Average Age is aprrox. 40. Majority of customer are in range 18- 20's.\n",
    "- Bmi is normally distrubuted and Average BMI of beneficiary is 30.This BMI is outside the normal range of BMI. There are lot of outliers at upper end\n",
    "- Most of the beneficary have no childrens.\n",
    "- Charges distrubution is unimodal and is right skewed .Average cost incured to the insurance is appro. 130000 and highest charge is 63770.There are lot of outliers at upper end."
   ]
  },
  {
   "cell_type": "code",
   "execution_count": null,
   "metadata": {},
   "outputs": [],
   "source": [
    "# Function to create barplots that indicate percentage for each category.\n",
    "def bar_perc(plot, feature):\n",
    "    total = len(feature) # length of the column\n",
    "    for p in plot.patches:\n",
    "        percentage = '{:.1f}%'.format(100 * p.get_height()/total) # percentage of each class of the category\n",
    "        x = p.get_x() + p.get_width() / 2 - 0.05 # width of the plot\n",
    "        y = p.get_y() + p.get_height()           # hieght of the plot\n",
    "        plot.annotate(percentage, (x, y), size = 12) # annotate the percentage\n",
    "    "
   ]
  },
  {
   "cell_type": "code",
   "execution_count": null,
   "metadata": {},
   "outputs": [],
   "source": [
    "#get all category datatype \n",
    "list_col=  insured.select_dtypes(['category']).columns\n",
    "fig1, axes1 =plt.subplots(1,3,figsize=(14, 5))\n",
    "for i in range(len(list_col)):\n",
    "    order = insured[list_col[i]].value_counts(ascending=False).index # to display bar in ascending order\n",
    "    axis=sns.countplot(x=list_col[i], data=insured , order=order,ax=axes1[i],palette='viridis').set(title=list_col[i].upper())\n",
    "    bar_perc(axes1[i],insured[list_col[i]])"
   ]
  },
  {
   "cell_type": "markdown",
   "metadata": {},
   "source": [
    "**Observations**\n",
    " - 50.5% of beneficiary are male and 49.5 % are female. Approximately same number of male and female beneficiary.\n",
    " - 20.5% of beneficary are smokers.\n",
    " - Beneficary are evenly distributed across regions with South East being the most populous one (~27%) with the rest of regions each containing around ~24% \n",
    " - Most of the beneficiary don't have kid."
   ]
  },
  {
   "cell_type": "markdown",
   "metadata": {},
   "source": [
    "## Bivariate & Multivariate Analysis"
   ]
  },
  {
   "cell_type": "code",
   "execution_count": null,
   "metadata": {},
   "outputs": [],
   "source": [
    "plt.figure(figsize=(15,5))\n",
    "sns.heatmap(insured.corr(),annot=True ,cmap=\"YlGn\" )\n",
    "plt.show()"
   ]
  },
  {
   "cell_type": "code",
   "execution_count": null,
   "metadata": {},
   "outputs": [],
   "source": [
    "cat_columns=insured.select_dtypes(['category']).columns\n",
    "cat_columns\n"
   ]
  },
  {
   "cell_type": "markdown",
   "metadata": {},
   "source": [
    "**Observation**\n",
    " - There is  very little significant correlation between charges &age and charges and bmi.\n"
   ]
  },
  {
   "cell_type": "code",
   "execution_count": null,
   "metadata": {},
   "outputs": [],
   "source": [
    "sns.pairplot(data=insured , corner=True)\n",
    "plt.show()"
   ]
  },
  {
   "cell_type": "code",
   "execution_count": null,
   "metadata": {},
   "outputs": [],
   "source": [
    "#Sex vs all numerical variable\n",
    "fig1, axes1 =plt.subplots(2,2,figsize=(14, 11))\n",
    "#select all quantitative columns for checking the spread\n",
    "list_col=  insured.select_dtypes([np.number]).columns\n",
    "for i in range(len(list_col)):\n",
    "    row=i//2\n",
    "    col=i%2\n",
    "    ax=axes1[row,col]\n",
    "    sns.boxplot(y=insured[list_col[i]],x=insured['sex'],ax=ax,palette=\"PuBu\", orient='v').set(title='SEX VS '+ list_col[i].upper())\n",
    "    \n",
    "    "
   ]
  },
  {
   "cell_type": "markdown",
   "metadata": {},
   "source": [
    "**Observation**\n",
    " - Avergae Age of female beneficiary is slightly higher than male beneficiary\n",
    " - No of children both male and female beneficary have is same\n",
    " - BMI of Male policy holder has many outliers and Average BMI of male is slightly higher than female\n",
    " - Male policy holder has incure more charges to insurance compared to female policy holder. There are lot of outliers in female policy holder"
   ]
  },
  {
   "cell_type": "code",
   "execution_count": null,
   "metadata": {},
   "outputs": [],
   "source": [
    "#smoker vs all numerical variables\n",
    "fig1, axes1 =plt.subplots(2,2,figsize=(14, 11))\n",
    "#select all quantitative columns for checking the spread\n",
    "list_col=  insured.select_dtypes([np.number]).columns\n",
    "for i in range(len(list_col)):\n",
    "    row=i//2\n",
    "    col=i%2\n",
    "    ax=axes1[row,col]\n",
    "    sns.boxplot(y=insured[list_col[i]],x=insured['smoker'],ax=ax,palette=\"PuBu\",orient='v').set(title='SMOKER VS '+ list_col[i].upper()  )\n",
    "    "
   ]
  },
  {
   "cell_type": "markdown",
   "metadata": {},
   "source": [
    "**Observation**\n",
    "- Smoker have incured more cost to insurance than nonsmoker. There are outliers in nonsmoker , need to analyze.\n",
    "- BMI of non smoker has lot of outliers."
   ]
  },
  {
   "cell_type": "code",
   "execution_count": null,
   "metadata": {},
   "outputs": [],
   "source": [
    "#region vs all numerical variable\n",
    "fig1, axes1 =plt.subplots(2,2,figsize=(14, 11))\n",
    "#select all quantitative columns for checking the outliers\n",
    "list_col=  insured.select_dtypes([np.number]).columns\n",
    "for i in range(len(list_col)):\n",
    "    row=i//2\n",
    "    col=i%2\n",
    "    ax=axes1[row,col]\n",
    "    sns.boxplot(y=insured[list_col[i]],x=insured['region'],ax=ax,palette=\"PuBu\",orient='v').set(title='REGION VS '+ list_col[i].upper()  )\n",
    "    "
   ]
  },
  {
   "cell_type": "markdown",
   "metadata": {},
   "source": [
    "**Observations**\n",
    " - Age  and numnber of children across regions is almost same.\n",
    " - Average Bmi of policy holder from southeast higher compared to other regions\n",
    " - Charges incured because of policy holder from southeast is higher compared to othe regions\n",
    " - There are lot of outliers on upper end in charges\n"
   ]
  },
  {
   "cell_type": "code",
   "execution_count": null,
   "metadata": {
    "scrolled": true
   },
   "outputs": [],
   "source": [
    "#smoker vs Sex\n",
    "plt.figure(figsize=(13,5))\n",
    "ax=sns.countplot(x='smoker',hue='sex',data=insured,palette='rainbow')\n",
    "bar_perc(ax,insured['sex'])\n",
    "ax.set(title=\"Smoker vs Sex\")"
   ]
  },
  {
   "cell_type": "code",
   "execution_count": null,
   "metadata": {},
   "outputs": [],
   "source": [
    "#smoker vs charges\n",
    "sns.barplot(x=insured.smoker,y=insured.charges).set(title=\"Smoker vs Charges\")"
   ]
  },
  {
   "cell_type": "code",
   "execution_count": null,
   "metadata": {},
   "outputs": [],
   "source": [
    "#region vs smoker\n",
    "plt.figure(figsize=(13,5))\n",
    "ax=sns.countplot(x='region',hue='smoker',data=insured)\n",
    "bar_perc(ax,insured['smoker'])\n",
    "ax.set(title=\"Smoker vs Region\")"
   ]
  },
  {
   "cell_type": "markdown",
   "metadata": {},
   "source": [
    "**Observation**\n",
    "- There are more male smokers than female.\n",
    "- Southeast region has more smokers\n",
    "- Smoker have more costlier claims than nonsmoker."
   ]
  },
  {
   "cell_type": "code",
   "execution_count": null,
   "metadata": {},
   "outputs": [],
   "source": [
    "plt.figure(figsize=(13,5))\n",
    "ax=sns.countplot(x='region',hue='sex',data=insured,palette='spring')\n",
    "bar_perc(ax,insured['sex'])\n",
    "ax.set(title=\"Sex vs Region\")"
   ]
  },
  {
   "cell_type": "markdown",
   "metadata": {},
   "source": [
    "**Observations**\n",
    " - There are more smokers in southeast region compared to other regions."
   ]
  },
  {
   "cell_type": "code",
   "execution_count": null,
   "metadata": {},
   "outputs": [],
   "source": [
    "insured.groupby(insured.sex).charges.mean()"
   ]
  },
  {
   "cell_type": "code",
   "execution_count": null,
   "metadata": {},
   "outputs": [],
   "source": [
    "sns.barplot(x=insured.children,y=insured.charges).set(title=\"Children vs Charges\")"
   ]
  },
  {
   "cell_type": "code",
   "execution_count": null,
   "metadata": {},
   "outputs": [],
   "source": [
    "sns.barplot(x=insured.sex,y=insured.charges).set(title='Sex Vs Charges')"
   ]
  },
  {
   "cell_type": "code",
   "execution_count": null,
   "metadata": {},
   "outputs": [],
   "source": [
    "sns.barplot(x='region',y='charges',data=insured).set(title='Region Vs Charges')"
   ]
  },
  {
   "cell_type": "code",
   "execution_count": null,
   "metadata": {
    "scrolled": true
   },
   "outputs": [],
   "source": [
    "plt.figure(figsize=(15,7))\n",
    "sns.lineplot(insured[\"age\"],insured[\"charges\"],hue=insured[\"sex\"],ci=0).set(title= 'Cost incured by Age for Female and Males')\n",
    "plt.legend(bbox_to_anchor=(1.00, 1))\n",
    "plt.show()"
   ]
  },
  {
   "cell_type": "code",
   "execution_count": null,
   "metadata": {},
   "outputs": [],
   "source": [
    "df_smoker_char_sex=pd.crosstab(index=insured.smoker,columns=insured.sex , values=insured.charges,aggfunc='sum')\n",
    "fig1, axes1=plt.subplots(1,1,figsize=(13, 7))\n",
    "df_smoker_char_sex.plot(kind='bar',ax=axes1,title=\"Smoker Vs Charges for Males and Females\")\n",
    "plt.legend(loc='upper left')\n",
    "plt.show()"
   ]
  },
  {
   "cell_type": "markdown",
   "metadata": {},
   "source": [
    "**Observations**\n",
    " - Charges incurred for males are more than charges incured for females\n",
    " - With increasing age of policy holder charges incured are going high for both male and female.\n",
    " - There some spikes for female at an approximate ages of 23,28,43.\n",
    " - Most claims are from southeast regions.\n",
    " - Males who smoke have most claims and have higher bills \n",
    " - Number of claims made by female who dont smoke is more compared to female who smoke.\n",
    " \n",
    " \n"
   ]
  },
  {
   "cell_type": "code",
   "execution_count": null,
   "metadata": {},
   "outputs": [],
   "source": [
    "#creating groups of bmi\n",
    "category=pd.cut(insured.bmi,bins=[15,25,35,45,55],labels=['15-25','25-35','35-45','45-55'])\n",
    "insured.insert(5,'BMIGroup',category)\n"
   ]
  },
  {
   "cell_type": "code",
   "execution_count": null,
   "metadata": {},
   "outputs": [],
   "source": [
    "insured.head()"
   ]
  },
  {
   "cell_type": "code",
   "execution_count": null,
   "metadata": {},
   "outputs": [],
   "source": [
    "#no of children has no relation with charges\n",
    "insured.groupby(insured.children).charges.mean()"
   ]
  },
  {
   "cell_type": "code",
   "execution_count": null,
   "metadata": {},
   "outputs": [],
   "source": [
    "insured.groupby(insured.BMIGroup).charges.mean()"
   ]
  },
  {
   "cell_type": "code",
   "execution_count": null,
   "metadata": {},
   "outputs": [],
   "source": [
    "category1=pd.cut(insured.age,bins=[18,28,38,48,58,68],labels=['18-28','28-38','38-48','48-58','58-68'])\n",
    "insured.insert(6,'AgeBin',category1)"
   ]
  },
  {
   "cell_type": "code",
   "execution_count": null,
   "metadata": {},
   "outputs": [],
   "source": [
    "insured.groupby(insured.AgeBin).charges.mean()"
   ]
  },
  {
   "cell_type": "code",
   "execution_count": null,
   "metadata": {},
   "outputs": [],
   "source": [
    "insured.groupby(['region','sex','smoker']).mean()['charges'].unstack()"
   ]
  },
  {
   "cell_type": "code",
   "execution_count": null,
   "metadata": {},
   "outputs": [],
   "source": [
    "sns.barplot(x=insured.AgeBin,y=insured.charges).set(title='Age Vs Charges')"
   ]
  },
  {
   "cell_type": "code",
   "execution_count": null,
   "metadata": {},
   "outputs": [],
   "source": [
    "sns.barplot(x=insured.BMIGroup,y=insured.charges)"
   ]
  },
  {
   "cell_type": "code",
   "execution_count": null,
   "metadata": {},
   "outputs": [],
   "source": [
    "plt.figure(figsize=(15,7))\n",
    "sns.barplot(x=insured[\"BMIGroup\"],y=insured[\"age\"],hue=insured['sex'],ci=0).set(title= 'Age and Bmi of Males and Females')\n",
    "plt.legend(bbox_to_anchor=(1.00, 1))\n",
    "plt.show()"
   ]
  },
  {
   "cell_type": "code",
   "execution_count": null,
   "metadata": {},
   "outputs": [],
   "source": [
    "sns.barplot(x='BMIGroup',y='charges',hue='sex',data=insured).set(title=\"Fig 2:BMI group and Charges \" )"
   ]
  },
  {
   "cell_type": "markdown",
   "metadata": {},
   "source": [
    "**Observations**\n",
    "- FeMales with most BMI has incured most charges to the insurance company\n",
    "- BMI for male and females are not same\n",
    "- Beneficary with higher BMI have incurred more cost to insurance."
   ]
  },
  {
   "cell_type": "code",
   "execution_count": null,
   "metadata": {},
   "outputs": [],
   "source": [
    "pd.crosstab(insured['sex'],insured['children'])\n"
   ]
  },
  {
   "cell_type": "code",
   "execution_count": null,
   "metadata": {},
   "outputs": [],
   "source": [
    "plt.figure(figsize=(25,10))\n",
    "g=sns.FacetGrid(insured,row='smoker',height=4, aspect=2)\n",
    "g=(g.map(plt.scatter ,'age','charges').add_legend())"
   ]
  },
  {
   "cell_type": "code",
   "execution_count": null,
   "metadata": {},
   "outputs": [],
   "source": [
    "sns.relplot(x=insured.BMIGroup, y=insured.charges, hue=insured.smoker, size= insured.AgeBin,\n",
    "            sizes=(40, 400), alpha=.5, palette=\"spring\",\n",
    "            height=6, data=insured).set(title='Charges by Age,BMI,Smoker');"
   ]
  },
  {
   "cell_type": "markdown",
   "metadata": {},
   "source": [
    "**Observation**\n",
    "- Males who smoker have incured more cost compared to nonsmokers.\n",
    "- As age increased claims increased\n",
    "-Smoker have higher medical claims"
   ]
  },
  {
   "cell_type": "markdown",
   "metadata": {},
   "source": [
    "# Conclusion based on EDA\n",
    "- As expected , as the age of the beneficiary  increases ,the cost to insurance increases.\n",
    "- Males who smoke have most claims and have higher bills.\n",
    "- Female who are nonsmoker also have more claims to nonsmoker males this may be because of child birth , need to explore claims type to understand better.\n",
    "- Beneficiary with 2 or 3 dependent  have billed higher compared to others people who have 5.This is unusual and may be because of  uneven number of observations in each group. For example, no dependents group has 574 observations whereas five dependents group only has 18.\n",
    "- Customer with bmi  >30 are  on higher side of obesity, have more health issues and have higher claims.\n",
    "- Females with BMI more than 45 have billed higher to insurance.\n",
    "- Age, BMI and Smoking are important attributes which can cost insurance company more.\n"
   ]
  },
  {
   "cell_type": "markdown",
   "metadata": {},
   "source": [
    "# Statistical Analysis"
   ]
  },
  {
   "cell_type": "markdown",
   "metadata": {},
   "source": [
    "# 1.Prove (or disprove) that the medical claims made by the people who smoke is greater than those who don't?"
   ]
  },
  {
   "cell_type": "markdown",
   "metadata": {},
   "source": [
    "<div class =\"alert alert-block alert-info\">\n",
    "    <font size=3><b>    Step 1: Define null and alternative hypothesis</b></font><br>\n",
    "$\\ H_0  :  \\mu_1 <= \\mu_2  $ The average charges of smokers is less than or equal to nonsmokers \n",
    " <br>\n",
    " \n",
    "\n",
    "$\\ H_a  :\\mu_1 > \\mu_2 $ The average charges of smokers is greater than nonsmokers  <br>\n",
    "</div>"
   ]
  },
  {
   "cell_type": "markdown",
   "metadata": {},
   "source": [
    "<div class =\"alert alert-block alert-info\">\n",
    "    <font size=3><b>Step 2: Decide the significance level. If P values is less than alpha reject the null hypothesis.</b></font>\n",
    "\n",
    "α = 0.05"
   ]
  },
  {
   "cell_type": "markdown",
   "metadata": {},
   "source": [
    "<div class =\"alert alert-block alert-info\">\n",
    "    <font size=3><b>Step 3: Identify the test</b></font>\n",
    "\n",
    "Standard deviation of the population is not known  ,will perform a T stat test .  The > sign in alternate hypothesis indicate  test is right tailed, that is all z values that would cause us to reject null hypothesis are in just one tail to the right of  sampling  distribution curve.\n",
    "\n",
    "    \n"
   ]
  },
  {
   "cell_type": "markdown",
   "metadata": {},
   "source": [
    "<div class =\"alert alert-block alert-info\">\n",
    "    <font size=3><b>Step 4: Calculate the test-statistics and p-value</b></font>"
   ]
  },
  {
   "cell_type": "code",
   "execution_count": null,
   "metadata": {},
   "outputs": [],
   "source": [
    "smoker=insured.loc[insured.smoker==\"yes\"]\n",
    "smoker.head()"
   ]
  },
  {
   "cell_type": "code",
   "execution_count": null,
   "metadata": {},
   "outputs": [],
   "source": [
    "smoker.count()"
   ]
  },
  {
   "cell_type": "code",
   "execution_count": null,
   "metadata": {},
   "outputs": [],
   "source": [
    "nonsmoker=insured.loc[insured.smoker=='no']\n",
    "nonsmoker.head()"
   ]
  },
  {
   "cell_type": "code",
   "execution_count": null,
   "metadata": {},
   "outputs": [],
   "source": [
    "nonsmoker.count()"
   ]
  },
  {
   "cell_type": "code",
   "execution_count": null,
   "metadata": {},
   "outputs": [],
   "source": [
    "# Adjusting the size of the rows to be equal\n",
    "nonsmoker = nonsmoker[-274:]\n",
    "charges_yes = smoker.charges\n",
    "charges_no = nonsmoker.charges"
   ]
  },
  {
   "cell_type": "code",
   "execution_count": null,
   "metadata": {},
   "outputs": [],
   "source": [
    "print('Average Cost charged to Insurance for smoker is {} and nonsmoker is {} '.format(charges_yes.mean(),charges_no.mean()))\n"
   ]
  },
  {
   "cell_type": "code",
   "execution_count": null,
   "metadata": {},
   "outputs": [],
   "source": [
    "#smoker vs charges\n",
    "sns.boxplot(x=insured.charges,y=insured.smoker,data=insured).set(title=\"Fig:1 Smoker vs Charges\")"
   ]
  },
  {
   "cell_type": "code",
   "execution_count": null,
   "metadata": {},
   "outputs": [],
   "source": [
    "alpha=0.05\n",
    "t_statistic_1, p_value_1 = stats.ttest_ind(charges_yes, charges_no)\n",
    "p_value_onetail=p_value_1/2\n",
    "\n",
    "print(\"Test statistic = {} , Pvalue ={} , OnetailPvalue = {}\".format(t_statistic_1,p_value_1, p_value_onetail ))\n"
   ]
  },
  {
   "cell_type": "code",
   "execution_count": null,
   "metadata": {},
   "outputs": [],
   "source": [
    "if p_value_1 <alpha :\n",
    "    print(\"Conclusion:Since P value {} is less than alpha {} \". format (p_value_onetail,alpha) )\n",
    "    print(\"Reject Null Hypothesis that Average charges for smokers are less than or equal to nonsmoker.\")\n",
    "    \n",
    "else:\n",
    "    print(\"Conclusion:Since P value {} is greater than alpha {} \". format (p_value_onetail,alpha))\n",
    "    print(\"Failed to Reject Null Hypothesis that Average charges for smokers are less than nonsmoker.\")"
   ]
  },
  {
   "cell_type": "markdown",
   "metadata": {},
   "source": [
    "<div class =\"alert alert-block alert-info\">\n",
    "    <font size=3><b>Step 5: Decide whethere to  reject or failed to reject null hypothesis</b></font><br>    \n",
    "    We reject the null hypothesis and can conclude that people who smoke have on an average larger medical claim compared to people who don't smoke. Similar result can also been seen in Fig no.1 Smokers Vs Charges"
   ]
  },
  {
   "cell_type": "markdown",
   "metadata": {},
   "source": [
    "# 2.Prove (or disprove) with statistical evidence that the BMI of females is different from that of males."
   ]
  },
  {
   "cell_type": "markdown",
   "metadata": {},
   "source": [
    "<div class =\"alert alert-block alert-info\">\n",
    "    Let $\\mu_1 \\mu_2 $ and be the respective population means for BMI of males and BMI of females<br>\n",
    "    <font size=3><b>    Step 1: Define null and alternative hypothesis</b></font><br>\n",
    "$\\ H_0  : \\mu_1 - \\mu_2 = 0$ There is no difference between the BMI of Male  and BMI of female.<br>\n",
    "$\\ H_a  : \\mu_1 - \\mu_2 !=0 $ There is difference between the BMI of Male and BMI of female. <br>\n",
    "\n",
    "\n",
    "</div>"
   ]
  },
  {
   "cell_type": "markdown",
   "metadata": {},
   "source": [
    "<div class =\"alert alert-block alert-info\">\n",
    "    <font size=3><b>Step 2: Decide the significance level</b></font>\n",
    "\n",
    "α = 0.05"
   ]
  },
  {
   "cell_type": "markdown",
   "metadata": {},
   "source": [
    "<div class =\"alert alert-block alert-info\">\n",
    "    <font size=3><b>Step 3:Identify the test</b></font><br>Standard deviation of the population is not known ,will perform a T stat test.Not equal to sign in alternate hypothesis indicate its a two tailed test."
   ]
  },
  {
   "cell_type": "markdown",
   "metadata": {},
   "source": [
    "<div class =\"alert alert-block alert-info\">\n",
    "    <font size=3><b>Step 4: Calculate the test-statistics and p-value</b></font>"
   ]
  },
  {
   "cell_type": "code",
   "execution_count": null,
   "metadata": {},
   "outputs": [],
   "source": [
    "#get all observation for male.\n",
    "df_male=insured.loc[insured.sex==\"male\"]\n",
    "#get all observation for females\n",
    "df_female=insured.loc[insured.sex==\"female\"]\n"
   ]
  },
  {
   "cell_type": "code",
   "execution_count": null,
   "metadata": {},
   "outputs": [],
   "source": [
    "#get bmi of male and female\n",
    "bmi_female=df_female.bmi\n",
    "bmi_male=df_male.bmi"
   ]
  },
  {
   "cell_type": "code",
   "execution_count": null,
   "metadata": {},
   "outputs": [],
   "source": [
    "sns.distplot(bmi_male,color='green',hist=False)\n",
    "sns.distplot(bmi_female,color='red',hist=False)\n"
   ]
  },
  {
   "cell_type": "code",
   "execution_count": null,
   "metadata": {},
   "outputs": [],
   "source": [
    "df_female.bmi.mean()"
   ]
  },
  {
   "cell_type": "code",
   "execution_count": null,
   "metadata": {},
   "outputs": [],
   "source": [
    "df_male.bmi.mean()"
   ]
  },
  {
   "cell_type": "code",
   "execution_count": null,
   "metadata": {},
   "outputs": [],
   "source": [
    "# get statistic and p value\n",
    "t_statistic_2, p_value_2 = stats.ttest_ind(bmi_male, bmi_female)\n",
    "print(\"tstats = \",t_statistic_2, \", pvalue = \", p_value_2)"
   ]
  },
  {
   "cell_type": "code",
   "execution_count": null,
   "metadata": {},
   "outputs": [],
   "source": [
    "if p_value_2 <alpha :\n",
    "    print(\"Conclusion:Since P value {} is less than alpha {} \". format (p_value_2,alpha) )\n",
    "    print(\"Reject Null Hypothesis  that there is no difference in bmi of men and bmi of female.\")\n",
    "    \n",
    "else:\n",
    "    print(\"Conclusion:Since P value {} is greater than alpha {} \". format (p_value_2,alpha))\n",
    "    print(\"Failed to Reject Null Hypothesis  that there is difference in bmi of men and bmi of female .\")\n"
   ]
  },
  {
   "cell_type": "markdown",
   "metadata": {},
   "source": [
    "<div class =\"alert alert-block alert-info\">\n",
    "    <font size=3><b>Step 5: Decide to reject or accept null hypothesis</b></font><br>\n",
    "     We fail to reject the null hypothesis and can conclude that There is no difference between BMI of Female and BMI of Male. "
   ]
  },
  {
   "cell_type": "markdown",
   "metadata": {},
   "source": [
    "# 3.Is the proportion of smokers significantly different across different regions?"
   ]
  },
  {
   "cell_type": "markdown",
   "metadata": {},
   "source": [
    "<div class =\"alert alert-block alert-info\">\n",
    "    <font size=3><b>    Step 1: Define null and alternative hypotheses</b></font>\n",
    "\n",
    "* H<sub>0</sub> Smokers proportions is not significantly different across different regions\n",
    "* H<sub>a</sub> Smokers proportions is  different across different regions  <br>\n",
    "</div>"
   ]
  },
  {
   "cell_type": "markdown",
   "metadata": {},
   "source": [
    "<div class =\"alert alert-block alert-info\">\n",
    "    <font size=3><b>Step 2: Decide the significance level</b></font>\n",
    "\n",
    "α = 0.05"
   ]
  },
  {
   "cell_type": "markdown",
   "metadata": {},
   "source": [
    "<div class =\"alert alert-block alert-info\">\n",
    "    <font size=3><b>Step 3: Identify Test</b></font><br>\n",
    "    Here we are comparing two different categorical variables, smoker and  different region. So perform a  Chi-sq Test."
   ]
  },
  {
   "cell_type": "markdown",
   "metadata": {},
   "source": [
    "<div class =\"alert alert-block alert-info\">\n",
    "    <font size=3><b>Step 4: Calculate the test-statistics and p-value</b></font>"
   ]
  },
  {
   "cell_type": "code",
   "execution_count": null,
   "metadata": {},
   "outputs": [],
   "source": [
    "contigency= pd.crosstab(insured.region, insured.smoker)\n",
    "contigency"
   ]
  },
  {
   "cell_type": "code",
   "execution_count": null,
   "metadata": {
    "scrolled": true
   },
   "outputs": [],
   "source": [
    " contigency.plot(kind='bar')"
   ]
  },
  {
   "cell_type": "code",
   "execution_count": null,
   "metadata": {},
   "outputs": [],
   "source": [
    "# Using the chi2_contingency test \n",
    "chi2, pval, dof, exp_freq = chi2_contingency(contigency, correction = False)\n",
    "print('chi-square statistic: {} , Pvalue: {} , Degree of freedom: {} ,expected frequencies: {} '.format(chi2, pval, dof, exp_freq))"
   ]
  },
  {
   "cell_type": "code",
   "execution_count": null,
   "metadata": {},
   "outputs": [],
   "source": [
    "if (pval < 0.05):\n",
    "    print('Reject Null Hypothesis')\n",
    "else:\n",
    "    print('Failed to reject Null Hypothesis')"
   ]
  },
  {
   "cell_type": "markdown",
   "metadata": {},
   "source": [
    "<div class =\"alert alert-block alert-info\">\n",
    "    <font size=3><b>Step 5: Decide to reject or accept null hypothesis</b></font><br>\n",
    "     We failed to reject the null hypothesis and conclude that Smoker proportions is not significantly different across different regions.\n",
    "    "
   ]
  },
  {
   "cell_type": "markdown",
   "metadata": {},
   "source": [
    "\n",
    "# 4.Is the mean BMI of women with no children, one child, and two children the same? Explain your answer with statistical evidence."
   ]
  },
  {
   "cell_type": "markdown",
   "metadata": {},
   "source": [
    "<div class =\"alert alert-block alert-info\">\n",
    "    <font size=3><b>    Step 1: Define null and alternative hypotheses</b></font>\n",
    "\n",
    "* H<sub>0</sub>: μ1 = μ2 = μ3  The mean BMI of women with no children , one child,two children is same <br>\n",
    "\n",
    "* H<sub>a</sub>:  Atleast  one of mean BMI of women is not same <br>\n",
    "</div>"
   ]
  },
  {
   "cell_type": "markdown",
   "metadata": {},
   "source": [
    "<div class =\"alert alert-block alert-info\">\n",
    "    <font size=3><b>Step 2: Decide the significance level</b></font>\n",
    "\n",
    "α = 0.05"
   ]
  },
  {
   "cell_type": "markdown",
   "metadata": {},
   "source": [
    "<div class =\"alert alert-block alert-info\">\n",
    "    <font size=3><b>Step 3: Identify Test</b></font><br>\n",
    "    \n",
    "One-way ANOVA - Equality of population through variances of samples."
   ]
  },
  {
   "cell_type": "markdown",
   "metadata": {},
   "source": [
    "<div class =\"alert alert-block alert-info\">\n",
    "    <font size=3><b>Step 4: Calculate the test-statistics and p-value</b></font>"
   ]
  },
  {
   "cell_type": "code",
   "execution_count": null,
   "metadata": {},
   "outputs": [],
   "source": [
    "# Filtering data of only women with 0, 1 and 2 children\n",
    "df_female_child = df_female.loc[df_female['children']<=2]\n",
    "df_female_child.head()"
   ]
  },
  {
   "cell_type": "code",
   "execution_count": null,
   "metadata": {},
   "outputs": [],
   "source": [
    "#pd.pivot_table(data=df_female_filtered,index=df_female_filtered.children,columns=df_female_filtered.bmi,values=df_female_filtered.bmi,fill_value=0)\n",
    "df_female_child.groupby([df_female_child.children]).mean().bmi"
   ]
  },
  {
   "cell_type": "code",
   "execution_count": null,
   "metadata": {},
   "outputs": [],
   "source": [
    "# Women BMI with children 0, 1, 2;\n",
    "sns.boxplot(x=\"children\", y=\"bmi\", data=df_female_child)\n",
    "plt.grid()\n",
    "plt.show()"
   ]
  },
  {
   "cell_type": "code",
   "execution_count": null,
   "metadata": {},
   "outputs": [],
   "source": [
    "\n",
    "# Applying ANOVA and cheking each children count (0,1,2) with the bmi;\n",
    "formula = 'bmi ~ C(children)'\n",
    "model = ols(formula, df_female_child).fit()\n",
    "aov_table = anova_lm(model)\n",
    "aov_table"
   ]
  },
  {
   "cell_type": "markdown",
   "metadata": {},
   "source": [
    "<div class =\"alert alert-block alert-info\">\n",
    "    <font size=3><b>Step 5: Decide to reject or accept null hypothesis</b></font><br>\n",
    "     P value is 0.715858 and it is greater than aplha(0.05) ,We failed to  reject the null hypothesis and conclude that mean Bmi of women  with no children,one children, two children is same. \n",
    "    "
   ]
  },
  {
   "cell_type": "markdown",
   "metadata": {},
   "source": [
    "### Recommendation\n",
    "- Based on EDA and statistical  evidence it can be seen that  customer who smoke or   have higher  BMI  have more higher claims. We can encourage customers to quit smoking by providing them  incentive points  for talking to life coach, get help for improving lifestyle habits,  Quit Tobacco- 28 day program. Give gift cards when customer accumulates specific number of points.\n",
    "- We can have Active wellness programs which can help up reduce claims related to BMI.\n",
    "- High BMI  is primarily because of unhealthy life choices. We can provide customers with Diet plans and wellness health coaches which can help them to make right choices.\n",
    "- Provide discount coupons  for Gym  or  fitness devices encouraging customers to exercise.\n"
   ]
  }
 ],
 "metadata": {
  "kernelspec": {
   "display_name": "Python 3 (ipykernel)",
   "language": "python",
   "name": "python3"
  },
  "language_info": {
   "codemirror_mode": {
    "name": "ipython",
    "version": 3
   },
   "file_extension": ".py",
   "mimetype": "text/x-python",
   "name": "python",
   "nbconvert_exporter": "python",
   "pygments_lexer": "ipython3",
   "version": "3.9.12"
  }
 },
 "nbformat": 4,
 "nbformat_minor": 4
}
