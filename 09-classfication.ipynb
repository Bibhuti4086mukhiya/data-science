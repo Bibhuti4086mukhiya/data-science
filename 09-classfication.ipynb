{
 "cells": [
  {
   "cell_type": "code",
   "execution_count": 1,
   "id": "2e4de656",
   "metadata": {},
   "outputs": [],
   "source": [
    "from bs4 import BeautifulSoup \n",
    "import requests\n",
    "import pandas as pd"
   ]
  },
  {
   "cell_type": "code",
   "execution_count": 2,
   "id": "b356b970",
   "metadata": {},
   "outputs": [
    {
     "name": "stdout",
     "output_type": "stream",
     "text": [
      "enter of page =1\n"
     ]
    },
    {
     "name": "stderr",
     "output_type": "stream",
     "text": [
      "C:\\Users\\Dell\\anaconda3\\lib\\site-packages\\bs4\\__init__.py:404: MarkupResemblesLocatorWarning: The input looks more like a URL than markup. You may want to use an HTTP client like requests to get the document behind the URL, and feed that document to Beautiful Soup.\n",
      "  warnings.warn(\n"
     ]
    }
   ],
   "source": [
    "category=['political','social','market','entertainment','sports','view','blog','International']\n",
    "\n",
    "news_df={'Category':[],'Link':[],'Content':[]}\n",
    "n=int(input('enter of page ='))\n",
    "for i in range(1,n+1):\n",
    "    for cat in category:\n",
    "        url=BeautifulSoup(f'https://en.setopati.com/{cat}?page={i}','html.parser')\n",
    "        data=requests.get(url)\n",
    "        news_code=BeautifulSoup(data.text,\"lxml\")\n",
    "        for link in news_code.find_all('a'):\n",
    "            if f\"{cat}/\" in link.get('href'):\n",
    "                news_df['Link'].append(link.get('href'))\n",
    "                news_df['Category'].append(cat)"
   ]
  },
  {
   "cell_type": "code",
   "execution_count": 3,
   "id": "1fe63d18",
   "metadata": {},
   "outputs": [
    {
     "name": "stdout",
     "output_type": "stream",
     "text": [
      "Error: 'NoneType' object has no attribute 'find'\n"
     ]
    }
   ],
   "source": [
    "for i in news_df['Link']:\n",
    "        url=BeautifulSoup(i,'html.parser')\n",
    "        data=requests.get(url)\n",
    "        content=BeautifulSoup(data.text,\"lxml\")\n",
    "        try:\n",
    "            content=content.find('div','editor-box')\n",
    "            news_df['Content'].append(content.text.strip())\n",
    "        except AttributeError:\n",
    "            print(\"Error: 'NoneType' object has no attribute 'find'\")\n",
    "            news_df['Content'].append('NAN')\n"
   ]
  },
  {
   "cell_type": "code",
   "execution_count": 4,
   "id": "df817510",
   "metadata": {},
   "outputs": [
    {
     "data": {
      "text/html": [
       "<div>\n",
       "<style scoped>\n",
       "    .dataframe tbody tr th:only-of-type {\n",
       "        vertical-align: middle;\n",
       "    }\n",
       "\n",
       "    .dataframe tbody tr th {\n",
       "        vertical-align: top;\n",
       "    }\n",
       "\n",
       "    .dataframe thead th {\n",
       "        text-align: right;\n",
       "    }\n",
       "</style>\n",
       "<table border=\"1\" class=\"dataframe\">\n",
       "  <thead>\n",
       "    <tr style=\"text-align: right;\">\n",
       "      <th></th>\n",
       "      <th>Category</th>\n",
       "      <th>Link</th>\n",
       "      <th>Content</th>\n",
       "    </tr>\n",
       "  </thead>\n",
       "  <tbody>\n",
       "    <tr>\n",
       "      <th>0</th>\n",
       "      <td>political</td>\n",
       "      <td>https://en.setopati.com/political/160818</td>\n",
       "      <td>Rastriya Swatantra Party (RSP) has removed Dha...</td>\n",
       "    </tr>\n",
       "    <tr>\n",
       "      <th>1</th>\n",
       "      <td>political</td>\n",
       "      <td>https://en.setopati.com/political/160818</td>\n",
       "      <td>Rastriya Swatantra Party (RSP) has removed Dha...</td>\n",
       "    </tr>\n",
       "    <tr>\n",
       "      <th>2</th>\n",
       "      <td>political</td>\n",
       "      <td>https://en.setopati.com/political/160836</td>\n",
       "      <td>CPN (Unified Socialist) Chief Whip Met Mani Ch...</td>\n",
       "    </tr>\n",
       "    <tr>\n",
       "      <th>3</th>\n",
       "      <td>political</td>\n",
       "      <td>https://en.setopati.com/political/160835</td>\n",
       "      <td>CPN-UML Chairman is suffering from fever and h...</td>\n",
       "    </tr>\n",
       "    <tr>\n",
       "      <th>4</th>\n",
       "      <td>political</td>\n",
       "      <td>https://en.setopati.com/political/160833</td>\n",
       "      <td>Narayan Prakash (NP) Saud has been sworn in as...</td>\n",
       "    </tr>\n",
       "    <tr>\n",
       "      <th>...</th>\n",
       "      <td>...</td>\n",
       "      <td>...</td>\n",
       "      <td>...</td>\n",
       "    </tr>\n",
       "    <tr>\n",
       "      <th>141</th>\n",
       "      <td>International</td>\n",
       "      <td>https://en.setopati.com/International/160782</td>\n",
       "      <td>Chinese leader Xi Jinping called Thursday for ...</td>\n",
       "    </tr>\n",
       "    <tr>\n",
       "      <th>142</th>\n",
       "      <td>International</td>\n",
       "      <td>https://en.setopati.com/International/160777</td>\n",
       "      <td>Iran’s semiofficial news agency ISNA reported ...</td>\n",
       "    </tr>\n",
       "    <tr>\n",
       "      <th>143</th>\n",
       "      <td>International</td>\n",
       "      <td>https://en.setopati.com/International/160776</td>\n",
       "      <td>French President Emmanuel Macron said Wednesda...</td>\n",
       "    </tr>\n",
       "    <tr>\n",
       "      <th>144</th>\n",
       "      <td>International</td>\n",
       "      <td>https://en.setopati.com/International/160775</td>\n",
       "      <td>A man with a hatchet burst into a day care cen...</td>\n",
       "    </tr>\n",
       "    <tr>\n",
       "      <th>145</th>\n",
       "      <td>International</td>\n",
       "      <td>https://en.setopati.com/International/160764</td>\n",
       "      <td>Donald Trump conspired to undermine the 2016 e...</td>\n",
       "    </tr>\n",
       "  </tbody>\n",
       "</table>\n",
       "<p>146 rows × 3 columns</p>\n",
       "</div>"
      ],
      "text/plain": [
       "          Category                                          Link  \\\n",
       "0        political      https://en.setopati.com/political/160818   \n",
       "1        political      https://en.setopati.com/political/160818   \n",
       "2        political      https://en.setopati.com/political/160836   \n",
       "3        political      https://en.setopati.com/political/160835   \n",
       "4        political      https://en.setopati.com/political/160833   \n",
       "..             ...                                           ...   \n",
       "141  International  https://en.setopati.com/International/160782   \n",
       "142  International  https://en.setopati.com/International/160777   \n",
       "143  International  https://en.setopati.com/International/160776   \n",
       "144  International  https://en.setopati.com/International/160775   \n",
       "145  International  https://en.setopati.com/International/160764   \n",
       "\n",
       "                                               Content  \n",
       "0    Rastriya Swatantra Party (RSP) has removed Dha...  \n",
       "1    Rastriya Swatantra Party (RSP) has removed Dha...  \n",
       "2    CPN (Unified Socialist) Chief Whip Met Mani Ch...  \n",
       "3    CPN-UML Chairman is suffering from fever and h...  \n",
       "4    Narayan Prakash (NP) Saud has been sworn in as...  \n",
       "..                                                 ...  \n",
       "141  Chinese leader Xi Jinping called Thursday for ...  \n",
       "142  Iran’s semiofficial news agency ISNA reported ...  \n",
       "143  French President Emmanuel Macron said Wednesda...  \n",
       "144  A man with a hatchet burst into a day care cen...  \n",
       "145  Donald Trump conspired to undermine the 2016 e...  \n",
       "\n",
       "[146 rows x 3 columns]"
      ]
     },
     "execution_count": 4,
     "metadata": {},
     "output_type": "execute_result"
    }
   ],
   "source": [
    "df=pd.DataFrame(news_df)\n",
    "df"
   ]
  },
  {
   "cell_type": "code",
   "execution_count": 6,
   "id": "602ee3f8",
   "metadata": {},
   "outputs": [],
   "source": [
    "df[df['Content']!='NAN'].to_csv('09-classfication/New_news_dataset.csv')"
   ]
  }
 ],
 "metadata": {
  "kernelspec": {
   "display_name": "Python 3 (ipykernel)",
   "language": "python",
   "name": "python3"
  },
  "language_info": {
   "codemirror_mode": {
    "name": "ipython",
    "version": 3
   },
   "file_extension": ".py",
   "mimetype": "text/x-python",
   "name": "python",
   "nbconvert_exporter": "python",
   "pygments_lexer": "ipython3",
   "version": "3.9.12"
  }
 },
 "nbformat": 4,
 "nbformat_minor": 5
}
