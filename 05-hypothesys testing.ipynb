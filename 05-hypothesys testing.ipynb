{
 "cells": [
  {
   "cell_type": "markdown",
   "id": "48c63a55",
   "metadata": {},
   "source": [
    "# Hypothesis testing"
   ]
  },
  {
   "cell_type": "markdown",
   "id": "7e7baf70",
   "metadata": {},
   "source": [
    "#### https://scipy-lectures.org/packages/statistics/index.html"
   ]
  },
  {
   "cell_type": "markdown",
   "id": "96c23ff9",
   "metadata": {},
   "source": [
    "A hypothesis test is a formal statistical test we use to reject or fail to reject some statistical hypothesis.\n",
    "\n",
    "This tutorial explains how to perform the following hypothesis tests in Python:\n",
    "\n",
    "One sample t-test\n",
    "Two sample t-test\n",
    "Paired samples t-test"
   ]
  },
  {
   "cell_type": "markdown",
   "id": "28f1dec6",
   "metadata": {},
   "source": [
    "### Example 1: One Sample t-test in Python\n",
    "A one sample t-test is used to test whether or not the mean of a population is equal to some value.\n",
    "\n",
    "For example, suppose we want to know whether or not the mean weight of a certain species of some turtle is equal to 310 pounds.\n",
    "\n",
    "To test this, we go out and collect a simple random sample of turtles with the following weights:\n",
    "\n",
    "Weights: 300, 315, 320, 311, 314, 309, 300, 308, 305, 303, 305, 301, 303\n",
    "\n",
    "The following code shows how to use the ttest_1samp() function from the scipy.stats library to perform a one sample t-test:"
   ]
  },
  {
   "cell_type": "code",
   "execution_count": 2,
   "id": "2179dcd2",
   "metadata": {},
   "outputs": [
    {
     "name": "stdout",
     "output_type": "stream",
     "text": [
      "Ttest_1sampResult(statistic=-1.5848116313861254, pvalue=0.1389944275158753)\n"
     ]
    }
   ],
   "source": [
    "import scipy.stats as stats\n",
    "\n",
    "#define data\n",
    "data = [300, 315, 320, 311, 314, 309, 300, 308, 305, 303, 305, 301, 303]\n",
    "\n",
    "#perform one sample t-test\n",
    "print(stats.ttest_1samp(a=data, popmean=310))\n",
    "\n",
    "# Ttest_1sampResult(statistic=-1.5848116313861254, pvalue=0.1389944275158753)"
   ]
  },
  {
   "cell_type": "markdown",
   "id": "697ea749",
   "metadata": {},
   "source": [
    "The t test statistic is -1.5848 and the corresponding two-sided p-value is 0.1389.\n",
    "\n",
    "The two hypotheses for this particular one sample t-test are as follows:\n",
    "\n",
    "H0: µ = 310 (the mean weight for this species of turtle is 310 pounds)\n",
    "HA: µ ≠310 (the mean weight is not 310 pounds)\n",
    "Because the p-value of our test (0.1389) is greater than alpha = 0.05, we fail to reject the null hypothesis of the test.\n",
    "\n",
    "We do not have sufficient evidence to say that the mean weight for this particular species of turtle is different from 310 pounds."
   ]
  },
  {
   "cell_type": "markdown",
   "id": "2fcfc677",
   "metadata": {},
   "source": [
    "### Example 2: Two Sample t-test in Python\n",
    "A two sample t-test is used to test whether or not the means of two populations are equal.\n",
    "\n",
    "For example, suppose we want to know whether or not the mean weight between two different species of turtles is equal.\n",
    "\n",
    "To test this, we collect a simple random sample of turtles from each species with the following weights:\n",
    "\n",
    "Sample 1: 300, 315, 320, 311, 314, 309, 300, 308, 305, 303, 305, 301, 303\n",
    "\n",
    "Sample 2: 335, 329, 322, 321, 324, 319, 304, 308, 305, 311, 307, 300, 305\n",
    "\n",
    "The following code shows how to use the ttest_ind() function from the scipy.stats library to perform this two sample t-test:"
   ]
  },
  {
   "cell_type": "code",
   "execution_count": 5,
   "id": "c8af1e3e",
   "metadata": {},
   "outputs": [
    {
     "data": {
      "text/plain": [
       "Ttest_indResult(statistic=-2.1009029257555696, pvalue=0.04633501389516516)"
      ]
     },
     "execution_count": 5,
     "metadata": {},
     "output_type": "execute_result"
    }
   ],
   "source": [
    "import scipy.stats as stats \n",
    "\n",
    "#define array of turtle weights for each sample\n",
    "sample1 = [300, 315, 320, 311, 314, 309, 300, 308, 305, 303, 305, 301, 303]\n",
    "sample2 = [335, 329, 322, 321, 324, 319, 304, 308, 305, 311, 307, 300, 305]\n",
    "\n",
    "#perform two sample t-test\n",
    "stats.ttest_ind(a=sample1, b=sample2)\n",
    "\n",
    "# Ttest_indResult(statistic=-2.1009029257555696, pvalue=0.04633501389516516)"
   ]
  },
  {
   "cell_type": "markdown",
   "id": "11321f37",
   "metadata": {},
   "source": [
    "The t test statistic is –2.1009 and the corresponding two-sided p-value is 0.0463.\n",
    "\n",
    "The two hypotheses for this particular two sample t-test are as follows:\n",
    "\n",
    "H0: µ1 = µ2 (the mean weight between the two species is equal)\n",
    "HA: µ1 ≠ µ2 (the mean weight between the two species is not equal)\n",
    "Since the p-value of the test (0.0463) is less than .05, we reject the null hypothesis.\n",
    "\n",
    "This means we have sufficient evidence to say that the mean weight between the two species is not equal."
   ]
  },
  {
   "cell_type": "markdown",
   "id": "4961da3b",
   "metadata": {},
   "source": [
    "### Example 3: Paired Samples t-test in Python\n",
    "A paired samples t-test is used to compare the means of two samples when each observation in one sample can be paired with an observation in the other sample.\n",
    "\n",
    "For example, suppose we want to know whether or not a certain training program is able to increase the max vertical jump (in inches) of basketball players.\n",
    "\n",
    "To test this, we may recruit a simple random sample of 12 college basketball players and measure each of their max vertical jumps. Then, we may have each player use the training program for one month and then measure their max vertical jump again at the end of the month.\n",
    "\n",
    "The following data shows the max jump height (in inches) before and after using the training program for each player:\n",
    "\n",
    "Before: 22, 24, 20, 19, 19, 20, 22, 25, 24, 23, 22, 21\n",
    "\n",
    "After: 23, 25, 20, 24, 18, 22, 23, 28, 24, 25, 24, 20\n",
    "\n",
    "The following code shows how to use the ttest_rel() function from the scipy.stats library to perform this paired samples t-test:"
   ]
  },
  {
   "cell_type": "code",
   "execution_count": 6,
   "id": "fb18b54b",
   "metadata": {},
   "outputs": [
    {
     "data": {
      "text/plain": [
       "Ttest_relResult(statistic=-2.5289026942943655, pvalue=0.02802807458682508)"
      ]
     },
     "execution_count": 6,
     "metadata": {},
     "output_type": "execute_result"
    }
   ],
   "source": [
    "import scipy.stats as stats  \n",
    "\n",
    "#define before and after max jump heights\n",
    "before = [22, 24, 20, 19, 19, 20, 22, 25, 24, 23, 22, 21]\n",
    "after = [23, 25, 20, 24, 18, 22, 23, 28, 24, 25, 24, 20]\n",
    "\n",
    "#perform paired samples t-test\n",
    "stats.ttest_rel(a=before, b=after)\n",
    "\n",
    "# Ttest_relResult(statistic=-2.5289026942943655, pvalue=0.02802807458682508)"
   ]
  },
  {
   "cell_type": "markdown",
   "id": "882b8fd8",
   "metadata": {},
   "source": [
    "The t test statistic is –2.5289 and the corresponding two-sided p-value is 0.0280.\n",
    "\n",
    "The two hypotheses for this particular paired samples t-test are as follows:\n",
    "\n",
    "H0: µ1 = µ2 (the mean jump height before and after using the program is equal)\n",
    "HA: µ1 ≠ µ2 (the mean jump height before and after using the program is not equal)\n",
    "Since the p-value of the test (0.0280) is less than .05, we reject the null hypothesis.\n",
    "\n",
    "This means we have sufficient evidence to say that the mean jump height before and after using the training program is not equal."
   ]
  },
  {
   "cell_type": "code",
   "execution_count": null,
   "id": "6a5aebe5",
   "metadata": {},
   "outputs": [],
   "source": []
  }
 ],
 "metadata": {
  "kernelspec": {
   "display_name": "Python 3 (ipykernel)",
   "language": "python",
   "name": "python3"
  },
  "language_info": {
   "codemirror_mode": {
    "name": "ipython",
    "version": 3
   },
   "file_extension": ".py",
   "mimetype": "text/x-python",
   "name": "python",
   "nbconvert_exporter": "python",
   "pygments_lexer": "ipython3",
   "version": "3.9.12"
  }
 },
 "nbformat": 4,
 "nbformat_minor": 5
}
