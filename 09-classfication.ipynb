{
 "cells": [
  {
   "cell_type": "code",
   "execution_count": 1,
   "id": "2e4de656",
   "metadata": {},
   "outputs": [],
   "source": [
    "from bs4 import BeautifulSoup \n",
    "import requests\n",
    "import pandas as pd"
   ]
  },
  {
   "cell_type": "code",
   "execution_count": 2,
   "id": "b356b970",
   "metadata": {},
   "outputs": [
    {
     "name": "stdout",
     "output_type": "stream",
     "text": [
      "enter of page =3\n"
     ]
    },
    {
     "name": "stderr",
     "output_type": "stream",
     "text": [
      "C:\\Users\\Dell\\anaconda3\\lib\\site-packages\\bs4\\__init__.py:404: MarkupResemblesLocatorWarning: The input looks more like a URL than markup. You may want to use an HTTP client like requests to get the document behind the URL, and feed that document to Beautiful Soup.\n",
      "  warnings.warn(\n"
     ]
    }
   ],
   "source": [
    "category=['political','social','market','entertainment','sports','view','blog','International']\n",
    "\n",
    "news_df={'Category':[],'Link':[],'News':[]}\n",
    "n=int(input('enter of page ='))\n",
    "for i in range(1,n+1):\n",
    "    for cat in category:\n",
    "        url=BeautifulSoup(f'https://en.setopati.com/{cat}?page={i}','html.parser')\n",
    "        data=requests.get(url)\n",
    "        news_code=BeautifulSoup(data.text,\"lxml\")\n",
    "        for link in news_code.find_all('a'):\n",
    "            if f\"{cat}/\" in link.get('href'):\n",
    "                news_df['Link'].append(link.get('href'))\n",
    "                news_df['Category'].append(cat)"
   ]
  },
  {
   "cell_type": "code",
   "execution_count": 3,
   "id": "1fe63d18",
   "metadata": {},
   "outputs": [
    {
     "name": "stdout",
     "output_type": "stream",
     "text": [
      "Error: 'NoneType' object has no attribute 'find'\n",
      "Error: 'NoneType' object has no attribute 'find'\n",
      "Error: 'NoneType' object has no attribute 'find'\n"
     ]
    }
   ],
   "source": [
    "for i in news_df['Link']:\n",
    "        url=BeautifulSoup(i,'html.parser')\n",
    "        data=requests.get(url)\n",
    "        content=BeautifulSoup(data.text,\"lxml\")\n",
    "        try:\n",
    "            content=content.find('div','editor-box')\n",
    "            news_df['News'].append(content.text)\n",
    "        except AttributeError:\n",
    "            print(\"Error: 'NoneType' object has no attribute 'find'\")\n",
    "            news_df['News'].append('NAN')\n"
   ]
  },
  {
   "cell_type": "code",
   "execution_count": 4,
   "id": "df817510",
   "metadata": {},
   "outputs": [
    {
     "data": {
      "text/html": [
       "<div>\n",
       "<style scoped>\n",
       "    .dataframe tbody tr th:only-of-type {\n",
       "        vertical-align: middle;\n",
       "    }\n",
       "\n",
       "    .dataframe tbody tr th {\n",
       "        vertical-align: top;\n",
       "    }\n",
       "\n",
       "    .dataframe thead th {\n",
       "        text-align: right;\n",
       "    }\n",
       "</style>\n",
       "<table border=\"1\" class=\"dataframe\">\n",
       "  <thead>\n",
       "    <tr style=\"text-align: right;\">\n",
       "      <th></th>\n",
       "      <th>Category</th>\n",
       "      <th>Link</th>\n",
       "      <th>News</th>\n",
       "    </tr>\n",
       "  </thead>\n",
       "  <tbody>\n",
       "    <tr>\n",
       "      <th>0</th>\n",
       "      <td>political</td>\n",
       "      <td>https://en.setopati.com/political/160842</td>\n",
       "      <td>\\nJanata Samajwadi Party (JSP) Chairman Upendr...</td>\n",
       "    </tr>\n",
       "    <tr>\n",
       "      <th>1</th>\n",
       "      <td>political</td>\n",
       "      <td>https://en.setopati.com/political/160842</td>\n",
       "      <td>\\nJanata Samajwadi Party (JSP) Chairman Upendr...</td>\n",
       "    </tr>\n",
       "    <tr>\n",
       "      <th>2</th>\n",
       "      <td>political</td>\n",
       "      <td>https://en.setopati.com/political/160851</td>\n",
       "      <td>\\nThe Cabinet has revoked the decision to hand...</td>\n",
       "    </tr>\n",
       "    <tr>\n",
       "      <th>3</th>\n",
       "      <td>political</td>\n",
       "      <td>https://en.setopati.com/political/160850</td>\n",
       "      <td>\\nThe Baburam Bhattarai-led Nepal Samajwadi Pa...</td>\n",
       "    </tr>\n",
       "    <tr>\n",
       "      <th>4</th>\n",
       "      <td>political</td>\n",
       "      <td>https://en.setopati.com/political/160847</td>\n",
       "      <td>\\nHearing on the writ petition filed against t...</td>\n",
       "    </tr>\n",
       "    <tr>\n",
       "      <th>...</th>\n",
       "      <td>...</td>\n",
       "      <td>...</td>\n",
       "      <td>...</td>\n",
       "    </tr>\n",
       "    <tr>\n",
       "      <th>433</th>\n",
       "      <td>International</td>\n",
       "      <td>https://en.setopati.com/International/160668</td>\n",
       "      <td>\\nThe decision whether to indict former Presid...</td>\n",
       "    </tr>\n",
       "    <tr>\n",
       "      <th>434</th>\n",
       "      <td>International</td>\n",
       "      <td>https://en.setopati.com/International/160667</td>\n",
       "      <td>\\nJapanese Prime Minister Fumio Kishida made a...</td>\n",
       "    </tr>\n",
       "    <tr>\n",
       "      <th>435</th>\n",
       "      <td>International</td>\n",
       "      <td>https://en.setopati.com/International/160666</td>\n",
       "      <td>\\nWhen China suddenly scrapped onerous zero-CO...</td>\n",
       "    </tr>\n",
       "    <tr>\n",
       "      <th>436</th>\n",
       "      <td>International</td>\n",
       "      <td>https://en.setopati.com/International/160661</td>\n",
       "      <td>\\nJapanese Prime Minister Fumio Kishida began ...</td>\n",
       "    </tr>\n",
       "    <tr>\n",
       "      <th>437</th>\n",
       "      <td>International</td>\n",
       "      <td>https://en.setopati.com/International/160656</td>\n",
       "      <td>\\nChinese leader Xi Jinping arrived in Moscow ...</td>\n",
       "    </tr>\n",
       "  </tbody>\n",
       "</table>\n",
       "<p>438 rows × 3 columns</p>\n",
       "</div>"
      ],
      "text/plain": [
       "          Category                                          Link  \\\n",
       "0        political      https://en.setopati.com/political/160842   \n",
       "1        political      https://en.setopati.com/political/160842   \n",
       "2        political      https://en.setopati.com/political/160851   \n",
       "3        political      https://en.setopati.com/political/160850   \n",
       "4        political      https://en.setopati.com/political/160847   \n",
       "..             ...                                           ...   \n",
       "433  International  https://en.setopati.com/International/160668   \n",
       "434  International  https://en.setopati.com/International/160667   \n",
       "435  International  https://en.setopati.com/International/160666   \n",
       "436  International  https://en.setopati.com/International/160661   \n",
       "437  International  https://en.setopati.com/International/160656   \n",
       "\n",
       "                                                  News  \n",
       "0    \\nJanata Samajwadi Party (JSP) Chairman Upendr...  \n",
       "1    \\nJanata Samajwadi Party (JSP) Chairman Upendr...  \n",
       "2    \\nThe Cabinet has revoked the decision to hand...  \n",
       "3    \\nThe Baburam Bhattarai-led Nepal Samajwadi Pa...  \n",
       "4    \\nHearing on the writ petition filed against t...  \n",
       "..                                                 ...  \n",
       "433  \\nThe decision whether to indict former Presid...  \n",
       "434  \\nJapanese Prime Minister Fumio Kishida made a...  \n",
       "435  \\nWhen China suddenly scrapped onerous zero-CO...  \n",
       "436  \\nJapanese Prime Minister Fumio Kishida began ...  \n",
       "437  \\nChinese leader Xi Jinping arrived in Moscow ...  \n",
       "\n",
       "[438 rows x 3 columns]"
      ]
     },
     "execution_count": 4,
     "metadata": {},
     "output_type": "execute_result"
    }
   ],
   "source": [
    "df=pd.DataFrame(news_df)\n",
    "df"
   ]
  },
  {
   "cell_type": "code",
   "execution_count": 5,
   "id": "602ee3f8",
   "metadata": {},
   "outputs": [],
   "source": [
    "df[df['News']!='NAN'].to_csv('09-classfication/New_news_dataset.csv')"
   ]
  },
  {
   "cell_type": "code",
   "execution_count": 6,
   "id": "c7a2c141",
   "metadata": {},
   "outputs": [
    {
     "data": {
      "text/html": [
       "<div>\n",
       "<style scoped>\n",
       "    .dataframe tbody tr th:only-of-type {\n",
       "        vertical-align: middle;\n",
       "    }\n",
       "\n",
       "    .dataframe tbody tr th {\n",
       "        vertical-align: top;\n",
       "    }\n",
       "\n",
       "    .dataframe thead th {\n",
       "        text-align: right;\n",
       "    }\n",
       "</style>\n",
       "<table border=\"1\" class=\"dataframe\">\n",
       "  <thead>\n",
       "    <tr style=\"text-align: right;\">\n",
       "      <th></th>\n",
       "      <th>Unnamed: 0</th>\n",
       "      <th>Category</th>\n",
       "      <th>Link</th>\n",
       "      <th>News</th>\n",
       "    </tr>\n",
       "  </thead>\n",
       "  <tbody>\n",
       "    <tr>\n",
       "      <th>0</th>\n",
       "      <td>0</td>\n",
       "      <td>political</td>\n",
       "      <td>https://en.setopati.com/political/160842</td>\n",
       "      <td>\\nJanata Samajwadi Party (JSP) Chairman Upendr...</td>\n",
       "    </tr>\n",
       "    <tr>\n",
       "      <th>1</th>\n",
       "      <td>1</td>\n",
       "      <td>political</td>\n",
       "      <td>https://en.setopati.com/political/160842</td>\n",
       "      <td>\\nJanata Samajwadi Party (JSP) Chairman Upendr...</td>\n",
       "    </tr>\n",
       "    <tr>\n",
       "      <th>2</th>\n",
       "      <td>2</td>\n",
       "      <td>political</td>\n",
       "      <td>https://en.setopati.com/political/160851</td>\n",
       "      <td>\\nThe Cabinet has revoked the decision to hand...</td>\n",
       "    </tr>\n",
       "    <tr>\n",
       "      <th>3</th>\n",
       "      <td>3</td>\n",
       "      <td>political</td>\n",
       "      <td>https://en.setopati.com/political/160850</td>\n",
       "      <td>\\nThe Baburam Bhattarai-led Nepal Samajwadi Pa...</td>\n",
       "    </tr>\n",
       "    <tr>\n",
       "      <th>4</th>\n",
       "      <td>4</td>\n",
       "      <td>political</td>\n",
       "      <td>https://en.setopati.com/political/160847</td>\n",
       "      <td>\\nHearing on the writ petition filed against t...</td>\n",
       "    </tr>\n",
       "    <tr>\n",
       "      <th>...</th>\n",
       "      <td>...</td>\n",
       "      <td>...</td>\n",
       "      <td>...</td>\n",
       "      <td>...</td>\n",
       "    </tr>\n",
       "    <tr>\n",
       "      <th>430</th>\n",
       "      <td>433</td>\n",
       "      <td>International</td>\n",
       "      <td>https://en.setopati.com/International/160668</td>\n",
       "      <td>\\nThe decision whether to indict former Presid...</td>\n",
       "    </tr>\n",
       "    <tr>\n",
       "      <th>431</th>\n",
       "      <td>434</td>\n",
       "      <td>International</td>\n",
       "      <td>https://en.setopati.com/International/160667</td>\n",
       "      <td>\\nJapanese Prime Minister Fumio Kishida made a...</td>\n",
       "    </tr>\n",
       "    <tr>\n",
       "      <th>432</th>\n",
       "      <td>435</td>\n",
       "      <td>International</td>\n",
       "      <td>https://en.setopati.com/International/160666</td>\n",
       "      <td>\\nWhen China suddenly scrapped onerous zero-CO...</td>\n",
       "    </tr>\n",
       "    <tr>\n",
       "      <th>433</th>\n",
       "      <td>436</td>\n",
       "      <td>International</td>\n",
       "      <td>https://en.setopati.com/International/160661</td>\n",
       "      <td>\\nJapanese Prime Minister Fumio Kishida began ...</td>\n",
       "    </tr>\n",
       "    <tr>\n",
       "      <th>434</th>\n",
       "      <td>437</td>\n",
       "      <td>International</td>\n",
       "      <td>https://en.setopati.com/International/160656</td>\n",
       "      <td>\\nChinese leader Xi Jinping arrived in Moscow ...</td>\n",
       "    </tr>\n",
       "  </tbody>\n",
       "</table>\n",
       "<p>435 rows × 4 columns</p>\n",
       "</div>"
      ],
      "text/plain": [
       "     Unnamed: 0       Category                                          Link  \\\n",
       "0             0      political      https://en.setopati.com/political/160842   \n",
       "1             1      political      https://en.setopati.com/political/160842   \n",
       "2             2      political      https://en.setopati.com/political/160851   \n",
       "3             3      political      https://en.setopati.com/political/160850   \n",
       "4             4      political      https://en.setopati.com/political/160847   \n",
       "..          ...            ...                                           ...   \n",
       "430         433  International  https://en.setopati.com/International/160668   \n",
       "431         434  International  https://en.setopati.com/International/160667   \n",
       "432         435  International  https://en.setopati.com/International/160666   \n",
       "433         436  International  https://en.setopati.com/International/160661   \n",
       "434         437  International  https://en.setopati.com/International/160656   \n",
       "\n",
       "                                                  News  \n",
       "0    \\nJanata Samajwadi Party (JSP) Chairman Upendr...  \n",
       "1    \\nJanata Samajwadi Party (JSP) Chairman Upendr...  \n",
       "2    \\nThe Cabinet has revoked the decision to hand...  \n",
       "3    \\nThe Baburam Bhattarai-led Nepal Samajwadi Pa...  \n",
       "4    \\nHearing on the writ petition filed against t...  \n",
       "..                                                 ...  \n",
       "430  \\nThe decision whether to indict former Presid...  \n",
       "431  \\nJapanese Prime Minister Fumio Kishida made a...  \n",
       "432  \\nWhen China suddenly scrapped onerous zero-CO...  \n",
       "433  \\nJapanese Prime Minister Fumio Kishida began ...  \n",
       "434  \\nChinese leader Xi Jinping arrived in Moscow ...  \n",
       "\n",
       "[435 rows x 4 columns]"
      ]
     },
     "execution_count": 6,
     "metadata": {},
     "output_type": "execute_result"
    }
   ],
   "source": [
    "data=pd.read_csv('09-classfication/New_news_dataset.csv')\n",
    "data"
   ]
  },
  {
   "cell_type": "code",
   "execution_count": 7,
   "id": "6b44d954",
   "metadata": {},
   "outputs": [
    {
     "data": {
      "text/plain": [
       "'\\nJanata Samajwadi Party (JSP) Chairman Upendra Yadav, who lost to Janamat Party Chairman CK Raut in the House of Representatives (HoR) constituency of Saptari-2 in November 2022, may again have to suffer at the hands of Raut.\\nThis by-election in Bara-2 will\\xa0be a battle between the waning pre-eminent force in Madhes, JSP,\\xa0and the rising force, Janamat Party, that hopes to one day overtake JSP\\xa0as the strongest party in the plains.\\nRaut recognizing that his party will have to directly compete with JSP if it wishes to become a major force in Madhes ushered Shiv Chandra Kushwaha into Janamat Party from CPN (Maoist Center) to defeat Yadav in the by-election in Bara-2.\\nMany say JSP Chairman Yadav made his confidant Ram Sahay Prasad Yadav, who was elected from Bara-2, vice-president to contest the by-election from that constituency with a big population of Yadavs where JSP has very strong organization.\\nSetopati reached all the wards in the constituency, which includes three municipalities and two rural municipalities, and talked with 560 voters about the upcoming by-election, their preferred parties/candidates, the reasons for their preference, and the most important issues for them, among other things.\\nThe constituency includes the whole of Mahagadhimai and Pachrauta municipalities; Suvarna, Devtal and Karaiyamai rural municipalities; and Ward Number 8 of Kolhabi Municipality.\\nJust 3,000-4,000 of around 125,000 voters in the constituency are of hill origin while the Yadavs constitute the biggest community here. The Pachpaunia community, which also includes Janamat Party candidate Kushwaha, is the second biggest community while the constituency also includes Madhesi Dalits, Tharus and Muslims.\\n\\nA whopping 199 (35.5%) of the 560 voters Setopati talked to said that they would vote for Kushwaha—who had secured 13,823 votes contesting as the common coalition candidate on a Maoist ticket and lost to Ram Sahay Prasad Yadav by just 355 votes in the November election—while 161 (28.7) said that they would vote for Upendra Yadav.\\nSixty-two (11%) of them said that they would vote for Ramesh Kharel of Rastriya Swatantra Party (RSP) while 59 (10.5%) pledged to vote for Purushottam Paudel of CPN-UML meaning the two would have a close fight for the third position.\\nThirty-one (5.5%) of them said that they would vote for Arun Gyawali of Janata Party led by Prabhu Sah while 48 (8.5%) of the voters said that they had yet to decide who to vote for.\\nJanamat Party seems set to attract most votes from JSP in the constituency.\\nFifty-eight of the 199 who pledged to vote for Kushwaha said that they had voted for JSP in November, 27 said that they had voted for CPN (Maoist Center), 18 for independent candidates, and 11 had not voted in November due to different reasons. Similarly, 16 pledged to vote for Janamat Party despite being affiliated to Nepali Congress (NC).\\nNinety-four of the 161 who pledged to vote for Upendra Yadav said that they had voted for JSP also in November and 17 said that they had voted for independent candidates. Twenty-eight said that they supported NC and would vote for Yadav as he was the common coalition candidate, and nine said that they supported Maoist Center and would vote for Yadav for the same reason. Four said that they would vote for Yadav despite supporting UML while six said that they had not voted in November due to different reasons.\\nJSP also seems to be leaking votes to RSP that has fielded Ramesh Kharel, who had resigned from the post of DIG of Nepal Police and made a name for himself serving as SP in Parsa district in the past. Kharel himself has been campaigning as SP Kharel to capitalize on that goodwill while some voters also said they would vote for him due to RSP President Rabi Lamichhane.\\nSixteen of the 62 who pledged to vote for RSP’s Kharel said that they had voted for JSP in November while six are first-time voters. Nine said they would vote for Kharel despite being NC supporters while three UML supporters also pledged to vote for him.\\nAll the 59 voters who pledged to vote for UML candidate Paudel said they would vote for him as they support UML. This shows that it will be hard for UML, which had supported Ram Sahay Prasad Yadav in the constituency in November, to attract voters from other parties even as it looks set to leak votes to Janamat Party, RSP and even JSP.\\nThis does not mean Upendra Yadav will definitely lose or Kushwaha will be elected as voting takes place more than a week later and voters may swing during the intervening period. But the fact that Yadav looks behind in the race in Bara-2 that remains a JSP stronghold to the party with no organization in the constituency should be a matter of grave concern for Yadav.\\nJSP’s Ram Sahay Prasad Yadav had not just defeated common coalition candidate Kushwaha, who was supported by NC, but JSP was also the largest party in the constituency on the basis of Proportional Representation (PR) electoral system votes securing 13,242 votes. NC was second with 11,179, followed by UML 9,193, Janamat Party 8,846, Loktantrik Samajwadi Party (LSP) 4,225 and Maoist Center 3,256.\\nUpendra Yadav also has the support of NC, LSP and Maoist Center as the common candidate of the ruling coalition which together secured 31,902 PR votes in November. He also has the support of Ram Kishore Yadav, who secured 11,043 votes contesting as an independent candidate after quitting JSP in Bara-2, and Rabindra Prasad Yadav, who secured 10,750 votes contesting as a rebel NC candidate.\\nBut Upendra Yadav seems to be trailing Kushwaha despite all that. The main reason for that is that Upendra Yadav is not contesting Kushwaha but Raut, who had defeated him in Saptari, in what appears to be a rematch of that November contest.\\nMany of the voters Setopati talked to said that Raut and Upendra Yadav are set for a close fight despite Raut not contesting the election. Raut’s magic seems to work the most on youths, women, impoverished people and Dalits.\\nAware that defeating Upendra Yadav again in Bara-2 will establish him as the most prominent leader in Madhes, Raut has been staying in Bara in recent times. He has visited all the wards in the constituency, had tea with the voters and talked with them sharing their woes and happiness.\\nUpendra Yadav has also been based in the constituency but the contrast between him and Raut cannot be starker. Yadav visits with a motorcade and communicating directly with the voters has never been the forte of Yadav, who can neither talk with his eyes or laugh with gay abandon. Many voters complain that he does not listen to their grievances.\\nYadav also suffers from the disadvantage of trying to again become HoR member through the backdoor just five months after that resounding defeat in Saptari by engineering the election of his confidant Ram Sahay Prasad Yadav as the country’s vice-president. Many point that he should have exercised patience and waited for five years.\\nHe has always faced the accusation of continuously changing his constituency.\\nYadav—who had lost to NC’s Girija Prasad Koirala in Sunsari-5 on a UML ticket in the first parliamentary election after restoration of democracy in 1990 and later joined the Maoist party—rose as the messiah of Madhes following the Madhes Movement triggered by him torching the Interim Constitution at the Maitighar Mandala just a day after it was promulgated on January 15, 2007, as founder of a political advocacy movement named Madhesi Janadhikar Forum.\\nThe next Madhes Movement forced Koirala to sign an agreement accepting federalism. Yadav turned his organization into a political party and emerged as the fourth largest party after Maoists, NC and UML following the First Constituent Assembly (CA) Election in 2008. He was elected to the First Constituent Assembly (CA) Election in 2008 from both Morang and Sunsari districts.\\nHe lost from Morang and won in Sunsari in the Second CA Election in 2013. He contested from Saptari-2, which includes Mahadeva Rural Municipality where he was born, in 2017 in search of a safe seat. But he lost to Raut even in that safe constituency in the recent election.\\nHe has now taken his caravan to Bara-2 and suffers from the same malaise that took him down in Saptari. Many voters complain that he has not done anything for the people of Madhes despite continuously becoming lawmaker and minister in the past 15 years and used politics as a means to get into the government.\\nThe fact that Raut roped in Kushwaha from Maoist Center to defeat Upendra Yadav also seems to be working against Yadav with the Janamat Party candidate looking set to add a few votes on his own on top of all those he looks set to amass owing to the charisma and popularity of Raut.\\nUpendra Yadav also looks set to struggle to attract all the votes from the second largest party in the constituency, NC, despite the grand old party officially supporting him. He will have to attract as many NC votes as he can if he were to register a narrow win over Kushwaha.\\n'"
      ]
     },
     "execution_count": 7,
     "metadata": {},
     "output_type": "execute_result"
    }
   ],
   "source": [
    "data['News'][0]"
   ]
  },
  {
   "cell_type": "code",
   "execution_count": 8,
   "id": "784fc6e4",
   "metadata": {},
   "outputs": [
    {
     "name": "stdout",
     "output_type": "stream",
     "text": [
      "!\"#$%&'()*+,-./:;<=>?@[\\]^_`{|}~\n"
     ]
    }
   ],
   "source": [
    "import string\n",
    "from nltk.corpus import stopwords\n",
    "print(string.punctuation)"
   ]
  },
  {
   "cell_type": "code",
   "execution_count": 9,
   "id": "cd9684c7",
   "metadata": {},
   "outputs": [
    {
     "name": "stderr",
     "output_type": "stream",
     "text": [
      "[nltk_data] Downloading package stopwords to\n",
      "[nltk_data]     C:\\Users\\Dell\\AppData\\Roaming\\nltk_data...\n",
      "[nltk_data]   Package stopwords is already up-to-date!\n"
     ]
    },
    {
     "data": {
      "text/plain": [
       "['i',\n",
       " 'me',\n",
       " 'my',\n",
       " 'myself',\n",
       " 'we',\n",
       " 'our',\n",
       " 'ours',\n",
       " 'ourselves',\n",
       " 'you',\n",
       " \"you're\",\n",
       " \"you've\",\n",
       " \"you'll\",\n",
       " \"you'd\",\n",
       " 'your',\n",
       " 'yours',\n",
       " 'yourself',\n",
       " 'yourselves',\n",
       " 'he',\n",
       " 'him',\n",
       " 'his',\n",
       " 'himself',\n",
       " 'she',\n",
       " \"she's\",\n",
       " 'her',\n",
       " 'hers',\n",
       " 'herself',\n",
       " 'it',\n",
       " \"it's\",\n",
       " 'its',\n",
       " 'itself',\n",
       " 'they',\n",
       " 'them',\n",
       " 'their',\n",
       " 'theirs',\n",
       " 'themselves',\n",
       " 'what',\n",
       " 'which',\n",
       " 'who',\n",
       " 'whom',\n",
       " 'this',\n",
       " 'that',\n",
       " \"that'll\",\n",
       " 'these',\n",
       " 'those',\n",
       " 'am',\n",
       " 'is',\n",
       " 'are',\n",
       " 'was',\n",
       " 'were',\n",
       " 'be',\n",
       " 'been',\n",
       " 'being',\n",
       " 'have',\n",
       " 'has',\n",
       " 'had',\n",
       " 'having',\n",
       " 'do',\n",
       " 'does',\n",
       " 'did',\n",
       " 'doing',\n",
       " 'a',\n",
       " 'an',\n",
       " 'the',\n",
       " 'and',\n",
       " 'but',\n",
       " 'if',\n",
       " 'or',\n",
       " 'because',\n",
       " 'as',\n",
       " 'until',\n",
       " 'while',\n",
       " 'of',\n",
       " 'at',\n",
       " 'by',\n",
       " 'for',\n",
       " 'with',\n",
       " 'about',\n",
       " 'against',\n",
       " 'between',\n",
       " 'into',\n",
       " 'through',\n",
       " 'during',\n",
       " 'before',\n",
       " 'after',\n",
       " 'above',\n",
       " 'below',\n",
       " 'to',\n",
       " 'from',\n",
       " 'up',\n",
       " 'down',\n",
       " 'in',\n",
       " 'out',\n",
       " 'on',\n",
       " 'off',\n",
       " 'over',\n",
       " 'under',\n",
       " 'again',\n",
       " 'further',\n",
       " 'then',\n",
       " 'once',\n",
       " 'here',\n",
       " 'there',\n",
       " 'when',\n",
       " 'where',\n",
       " 'why',\n",
       " 'how',\n",
       " 'all',\n",
       " 'any',\n",
       " 'both',\n",
       " 'each',\n",
       " 'few',\n",
       " 'more',\n",
       " 'most',\n",
       " 'other',\n",
       " 'some',\n",
       " 'such',\n",
       " 'no',\n",
       " 'nor',\n",
       " 'not',\n",
       " 'only',\n",
       " 'own',\n",
       " 'same',\n",
       " 'so',\n",
       " 'than',\n",
       " 'too',\n",
       " 'very',\n",
       " 's',\n",
       " 't',\n",
       " 'can',\n",
       " 'will',\n",
       " 'just',\n",
       " 'don',\n",
       " \"don't\",\n",
       " 'should',\n",
       " \"should've\",\n",
       " 'now',\n",
       " 'd',\n",
       " 'll',\n",
       " 'm',\n",
       " 'o',\n",
       " 're',\n",
       " 've',\n",
       " 'y',\n",
       " 'ain',\n",
       " 'aren',\n",
       " \"aren't\",\n",
       " 'couldn',\n",
       " \"couldn't\",\n",
       " 'didn',\n",
       " \"didn't\",\n",
       " 'doesn',\n",
       " \"doesn't\",\n",
       " 'hadn',\n",
       " \"hadn't\",\n",
       " 'hasn',\n",
       " \"hasn't\",\n",
       " 'haven',\n",
       " \"haven't\",\n",
       " 'isn',\n",
       " \"isn't\",\n",
       " 'ma',\n",
       " 'mightn',\n",
       " \"mightn't\",\n",
       " 'mustn',\n",
       " \"mustn't\",\n",
       " 'needn',\n",
       " \"needn't\",\n",
       " 'shan',\n",
       " \"shan't\",\n",
       " 'shouldn',\n",
       " \"shouldn't\",\n",
       " 'wasn',\n",
       " \"wasn't\",\n",
       " 'weren',\n",
       " \"weren't\",\n",
       " 'won',\n",
       " \"won't\",\n",
       " 'wouldn',\n",
       " \"wouldn't\"]"
      ]
     },
     "execution_count": 9,
     "metadata": {},
     "output_type": "execute_result"
    }
   ],
   "source": [
    "import nltk\n",
    "from nltk.corpus import stopwords\n",
    "nltk.download('stopwords')\n",
    "stopwords.words('english')"
   ]
  },
  {
   "cell_type": "code",
   "execution_count": 10,
   "id": "0428b80d",
   "metadata": {},
   "outputs": [],
   "source": [
    "def text_process(mess):\n",
    "    \"\"\"\n",
    "    Takes in a string of text, then performs the following:\n",
    "    1. Remove all punctuation\n",
    "    2. Remove all stopwords\n",
    "    3. Returns a list of the cleaned text\n",
    "    \"\"\"\n",
    "    # Check characters to see if they are in punctuation\n",
    "    nopunc = [char for char in mess if char not in string.punctuation]\n",
    "    \n",
    "    # Join the characters again to form the string.\n",
    "    nopunc = ''.join(nopunc)\n",
    "    # Now just remove any stopwords\n",
    "    nostopword = [word for word in nopunc.split() if word.lower() not in stopwords.words('english')]\n",
    "    nostopword = ' '.join(nostopword)\n",
    "    return nostopword"
   ]
  },
  {
   "cell_type": "code",
   "execution_count": 11,
   "id": "7aa0bfe9",
   "metadata": {},
   "outputs": [],
   "source": [
    "data['News'] = data['News'].apply(text_process)"
   ]
  },
  {
   "cell_type": "code",
   "execution_count": 12,
   "id": "67662082",
   "metadata": {},
   "outputs": [
    {
     "data": {
      "text/html": [
       "<div>\n",
       "<style scoped>\n",
       "    .dataframe tbody tr th:only-of-type {\n",
       "        vertical-align: middle;\n",
       "    }\n",
       "\n",
       "    .dataframe tbody tr th {\n",
       "        vertical-align: top;\n",
       "    }\n",
       "\n",
       "    .dataframe thead th {\n",
       "        text-align: right;\n",
       "    }\n",
       "</style>\n",
       "<table border=\"1\" class=\"dataframe\">\n",
       "  <thead>\n",
       "    <tr style=\"text-align: right;\">\n",
       "      <th></th>\n",
       "      <th>Unnamed: 0</th>\n",
       "      <th>Category</th>\n",
       "      <th>Link</th>\n",
       "      <th>News</th>\n",
       "    </tr>\n",
       "  </thead>\n",
       "  <tbody>\n",
       "    <tr>\n",
       "      <th>0</th>\n",
       "      <td>0</td>\n",
       "      <td>political</td>\n",
       "      <td>https://en.setopati.com/political/160842</td>\n",
       "      <td>Janata Samajwadi Party JSP Chairman Upendra Ya...</td>\n",
       "    </tr>\n",
       "    <tr>\n",
       "      <th>1</th>\n",
       "      <td>1</td>\n",
       "      <td>political</td>\n",
       "      <td>https://en.setopati.com/political/160842</td>\n",
       "      <td>Janata Samajwadi Party JSP Chairman Upendra Ya...</td>\n",
       "    </tr>\n",
       "    <tr>\n",
       "      <th>2</th>\n",
       "      <td>2</td>\n",
       "      <td>political</td>\n",
       "      <td>https://en.setopati.com/political/160851</td>\n",
       "      <td>Cabinet revoked decision hand contract authent...</td>\n",
       "    </tr>\n",
       "    <tr>\n",
       "      <th>3</th>\n",
       "      <td>3</td>\n",
       "      <td>political</td>\n",
       "      <td>https://en.setopati.com/political/160850</td>\n",
       "      <td>Baburam Bhattarailed Nepal Samajwadi Party NSP...</td>\n",
       "    </tr>\n",
       "    <tr>\n",
       "      <th>4</th>\n",
       "      <td>4</td>\n",
       "      <td>political</td>\n",
       "      <td>https://en.setopati.com/political/160847</td>\n",
       "      <td>Hearing writ petition filed Kathmandu Metropol...</td>\n",
       "    </tr>\n",
       "    <tr>\n",
       "      <th>...</th>\n",
       "      <td>...</td>\n",
       "      <td>...</td>\n",
       "      <td>...</td>\n",
       "      <td>...</td>\n",
       "    </tr>\n",
       "    <tr>\n",
       "      <th>430</th>\n",
       "      <td>433</td>\n",
       "      <td>International</td>\n",
       "      <td>https://en.setopati.com/International/160668</td>\n",
       "      <td>decision whether indict former President Donal...</td>\n",
       "    </tr>\n",
       "    <tr>\n",
       "      <th>431</th>\n",
       "      <td>434</td>\n",
       "      <td>International</td>\n",
       "      <td>https://en.setopati.com/International/160667</td>\n",
       "      <td>Japanese Prime Minister Fumio Kishida made sur...</td>\n",
       "    </tr>\n",
       "    <tr>\n",
       "      <th>432</th>\n",
       "      <td>435</td>\n",
       "      <td>International</td>\n",
       "      <td>https://en.setopati.com/International/160666</td>\n",
       "      <td>China suddenly scrapped onerous zeroCOVID meas...</td>\n",
       "    </tr>\n",
       "    <tr>\n",
       "      <th>433</th>\n",
       "      <td>436</td>\n",
       "      <td>International</td>\n",
       "      <td>https://en.setopati.com/International/160661</td>\n",
       "      <td>Japanese Prime Minister Fumio Kishida began su...</td>\n",
       "    </tr>\n",
       "    <tr>\n",
       "      <th>434</th>\n",
       "      <td>437</td>\n",
       "      <td>International</td>\n",
       "      <td>https://en.setopati.com/International/160656</td>\n",
       "      <td>Chinese leader Xi Jinping arrived Moscow Monda...</td>\n",
       "    </tr>\n",
       "  </tbody>\n",
       "</table>\n",
       "<p>435 rows × 4 columns</p>\n",
       "</div>"
      ],
      "text/plain": [
       "     Unnamed: 0       Category                                          Link  \\\n",
       "0             0      political      https://en.setopati.com/political/160842   \n",
       "1             1      political      https://en.setopati.com/political/160842   \n",
       "2             2      political      https://en.setopati.com/political/160851   \n",
       "3             3      political      https://en.setopati.com/political/160850   \n",
       "4             4      political      https://en.setopati.com/political/160847   \n",
       "..          ...            ...                                           ...   \n",
       "430         433  International  https://en.setopati.com/International/160668   \n",
       "431         434  International  https://en.setopati.com/International/160667   \n",
       "432         435  International  https://en.setopati.com/International/160666   \n",
       "433         436  International  https://en.setopati.com/International/160661   \n",
       "434         437  International  https://en.setopati.com/International/160656   \n",
       "\n",
       "                                                  News  \n",
       "0    Janata Samajwadi Party JSP Chairman Upendra Ya...  \n",
       "1    Janata Samajwadi Party JSP Chairman Upendra Ya...  \n",
       "2    Cabinet revoked decision hand contract authent...  \n",
       "3    Baburam Bhattarailed Nepal Samajwadi Party NSP...  \n",
       "4    Hearing writ petition filed Kathmandu Metropol...  \n",
       "..                                                 ...  \n",
       "430  decision whether indict former President Donal...  \n",
       "431  Japanese Prime Minister Fumio Kishida made sur...  \n",
       "432  China suddenly scrapped onerous zeroCOVID meas...  \n",
       "433  Japanese Prime Minister Fumio Kishida began su...  \n",
       "434  Chinese leader Xi Jinping arrived Moscow Monda...  \n",
       "\n",
       "[435 rows x 4 columns]"
      ]
     },
     "execution_count": 12,
     "metadata": {},
     "output_type": "execute_result"
    }
   ],
   "source": [
    "data"
   ]
  },
  {
   "cell_type": "code",
   "execution_count": 13,
   "id": "f33902d9",
   "metadata": {},
   "outputs": [
    {
     "data": {
      "text/plain": [
       "'Janata Samajwadi Party JSP Chairman Upendra Yadav lost Janamat Party Chairman CK Raut House Representatives HoR constituency Saptari2 November 2022 may suffer hands Raut byelection Bara2 battle waning preeminent force Madhes JSP rising force Janamat Party hopes one day overtake JSP strongest party plains Raut recognizing party directly compete JSP wishes become major force Madhes ushered Shiv Chandra Kushwaha Janamat Party CPN Maoist Center defeat Yadav byelection Bara2 Many say JSP Chairman Yadav made confidant Ram Sahay Prasad Yadav elected Bara2 vicepresident contest byelection constituency big population Yadavs JSP strong organization Setopati reached wards constituency includes three municipalities two rural municipalities talked 560 voters upcoming byelection preferred partiescandidates reasons preference important issues among things constituency includes whole Mahagadhimai Pachrauta municipalities Suvarna Devtal Karaiyamai rural municipalities Ward Number 8 Kolhabi Municipality 30004000 around 125000 voters constituency hill origin Yadavs constitute biggest community Pachpaunia community also includes Janamat Party candidate Kushwaha second biggest community constituency also includes Madhesi Dalits Tharus Muslims whopping 199 355 560 voters Setopati talked said would vote Kushwaha—who secured 13823 votes contesting common coalition candidate Maoist ticket lost Ram Sahay Prasad Yadav 355 votes November election—while 161 287 said would vote Upendra Yadav Sixtytwo 11 said would vote Ramesh Kharel Rastriya Swatantra Party RSP 59 105 pledged vote Purushottam Paudel CPNUML meaning two would close fight third position Thirtyone 55 said would vote Arun Gyawali Janata Party led Prabhu Sah 48 85 voters said yet decide vote Janamat Party seems set attract votes JSP constituency Fiftyeight 199 pledged vote Kushwaha said voted JSP November 27 said voted CPN Maoist Center 18 independent candidates 11 voted November due different reasons Similarly 16 pledged vote Janamat Party despite affiliated Nepali Congress NC Ninetyfour 161 pledged vote Upendra Yadav said voted JSP also November 17 said voted independent candidates Twentyeight said supported NC would vote Yadav common coalition candidate nine said supported Maoist Center would vote Yadav reason Four said would vote Yadav despite supporting UML six said voted November due different reasons JSP also seems leaking votes RSP fielded Ramesh Kharel resigned post DIG Nepal Police made name serving SP Parsa district past Kharel campaigning SP Kharel capitalize goodwill voters also said would vote due RSP President Rabi Lamichhane Sixteen 62 pledged vote RSP’s Kharel said voted JSP November six firsttime voters Nine said would vote Kharel despite NC supporters three UML supporters also pledged vote 59 voters pledged vote UML candidate Paudel said would vote support UML shows hard UML supported Ram Sahay Prasad Yadav constituency November attract voters parties even looks set leak votes Janamat Party RSP even JSP mean Upendra Yadav definitely lose Kushwaha elected voting takes place week later voters may swing intervening period fact Yadav looks behind race Bara2 remains JSP stronghold party organization constituency matter grave concern Yadav JSP’s Ram Sahay Prasad Yadav defeated common coalition candidate Kushwaha supported NC JSP also largest party constituency basis Proportional Representation PR electoral system votes securing 13242 votes NC second 11179 followed UML 9193 Janamat Party 8846 Loktantrik Samajwadi Party LSP 4225 Maoist Center 3256 Upendra Yadav also support NC LSP Maoist Center common candidate ruling coalition together secured 31902 PR votes November also support Ram Kishore Yadav secured 11043 votes contesting independent candidate quitting JSP Bara2 Rabindra Prasad Yadav secured 10750 votes contesting rebel NC candidate Upendra Yadav seems trailing Kushwaha despite main reason Upendra Yadav contesting Kushwaha Raut defeated Saptari appears rematch November contest Many voters Setopati talked said Raut Upendra Yadav set close fight despite Raut contesting election Raut’s magic seems work youths women impoverished people Dalits Aware defeating Upendra Yadav Bara2 establish prominent leader Madhes Raut staying Bara recent times visited wards constituency tea voters talked sharing woes happiness Upendra Yadav also based constituency contrast Raut cannot starker Yadav visits motorcade communicating directly voters never forte Yadav neither talk eyes laugh gay abandon Many voters complain listen grievances Yadav also suffers disadvantage trying become HoR member backdoor five months resounding defeat Saptari engineering election confidant Ram Sahay Prasad Yadav country’s vicepresident Many point exercised patience waited five years always faced accusation continuously changing constituency Yadav—who lost NC’s Girija Prasad Koirala Sunsari5 UML ticket first parliamentary election restoration democracy 1990 later joined Maoist party—rose messiah Madhes following Madhes Movement triggered torching Interim Constitution Maitighar Mandala day promulgated January 15 2007 founder political advocacy movement named Madhesi Janadhikar Forum next Madhes Movement forced Koirala sign agreement accepting federalism Yadav turned organization political party emerged fourth largest party Maoists NC UML following First Constituent Assembly CA Election 2008 elected First Constituent Assembly CA Election 2008 Morang Sunsari districts lost Morang Sunsari Second CA Election 2013 contested Saptari2 includes Mahadeva Rural Municipality born 2017 search safe seat lost Raut even safe constituency recent election taken caravan Bara2 suffers malaise took Saptari Many voters complain done anything people Madhes despite continuously becoming lawmaker minister past 15 years used politics means get government fact Raut roped Kushwaha Maoist Center defeat Upendra Yadav also seems working Yadav Janamat Party candidate looking set add votes top looks set amass owing charisma popularity Raut Upendra Yadav also looks set struggle attract votes second largest party constituency NC despite grand old party officially supporting attract many NC votes register narrow win Kushwaha'"
      ]
     },
     "execution_count": 13,
     "metadata": {},
     "output_type": "execute_result"
    }
   ],
   "source": [
    "data['News'][0]"
   ]
  },
  {
   "cell_type": "code",
   "execution_count": 15,
   "id": "1469800c",
   "metadata": {},
   "outputs": [],
   "source": [
    "data.to_csv('09-classfication/cleaned.csv')"
   ]
  },
  {
   "cell_type": "code",
   "execution_count": 18,
   "id": "ec0ec0ad",
   "metadata": {},
   "outputs": [
    {
     "data": {
      "text/html": [
       "<div>\n",
       "<style scoped>\n",
       "    .dataframe tbody tr th:only-of-type {\n",
       "        vertical-align: middle;\n",
       "    }\n",
       "\n",
       "    .dataframe tbody tr th {\n",
       "        vertical-align: top;\n",
       "    }\n",
       "\n",
       "    .dataframe thead th {\n",
       "        text-align: right;\n",
       "    }\n",
       "</style>\n",
       "<table border=\"1\" class=\"dataframe\">\n",
       "  <thead>\n",
       "    <tr style=\"text-align: right;\">\n",
       "      <th></th>\n",
       "      <th>Category</th>\n",
       "      <th>News</th>\n",
       "    </tr>\n",
       "  </thead>\n",
       "  <tbody>\n",
       "    <tr>\n",
       "      <th>0</th>\n",
       "      <td>political</td>\n",
       "      <td>Janata Samajwadi Party JSP Chairman Upendra Ya...</td>\n",
       "    </tr>\n",
       "    <tr>\n",
       "      <th>1</th>\n",
       "      <td>political</td>\n",
       "      <td>Janata Samajwadi Party JSP Chairman Upendra Ya...</td>\n",
       "    </tr>\n",
       "    <tr>\n",
       "      <th>2</th>\n",
       "      <td>political</td>\n",
       "      <td>Cabinet revoked decision hand contract authent...</td>\n",
       "    </tr>\n",
       "    <tr>\n",
       "      <th>3</th>\n",
       "      <td>political</td>\n",
       "      <td>Baburam Bhattarailed Nepal Samajwadi Party NSP...</td>\n",
       "    </tr>\n",
       "    <tr>\n",
       "      <th>4</th>\n",
       "      <td>political</td>\n",
       "      <td>Hearing writ petition filed Kathmandu Metropol...</td>\n",
       "    </tr>\n",
       "    <tr>\n",
       "      <th>...</th>\n",
       "      <td>...</td>\n",
       "      <td>...</td>\n",
       "    </tr>\n",
       "    <tr>\n",
       "      <th>430</th>\n",
       "      <td>International</td>\n",
       "      <td>decision whether indict former President Donal...</td>\n",
       "    </tr>\n",
       "    <tr>\n",
       "      <th>431</th>\n",
       "      <td>International</td>\n",
       "      <td>Japanese Prime Minister Fumio Kishida made sur...</td>\n",
       "    </tr>\n",
       "    <tr>\n",
       "      <th>432</th>\n",
       "      <td>International</td>\n",
       "      <td>China suddenly scrapped onerous zeroCOVID meas...</td>\n",
       "    </tr>\n",
       "    <tr>\n",
       "      <th>433</th>\n",
       "      <td>International</td>\n",
       "      <td>Japanese Prime Minister Fumio Kishida began su...</td>\n",
       "    </tr>\n",
       "    <tr>\n",
       "      <th>434</th>\n",
       "      <td>International</td>\n",
       "      <td>Chinese leader Xi Jinping arrived Moscow Monda...</td>\n",
       "    </tr>\n",
       "  </tbody>\n",
       "</table>\n",
       "<p>435 rows × 2 columns</p>\n",
       "</div>"
      ],
      "text/plain": [
       "          Category                                               News\n",
       "0        political  Janata Samajwadi Party JSP Chairman Upendra Ya...\n",
       "1        political  Janata Samajwadi Party JSP Chairman Upendra Ya...\n",
       "2        political  Cabinet revoked decision hand contract authent...\n",
       "3        political  Baburam Bhattarailed Nepal Samajwadi Party NSP...\n",
       "4        political  Hearing writ petition filed Kathmandu Metropol...\n",
       "..             ...                                                ...\n",
       "430  International  decision whether indict former President Donal...\n",
       "431  International  Japanese Prime Minister Fumio Kishida made sur...\n",
       "432  International  China suddenly scrapped onerous zeroCOVID meas...\n",
       "433  International  Japanese Prime Minister Fumio Kishida began su...\n",
       "434  International  Chinese leader Xi Jinping arrived Moscow Monda...\n",
       "\n",
       "[435 rows x 2 columns]"
      ]
     },
     "execution_count": 18,
     "metadata": {},
     "output_type": "execute_result"
    }
   ],
   "source": [
    "df=pd.read_csv('09-classfication/cleaned_news.csv',usecols=['Category', 'News'])\n",
    "df"
   ]
  },
  {
   "cell_type": "code",
   "execution_count": 4,
   "id": "2d3f8450",
   "metadata": {},
   "outputs": [
    {
     "data": {
      "image/png": "[encoded data removed]",
      "text/plain": [
       "<Figure size 432x288 with 1 Axes>"
      ]
     },
     "metadata": {
      "needs_background": "light"
     },
     "output_type": "display_data"
    }
   ],
   "source": [
    "#Analyzing data\n",
    "df.groupby('Category').News.count().plot.bar(ylim=0)\n",
    "plt.show()"
   ]
  },
  {
   "cell_type": "code",
   "execution_count": 5,
   "id": "1e8c8c64",
   "metadata": {},
   "outputs": [
    {
     "name": "stderr",
     "output_type": "stream",
     "text": [
      "[nltk_data] Downloading package stopwords to\n",
      "[nltk_data]     C:\\Users\\Dell\\AppData\\Roaming\\nltk_data...\n",
      "[nltk_data]   Package stopwords is already up-to-date!\n"
     ]
    }
   ],
   "source": [
    "import numpy as np \n",
    "import pandas as pd\n",
    "import re,string\n",
    "import matplotlib.pyplot as plt\n",
    "from nltk.corpus import stopwords\n",
    "from nltk.stem import PorterStemmer\n",
    "from sklearn.feature_extraction.text import TfidfVectorizer\n",
    "from sklearn.pipeline import Pipeline\n",
    "from sklearn.metrics import classification_report, confusion_matrix\n",
    "from sklearn.model_selection import train_test_split\n",
    "from sklearn.feature_selection import SelectKBest, chi2\n",
    "from sklearn.ensemble import RandomForestClassifier\n",
    "import pickle\n",
    "import nltk\n",
    "nltk.download('stopwords')\n",
    "%matplotlib inline"
   ]
  },
  {
   "cell_type": "code",
   "execution_count": 6,
   "id": "609b9dcd",
   "metadata": {},
   "outputs": [],
   "source": [
    "# Training model\n",
    "from sklearn.linear_model import LogisticRegression\n",
    "log_regression = LogisticRegression()\n",
    "\n",
    "vectorizer = TfidfVectorizer(stop_words=\"english\", norm='l2')\n",
    "\n",
    "X = df['News']\n",
    "Y = df['Category']\n",
    "X_train, X_test, y_train, y_test = train_test_split(X, Y, test_size=0.25) #Splitting dataset"
   ]
  },
  {
   "cell_type": "code",
   "execution_count": 26,
   "id": "299e9b5f",
   "metadata": {},
   "outputs": [
    {
     "data": {
      "text/plain": [
       "'Cabinet revoked decision hand contract authenticating personal biological details citizens acquiring national identity card foreign company Rastriya Swatantra Party RSP President Rabi Lamichhane awarded contract Advantage International fast track home minister Cabinet meeting Monday revoked decision according minister decision revoked Home Ministry consult seek permission Law Ministry Finance Ministry awarding contract awarded per laws regulations according minister “Everything considered handing responsibility sensitive issue related national security foreign company found done decision revoked Law Ministry Finance Ministry consulted laws followed apart that” minister added issued would also investigated Lamichhane issued working procedure allowing invitation bids contract giving sevenday deadline two days sworn home minister Clause 14 Public Procurement Act requires 45day deadline inviting bids international tender law requires 15day extension first sevenday extension bids received period company awarded contract January 26 Supreme Court SC next day ruled Lamichhane ineligible become lawmaker complete process reacquire citizenship certificate became invalid acquired US citizenship Lamichhane resigned deputy prime minister home minister day'"
      ]
     },
     "execution_count": 26,
     "metadata": {},
     "output_type": "execute_result"
    }
   ],
   "source": [
    "X_train[2]"
   ]
  },
  {
   "cell_type": "code",
   "execution_count": 9,
   "id": "fdebccfa",
   "metadata": {},
   "outputs": [],
   "source": [
    "#Creating Pipeline\n",
    "pipeline = Pipeline([('vect', vectorizer),\n",
    "                     ('chi',  SelectKBest(chi2, k=1200)),\n",
    "                     ('clf', LogisticRegression(random_state=0))])"
   ]
  },
  {
   "cell_type": "code",
   "execution_count": 10,
   "id": "ded9ca8d",
   "metadata": {},
   "outputs": [],
   "source": [
    "#Training model\n",
    "model = pipeline.fit(X_train, y_train)"
   ]
  },
  {
   "cell_type": "code",
   "execution_count": 11,
   "id": "d9749106",
   "metadata": {},
   "outputs": [],
   "source": [
    "#Creating pickle file\n",
    "with open('LogisticRegression.pickle', 'wb') as f:\n",
    "    pickle.dump(model, f)"
   ]
  },
  {
   "cell_type": "code",
   "execution_count": 37,
   "id": "410bc2c9",
   "metadata": {},
   "outputs": [
    {
     "name": "stdout",
     "output_type": "stream",
     "text": [
      "0.8807339449541285\n",
      "\n",
      "\n",
      "['blog' 'sports' 'blog' 'political' 'International' 'entertainment'\n",
      " 'political' 'view' 'entertainment' 'entertainment' 'entertainment'\n",
      " 'sports' 'International' 'entertainment' 'entertainment' 'sports' 'view'\n",
      " 'blog' 'entertainment' 'political' 'sports' 'blog' 'blog' 'social'\n",
      " 'political' 'sports' 'sports' 'entertainment' 'blog' 'sports' 'political'\n",
      " 'political' 'social' 'International' 'view' 'blog' 'sports' 'political'\n",
      " 'political' 'political' 'blog' 'entertainment' 'political' 'sports'\n",
      " 'entertainment' 'International' 'entertainment' 'entertainment' 'view'\n",
      " 'social' 'view' 'entertainment' 'social' 'political' 'view'\n",
      " 'entertainment' 'view' 'blog' 'view' 'blog' 'political' 'social' 'view'\n",
      " 'International' 'social' 'political' 'entertainment' 'entertainment'\n",
      " 'political' 'view' 'International' 'blog' 'view' 'sports' 'International'\n",
      " 'sports' 'social' 'sports' 'political' 'entertainment' 'social' 'view'\n",
      " 'view' 'social' 'view' 'social' 'sports' 'blog' 'view' 'political'\n",
      " 'International' 'social' 'social' 'social' 'sports' 'social' 'view'\n",
      " 'social' 'entertainment' 'International' 'sports' 'political'\n",
      " 'International' 'blog' 'view' 'sports' 'view' 'International' 'blog']\n"
     ]
    }
   ],
   "source": [
    "#Accuracy\n",
    "from sklearn.metrics import accuracy_score\n",
    "predict = model.predict(X_test)\n",
    "print(accuracy_score(y_test,predict))\n",
    "print('\\n')\n",
    "print(predict)"
   ]
  },
  {
   "cell_type": "code",
   "execution_count": 40,
   "id": "5df5544d",
   "metadata": {},
   "outputs": [],
   "source": [
    "realtimes_news=pd.DataFrame({'real_news':['''Cabinet revoked decision hand contract authenticating personal biological details citizens acquiring national identity card foreign company Rastriya Swatantra Party RSP President Rabi Lamichhane awarded contract Advantage International fast track home minister Cabinet meeting Monday revoked decision according minister decision revoked Home Ministry consult seek permission Law Ministry Finance Ministry awarding contract awarded per laws regulations according minister “Everything considered handing responsibility sensitive issue related national security foreign company found done decision revoked Law Ministry Finance Ministry consulted laws followed apart that” minister added issued would also investigated Lamichhane issued working procedure allowing invitation bids contract giving sevenday deadline two days sworn home minister Clause 14 Public Procurement Act requires 45day deadline inviting bids international tender law requires 15day extension first sevenday extension bids received period company awarded contract January 26 Supreme Court SC next day ruled Lamichhane ineligible become lawmaker complete process reacquire citizenship certificate became invalid acquired US citizenship Lamichhane resigned deputy prime minister home minister day''']})"
   ]
  },
  {
   "cell_type": "code",
   "execution_count": 36,
   "id": "305364da",
   "metadata": {},
   "outputs": [],
   "source": [
    "real_news=input('any news predict')\n",
    "realtimes_news=pd.DataFrame({'real_news':[real_news]})\n",
    "#Accuracy and predict\n",
    "from sklearn.metrics import accuracy_score\n",
    "predict = model.predict(realtimes_news['real_news'])\n",
    "print(predict)"
   ]
  },
  {
   "cell_type": "code",
   "execution_count": 13,
   "id": "7082338f",
   "metadata": {},
   "outputs": [
    {
     "data": {
      "text/plain": [
       "263    point doll respect lies stored specific areas ...\n",
       "221    Nepali weightlifting team competing World Univ...\n",
       "110    Patan historical city situated Lalitpur Distri...\n",
       "160    Rastriya Swatantra Party RSP suspended lawmake...\n",
       "425    asteroid big enough wipe city zip harmlessly E...\n",
       "                             ...                        \n",
       "408    government imposed lockdown March due COVID19 ...\n",
       "64     paragliding athlete died participating paragli...\n",
       "83     Industry Minister Gajendra Hamal resigned 40 h...\n",
       "417    bidders India’s multibilliondollar incentive m...\n",
       "401    Nepali theater industry’s struggle stability a...\n",
       "Name: News, Length: 109, dtype: object"
      ]
     },
     "execution_count": 13,
     "metadata": {},
     "output_type": "execute_result"
    }
   ],
   "source": [
    "X_test"
   ]
  },
  {
   "cell_type": "code",
   "execution_count": 14,
   "id": "c1b8a6cb",
   "metadata": {},
   "outputs": [
    {
     "data": {
      "text/plain": [
       "263             blog\n",
       "221           sports\n",
       "110             blog\n",
       "160        political\n",
       "425    International\n",
       "           ...      \n",
       "408             blog\n",
       "64            sports\n",
       "83              view\n",
       "417    International\n",
       "401             blog\n",
       "Name: Category, Length: 109, dtype: object"
      ]
     },
     "execution_count": 14,
     "metadata": {},
     "output_type": "execute_result"
    }
   ],
   "source": [
    "y_test"
   ]
  },
  {
   "cell_type": "code",
   "execution_count": 41,
   "id": "4f42bfab",
   "metadata": {},
   "outputs": [
    {
     "name": "stdout",
     "output_type": "stream",
     "text": [
      "               precision    recall  f1-score   support\n",
      "\n",
      "International       1.00      0.92      0.96        12\n",
      "         blog       0.86      0.71      0.77        17\n",
      "entertainment       1.00      0.95      0.97        19\n",
      "    political       0.94      1.00      0.97        16\n",
      "       social       0.73      0.85      0.79        13\n",
      "       sports       1.00      0.89      0.94        18\n",
      "         view       0.67      0.86      0.75        14\n",
      "\n",
      "     accuracy                           0.88       109\n",
      "    macro avg       0.89      0.88      0.88       109\n",
      " weighted avg       0.89      0.88      0.88       109\n",
      "\n",
      "[[11  0  0  0  1  0  0]\n",
      " [ 0 12  0  0  0  0  5]\n",
      " [ 0  0 18  0  1  0  0]\n",
      " [ 0  0  0 16  0  0  0]\n",
      " [ 0  0  0  1 11  0  1]\n",
      " [ 0  1  0  0  1 16  0]\n",
      " [ 0  1  0  0  1  0 12]]\n"
     ]
    }
   ],
   "source": [
    "# confusion matrix and classification report(precision, recall, F1-score)\n",
    "ytest = np.array(y_test)\n",
    "print(classification_report(ytest, model.predict(X_test)))\n",
    "print(confusion_matrix(ytest, model.predict(X_test)))"
   ]
  },
  {
   "cell_type": "code",
   "execution_count": null,
   "id": "3e81068b",
   "metadata": {},
   "outputs": [],
   "source": []
  },
  {
   "cell_type": "code",
   "execution_count": null,
   "id": "f441d567",
   "metadata": {},
   "outputs": [],
   "source": []
  },
  {
   "cell_type": "code",
   "execution_count": null,
   "id": "42b2d1dd",
   "metadata": {},
   "outputs": [],
   "source": []
  },
  {
   "cell_type": "code",
   "execution_count": null,
   "id": "9157fd0f",
   "metadata": {},
   "outputs": [],
   "source": []
  }
 ],
 "metadata": {
  "kernelspec": {
   "display_name": "Python 3 (ipykernel)",
   "language": "python",
   "name": "python3"
  },
  "language_info": {
   "codemirror_mode": {
    "name": "ipython",
    "version": 3
   },
   "file_extension": ".py",
   "mimetype": "text/x-python",
   "name": "python",
   "nbconvert_exporter": "python",
   "pygments_lexer": "ipython3",
   "version": "3.9.12"
  }
 },
 "nbformat": 4,
 "nbformat_minor": 5
}
