{
 "cells": [
  {
   "cell_type": "code",
   "execution_count": 1,
   "id": "2e4de656",
   "metadata": {},
   "outputs": [],
   "source": [
    "from bs4 import BeautifulSoup \n",
    "import requests\n",
    "import pandas as pd"
   ]
  },
  {
   "cell_type": "code",
   "execution_count": 3,
   "id": "8a95f776",
   "metadata": {},
   "outputs": [
    {
     "name": "stdout",
     "output_type": "stream",
     "text": [
      "<Response [200]>\n"
     ]
    }
   ],
   "source": []
  },
  {
   "cell_type": "code",
   "execution_count": 23,
   "id": "b356b970",
   "metadata": {},
   "outputs": [
    {
     "name": "stdout",
     "output_type": "stream",
     "text": [
      "enter of page =2\n"
     ]
    }
   ],
   "source": [
    "category=['political','social','market','entertainment','sports','view','blog','International']\n",
    "\n",
    "news_df={'Category':[],'Link':[]}\n",
    "n=int(input('enter of page ='))\n",
    "for i in range(1,n+1):\n",
    "    for cat in category:\n",
    "        url=BeautifulSoup(f'https://en.setopati.com/{cat}?page={i}','html.parser')\n",
    "        data=requests.get(url)\n",
    "        news_code=BeautifulSoup(data.text,\"lxml\")\n",
    "        for link in news_code.find_all('a'):\n",
    "            if f\"{cat}/\" in link.get('href'):\n",
    "                news_df['Link'].append(link.get('href'))\n",
    "                news_df['Category'].append(cat)\n",
    "\n",
    "                \n",
    "                "
   ]
  },
  {
   "cell_type": "code",
   "execution_count": 24,
   "id": "df817510",
   "metadata": {},
   "outputs": [
    {
     "data": {
      "text/html": [
       "<div>\n",
       "<style scoped>\n",
       "    .dataframe tbody tr th:only-of-type {\n",
       "        vertical-align: middle;\n",
       "    }\n",
       "\n",
       "    .dataframe tbody tr th {\n",
       "        vertical-align: top;\n",
       "    }\n",
       "\n",
       "    .dataframe thead th {\n",
       "        text-align: right;\n",
       "    }\n",
       "</style>\n",
       "<table border=\"1\" class=\"dataframe\">\n",
       "  <thead>\n",
       "    <tr style=\"text-align: right;\">\n",
       "      <th></th>\n",
       "      <th>Category</th>\n",
       "      <th>Link</th>\n",
       "    </tr>\n",
       "  </thead>\n",
       "  <tbody>\n",
       "    <tr>\n",
       "      <th>0</th>\n",
       "      <td>political</td>\n",
       "      <td>https://en.setopati.com/political/160778</td>\n",
       "    </tr>\n",
       "    <tr>\n",
       "      <th>1</th>\n",
       "      <td>political</td>\n",
       "      <td>https://en.setopati.com/political/160778</td>\n",
       "    </tr>\n",
       "    <tr>\n",
       "      <th>2</th>\n",
       "      <td>political</td>\n",
       "      <td>https://en.setopati.com/political/160817</td>\n",
       "    </tr>\n",
       "    <tr>\n",
       "      <th>3</th>\n",
       "      <td>political</td>\n",
       "      <td>https://en.setopati.com/political/160816</td>\n",
       "    </tr>\n",
       "    <tr>\n",
       "      <th>4</th>\n",
       "      <td>political</td>\n",
       "      <td>https://en.setopati.com/political/160814</td>\n",
       "    </tr>\n",
       "    <tr>\n",
       "      <th>...</th>\n",
       "      <td>...</td>\n",
       "      <td>...</td>\n",
       "    </tr>\n",
       "    <tr>\n",
       "      <th>287</th>\n",
       "      <td>International</td>\n",
       "      <td>https://en.setopati.com/International/160690</td>\n",
       "    </tr>\n",
       "    <tr>\n",
       "      <th>288</th>\n",
       "      <td>International</td>\n",
       "      <td>https://en.setopati.com/International/160689</td>\n",
       "    </tr>\n",
       "    <tr>\n",
       "      <th>289</th>\n",
       "      <td>International</td>\n",
       "      <td>https://en.setopati.com/International/160684</td>\n",
       "    </tr>\n",
       "    <tr>\n",
       "      <th>290</th>\n",
       "      <td>International</td>\n",
       "      <td>https://en.setopati.com/International/160681</td>\n",
       "    </tr>\n",
       "    <tr>\n",
       "      <th>291</th>\n",
       "      <td>International</td>\n",
       "      <td>https://en.setopati.com/International/160680</td>\n",
       "    </tr>\n",
       "  </tbody>\n",
       "</table>\n",
       "<p>292 rows × 2 columns</p>\n",
       "</div>"
      ],
      "text/plain": [
       "          Category                                          Link\n",
       "0        political      https://en.setopati.com/political/160778\n",
       "1        political      https://en.setopati.com/political/160778\n",
       "2        political      https://en.setopati.com/political/160817\n",
       "3        political      https://en.setopati.com/political/160816\n",
       "4        political      https://en.setopati.com/political/160814\n",
       "..             ...                                           ...\n",
       "287  International  https://en.setopati.com/International/160690\n",
       "288  International  https://en.setopati.com/International/160689\n",
       "289  International  https://en.setopati.com/International/160684\n",
       "290  International  https://en.setopati.com/International/160681\n",
       "291  International  https://en.setopati.com/International/160680\n",
       "\n",
       "[292 rows x 2 columns]"
      ]
     },
     "execution_count": 24,
     "metadata": {},
     "output_type": "execute_result"
    }
   ],
   "source": [
    "df=pd.DataFrame(news_df)\n",
    "df"
   ]
  }
 ],
 "metadata": {
  "kernelspec": {
   "display_name": "Python 3 (ipykernel)",
   "language": "python",
   "name": "python3"
  },
  "language_info": {
   "codemirror_mode": {
    "name": "ipython",
    "version": 3
   },
   "file_extension": ".py",
   "mimetype": "text/x-python",
   "name": "python",
   "nbconvert_exporter": "python",
   "pygments_lexer": "ipython3",
   "version": "3.9.12"
  }
 },
 "nbformat": 4,
 "nbformat_minor": 5
}
