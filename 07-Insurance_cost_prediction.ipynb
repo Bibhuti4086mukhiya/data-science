{
 "cells": [
  {
   "cell_type": "code",
   "execution_count": 1,
   "id": "13c4a383",
   "metadata": {
    "executionInfo": {
     "elapsed": 1210,
     "status": "ok",
     "timestamp": 1681130682320,
     "user": {
      "displayName": "Aayush Adhikari",
      "userId": "12220140506292291733"
     },
     "user_tz": -345
    },
    "id": "13c4a383"
   },
   "outputs": [],
   "source": [
    "import numpy as np\n",
    "import pandas as pd\n",
    "import matplotlib.pyplot as plt\n",
    "import seaborn as sns\n",
    "%matplotlib inline\n",
    "from matplotlib.pyplot import xticks"
   ]
  },
  {
   "cell_type": "code",
   "execution_count": 2,
   "id": "6c636fc4",
   "metadata": {
    "colab": {
     "base_uri": "https://localhost:8080/",
     "height": 423
    },
    "executionInfo": {
     "elapsed": 13,
     "status": "ok",
     "timestamp": 1681130682904,
     "user": {
      "displayName": "Aayush Adhikari",
      "userId": "12220140506292291733"
     },
     "user_tz": -345
    },
    "id": "6c636fc4",
    "outputId": "0eabdcff-8c75-4bee-a02b-44b3c0039378"
   },
   "outputs": [
    {
     "data": {
      "text/html": [
       "<div>\n",
       "<style scoped>\n",
       "    .dataframe tbody tr th:only-of-type {\n",
       "        vertical-align: middle;\n",
       "    }\n",
       "\n",
       "    .dataframe tbody tr th {\n",
       "        vertical-align: top;\n",
       "    }\n",
       "\n",
       "    .dataframe thead th {\n",
       "        text-align: right;\n",
       "    }\n",
       "</style>\n",
       "<table border=\"1\" class=\"dataframe\">\n",
       "  <thead>\n",
       "    <tr style=\"text-align: right;\">\n",
       "      <th></th>\n",
       "      <th>age</th>\n",
       "      <th>sex</th>\n",
       "      <th>bmi</th>\n",
       "      <th>children</th>\n",
       "      <th>smoker</th>\n",
       "      <th>region</th>\n",
       "      <th>expenses</th>\n",
       "    </tr>\n",
       "  </thead>\n",
       "  <tbody>\n",
       "    <tr>\n",
       "      <th>0</th>\n",
       "      <td>19</td>\n",
       "      <td>female</td>\n",
       "      <td>27.9</td>\n",
       "      <td>0</td>\n",
       "      <td>yes</td>\n",
       "      <td>southwest</td>\n",
       "      <td>16884.92</td>\n",
       "    </tr>\n",
       "    <tr>\n",
       "      <th>1</th>\n",
       "      <td>18</td>\n",
       "      <td>male</td>\n",
       "      <td>33.8</td>\n",
       "      <td>1</td>\n",
       "      <td>no</td>\n",
       "      <td>southeast</td>\n",
       "      <td>1725.55</td>\n",
       "    </tr>\n",
       "    <tr>\n",
       "      <th>2</th>\n",
       "      <td>28</td>\n",
       "      <td>male</td>\n",
       "      <td>33.0</td>\n",
       "      <td>3</td>\n",
       "      <td>no</td>\n",
       "      <td>southeast</td>\n",
       "      <td>4449.46</td>\n",
       "    </tr>\n",
       "    <tr>\n",
       "      <th>3</th>\n",
       "      <td>33</td>\n",
       "      <td>male</td>\n",
       "      <td>22.7</td>\n",
       "      <td>0</td>\n",
       "      <td>no</td>\n",
       "      <td>northwest</td>\n",
       "      <td>21984.47</td>\n",
       "    </tr>\n",
       "    <tr>\n",
       "      <th>4</th>\n",
       "      <td>32</td>\n",
       "      <td>male</td>\n",
       "      <td>28.9</td>\n",
       "      <td>0</td>\n",
       "      <td>no</td>\n",
       "      <td>northwest</td>\n",
       "      <td>3866.86</td>\n",
       "    </tr>\n",
       "    <tr>\n",
       "      <th>...</th>\n",
       "      <td>...</td>\n",
       "      <td>...</td>\n",
       "      <td>...</td>\n",
       "      <td>...</td>\n",
       "      <td>...</td>\n",
       "      <td>...</td>\n",
       "      <td>...</td>\n",
       "    </tr>\n",
       "    <tr>\n",
       "      <th>1333</th>\n",
       "      <td>50</td>\n",
       "      <td>male</td>\n",
       "      <td>31.0</td>\n",
       "      <td>3</td>\n",
       "      <td>no</td>\n",
       "      <td>northwest</td>\n",
       "      <td>10600.55</td>\n",
       "    </tr>\n",
       "    <tr>\n",
       "      <th>1334</th>\n",
       "      <td>18</td>\n",
       "      <td>female</td>\n",
       "      <td>31.9</td>\n",
       "      <td>0</td>\n",
       "      <td>no</td>\n",
       "      <td>northeast</td>\n",
       "      <td>2205.98</td>\n",
       "    </tr>\n",
       "    <tr>\n",
       "      <th>1335</th>\n",
       "      <td>18</td>\n",
       "      <td>female</td>\n",
       "      <td>36.9</td>\n",
       "      <td>0</td>\n",
       "      <td>no</td>\n",
       "      <td>southeast</td>\n",
       "      <td>1629.83</td>\n",
       "    </tr>\n",
       "    <tr>\n",
       "      <th>1336</th>\n",
       "      <td>21</td>\n",
       "      <td>female</td>\n",
       "      <td>25.8</td>\n",
       "      <td>0</td>\n",
       "      <td>no</td>\n",
       "      <td>southwest</td>\n",
       "      <td>2007.95</td>\n",
       "    </tr>\n",
       "    <tr>\n",
       "      <th>1337</th>\n",
       "      <td>61</td>\n",
       "      <td>female</td>\n",
       "      <td>29.1</td>\n",
       "      <td>0</td>\n",
       "      <td>yes</td>\n",
       "      <td>northwest</td>\n",
       "      <td>29141.36</td>\n",
       "    </tr>\n",
       "  </tbody>\n",
       "</table>\n",
       "<p>1338 rows × 7 columns</p>\n",
       "</div>"
      ],
      "text/plain": [
       "      age     sex   bmi  children smoker     region  expenses\n",
       "0      19  female  27.9         0    yes  southwest  16884.92\n",
       "1      18    male  33.8         1     no  southeast   1725.55\n",
       "2      28    male  33.0         3     no  southeast   4449.46\n",
       "3      33    male  22.7         0     no  northwest  21984.47\n",
       "4      32    male  28.9         0     no  northwest   3866.86\n",
       "...   ...     ...   ...       ...    ...        ...       ...\n",
       "1333   50    male  31.0         3     no  northwest  10600.55\n",
       "1334   18  female  31.9         0     no  northeast   2205.98\n",
       "1335   18  female  36.9         0     no  southeast   1629.83\n",
       "1336   21  female  25.8         0     no  southwest   2007.95\n",
       "1337   61  female  29.1         0    yes  northwest  29141.36\n",
       "\n",
       "[1338 rows x 7 columns]"
      ]
     },
     "execution_count": 2,
     "metadata": {},
     "output_type": "execute_result"
    }
   ],
   "source": [
    "df = pd.DataFrame(pd.read_csv(\"csv_files/insurance.csv\"))\n",
    "df"
   ]
  },
  {
   "cell_type": "code",
   "execution_count": null,
   "id": "75d054ae",
   "metadata": {
    "executionInfo": {
     "elapsed": 13,
     "status": "ok",
     "timestamp": 1681130682905,
     "user": {
      "displayName": "Aayush Adhikari",
      "userId": "12220140506292291733"
     },
     "user_tz": -345
    },
    "id": "75d054ae"
   },
   "outputs": [],
   "source": []
  },
  {
   "cell_type": "code",
   "execution_count": 3,
   "id": "d25c99b1",
   "metadata": {
    "colab": {
     "base_uri": "https://localhost:8080/",
     "height": 300
    },
    "executionInfo": {
     "elapsed": 13,
     "status": "ok",
     "timestamp": 1681130682905,
     "user": {
      "displayName": "Aayush Adhikari",
      "userId": "12220140506292291733"
     },
     "user_tz": -345
    },
    "id": "d25c99b1",
    "outputId": "28064803-9939-43bd-ed68-232296b83884"
   },
   "outputs": [
    {
     "data": {
      "text/html": [
       "<div>\n",
       "<style scoped>\n",
       "    .dataframe tbody tr th:only-of-type {\n",
       "        vertical-align: middle;\n",
       "    }\n",
       "\n",
       "    .dataframe tbody tr th {\n",
       "        vertical-align: top;\n",
       "    }\n",
       "\n",
       "    .dataframe thead th {\n",
       "        text-align: right;\n",
       "    }\n",
       "</style>\n",
       "<table border=\"1\" class=\"dataframe\">\n",
       "  <thead>\n",
       "    <tr style=\"text-align: right;\">\n",
       "      <th></th>\n",
       "      <th>age</th>\n",
       "      <th>bmi</th>\n",
       "      <th>children</th>\n",
       "      <th>expenses</th>\n",
       "    </tr>\n",
       "  </thead>\n",
       "  <tbody>\n",
       "    <tr>\n",
       "      <th>count</th>\n",
       "      <td>1338.000000</td>\n",
       "      <td>1338.000000</td>\n",
       "      <td>1338.000000</td>\n",
       "      <td>1338.000000</td>\n",
       "    </tr>\n",
       "    <tr>\n",
       "      <th>mean</th>\n",
       "      <td>39.207025</td>\n",
       "      <td>30.665471</td>\n",
       "      <td>1.094918</td>\n",
       "      <td>13270.422414</td>\n",
       "    </tr>\n",
       "    <tr>\n",
       "      <th>std</th>\n",
       "      <td>14.049960</td>\n",
       "      <td>6.098382</td>\n",
       "      <td>1.205493</td>\n",
       "      <td>12110.011240</td>\n",
       "    </tr>\n",
       "    <tr>\n",
       "      <th>min</th>\n",
       "      <td>18.000000</td>\n",
       "      <td>16.000000</td>\n",
       "      <td>0.000000</td>\n",
       "      <td>1121.870000</td>\n",
       "    </tr>\n",
       "    <tr>\n",
       "      <th>25%</th>\n",
       "      <td>27.000000</td>\n",
       "      <td>26.300000</td>\n",
       "      <td>0.000000</td>\n",
       "      <td>4740.287500</td>\n",
       "    </tr>\n",
       "    <tr>\n",
       "      <th>50%</th>\n",
       "      <td>39.000000</td>\n",
       "      <td>30.400000</td>\n",
       "      <td>1.000000</td>\n",
       "      <td>9382.030000</td>\n",
       "    </tr>\n",
       "    <tr>\n",
       "      <th>75%</th>\n",
       "      <td>51.000000</td>\n",
       "      <td>34.700000</td>\n",
       "      <td>2.000000</td>\n",
       "      <td>16639.915000</td>\n",
       "    </tr>\n",
       "    <tr>\n",
       "      <th>max</th>\n",
       "      <td>64.000000</td>\n",
       "      <td>53.100000</td>\n",
       "      <td>5.000000</td>\n",
       "      <td>63770.430000</td>\n",
       "    </tr>\n",
       "  </tbody>\n",
       "</table>\n",
       "</div>"
      ],
      "text/plain": [
       "               age          bmi     children      expenses\n",
       "count  1338.000000  1338.000000  1338.000000   1338.000000\n",
       "mean     39.207025    30.665471     1.094918  13270.422414\n",
       "std      14.049960     6.098382     1.205493  12110.011240\n",
       "min      18.000000    16.000000     0.000000   1121.870000\n",
       "25%      27.000000    26.300000     0.000000   4740.287500\n",
       "50%      39.000000    30.400000     1.000000   9382.030000\n",
       "75%      51.000000    34.700000     2.000000  16639.915000\n",
       "max      64.000000    53.100000     5.000000  63770.430000"
      ]
     },
     "execution_count": 3,
     "metadata": {},
     "output_type": "execute_result"
    }
   ],
   "source": [
    "df.describe()"
   ]
  },
  {
   "cell_type": "code",
   "execution_count": 4,
   "id": "165d6834",
   "metadata": {
    "colab": {
     "base_uri": "https://localhost:8080/"
    },
    "executionInfo": {
     "elapsed": 13,
     "status": "ok",
     "timestamp": 1681130682905,
     "user": {
      "displayName": "Aayush Adhikari",
      "userId": "12220140506292291733"
     },
     "user_tz": -345
    },
    "id": "165d6834",
    "outputId": "ae2a4515-6345-4f2f-cdac-b09f38d337aa"
   },
   "outputs": [
    {
     "data": {
      "text/plain": [
       "Index(['age', 'sex', 'bmi', 'children', 'smoker', 'region', 'expenses'], dtype='object')"
      ]
     },
     "execution_count": 4,
     "metadata": {},
     "output_type": "execute_result"
    }
   ],
   "source": [
    "df.columns\n"
   ]
  },
  {
   "cell_type": "code",
   "execution_count": 5,
   "id": "d995ea58",
   "metadata": {
    "colab": {
     "base_uri": "https://localhost:8080/"
    },
    "executionInfo": {
     "elapsed": 9,
     "status": "ok",
     "timestamp": 1681130682905,
     "user": {
      "displayName": "Aayush Adhikari",
      "userId": "12220140506292291733"
     },
     "user_tz": -345
    },
    "id": "d995ea58",
    "outputId": "be20e9bd-ea4b-4d40-a9d0-4ecfa35ef5b5"
   },
   "outputs": [
    {
     "data": {
      "text/plain": [
       "(1338, 7)"
      ]
     },
     "execution_count": 5,
     "metadata": {},
     "output_type": "execute_result"
    }
   ],
   "source": [
    "df.shape"
   ]
  },
  {
   "cell_type": "code",
   "execution_count": 6,
   "id": "0ec2f737",
   "metadata": {
    "colab": {
     "base_uri": "https://localhost:8080/"
    },
    "executionInfo": {
     "elapsed": 8,
     "status": "ok",
     "timestamp": 1681130682905,
     "user": {
      "displayName": "Aayush Adhikari",
      "userId": "12220140506292291733"
     },
     "user_tz": -345
    },
    "id": "0ec2f737",
    "outputId": "b5563e06-407e-4b4a-e02e-65bcd3eddbf8"
   },
   "outputs": [
    {
     "name": "stdout",
     "output_type": "stream",
     "text": [
      "<class 'pandas.core.frame.DataFrame'>\n",
      "RangeIndex: 1338 entries, 0 to 1337\n",
      "Data columns (total 7 columns):\n",
      " #   Column    Non-Null Count  Dtype  \n",
      "---  ------    --------------  -----  \n",
      " 0   age       1338 non-null   int64  \n",
      " 1   sex       1338 non-null   object \n",
      " 2   bmi       1338 non-null   float64\n",
      " 3   children  1338 non-null   int64  \n",
      " 4   smoker    1338 non-null   object \n",
      " 5   region    1338 non-null   object \n",
      " 6   expenses  1338 non-null   float64\n",
      "dtypes: float64(2), int64(2), object(3)\n",
      "memory usage: 73.3+ KB\n"
     ]
    }
   ],
   "source": [
    "df.info()"
   ]
  },
  {
   "cell_type": "code",
   "execution_count": 7,
   "id": "8036360f",
   "metadata": {
    "colab": {
     "base_uri": "https://localhost:8080/"
    },
    "executionInfo": {
     "elapsed": 7,
     "status": "ok",
     "timestamp": 1681130682906,
     "user": {
      "displayName": "Aayush Adhikari",
      "userId": "12220140506292291733"
     },
     "user_tz": -345
    },
    "id": "8036360f",
    "outputId": "9ff73152-e521-4823-94b8-eb03b0cde72a"
   },
   "outputs": [
    {
     "data": {
      "text/plain": [
       "False"
      ]
     },
     "execution_count": 7,
     "metadata": {},
     "output_type": "execute_result"
    }
   ],
   "source": [
    "#checking duplicates\n",
    "sum(df.duplicated(subset = 'age')) == 0\n",
    "# No duplicate values"
   ]
  },
  {
   "cell_type": "code",
   "execution_count": 8,
   "id": "3b815b70",
   "metadata": {
    "colab": {
     "base_uri": "https://localhost:8080/"
    },
    "executionInfo": {
     "elapsed": 6,
     "status": "ok",
     "timestamp": 1681130682906,
     "user": {
      "displayName": "Aayush Adhikari",
      "userId": "12220140506292291733"
     },
     "user_tz": -345
    },
    "id": "3b815b70",
    "outputId": "fbf5a392-3dc8-4580-ca93-d73a98e9e889"
   },
   "outputs": [
    {
     "data": {
      "text/plain": [
       "age         0.0\n",
       "sex         0.0\n",
       "bmi         0.0\n",
       "children    0.0\n",
       "smoker      0.0\n",
       "region      0.0\n",
       "expenses    0.0\n",
       "dtype: float64"
      ]
     },
     "execution_count": 8,
     "metadata": {},
     "output_type": "execute_result"
    }
   ],
   "source": [
    "# Checking Null values\n",
    "df.isnull().sum()*100/df.shape[0]\n",
    "# There are no NULL values in the dataset, hence it is clean."
   ]
  },
  {
   "cell_type": "code",
   "execution_count": 9,
   "id": "75821986",
   "metadata": {
    "colab": {
     "base_uri": "https://localhost:8080/",
     "height": 673
    },
    "executionInfo": {
     "elapsed": 1029,
     "status": "ok",
     "timestamp": 1681130683930,
     "user": {
      "displayName": "Aayush Adhikari",
      "userId": "12220140506292291733"
     },
     "user_tz": -345
    },
    "id": "75821986",
    "outputId": "f4ce71c4-b8d5-408b-dae1-3557000cbb51"
   },
   "outputs": [
    {
     "name": "stderr",
     "output_type": "stream",
     "text": [
      "C:\\Users\\Dell\\anaconda3\\lib\\site-packages\\seaborn\\distributions.py:2619: FutureWarning: `distplot` is a deprecated function and will be removed in a future version. Please adapt your code to use either `displot` (a figure-level function with similar flexibility) or `histplot` (an axes-level function for histograms).\n",
      "  warnings.warn(msg, FutureWarning)\n"
     ]
    },
    {
     "data": {
      "text/plain": [
       "<AxesSubplot:xlabel='expenses', ylabel='Density'>"
      ]
     },
     "execution_count": 9,
     "metadata": {},
     "output_type": "execute_result"
    },
    {
     "data": {
      "image/png": "[encoded data removed]",
      "text/plain": [
       "<Figure size 432x288 with 1 Axes>"
      ]
     },
     "metadata": {
      "needs_background": "light"
     },
     "output_type": "display_data"
    }
   ],
   "source": [
    "sns.distplot(df['expenses'])"
   ]
  },
  {
   "cell_type": "code",
   "execution_count": 10,
   "id": "f496e89b",
   "metadata": {
    "colab": {
     "base_uri": "https://localhost:8080/",
     "height": 631
    },
    "executionInfo": {
     "elapsed": 1358,
     "status": "ok",
     "timestamp": 1681130685287,
     "user": {
      "displayName": "Aayush Adhikari",
      "userId": "12220140506292291733"
     },
     "user_tz": -345
    },
    "id": "f496e89b",
    "outputId": "7058583a-3304-48b0-8985-df962e7dc5f8"
   },
   "outputs": [
    {
     "data": {
      "image/png": "[encoded data removed]",
      "text/plain": [
       "<Figure size 1080x540 with 1 Axes>"
      ]
     },
     "metadata": {},
     "output_type": "display_data"
    },
    {
     "data": {
      "text/plain": [
       "<Figure size 432x288 with 0 Axes>"
      ]
     },
     "metadata": {},
     "output_type": "display_data"
    }
   ],
   "source": [
    "df_sym = pd.DataFrame(df['children'].value_counts())\n",
    "df_sym.plot.pie(subplots=True,labels = df_sym.index.values, autopct='%1.1f%%', figsize = (15,7.5))\n",
    "# Unsquish the pie.\n",
    "plt.gca().set_aspect('equal')\n",
    "plt.show()\n",
    "plt.tight_layout()"
   ]
  },
  {
   "cell_type": "code",
   "execution_count": 11,
   "id": "1afaaa9f",
   "metadata": {
    "colab": {
     "base_uri": "https://localhost:8080/",
     "height": 449
    },
    "executionInfo": {
     "elapsed": 11,
     "status": "ok",
     "timestamp": 1681130685288,
     "user": {
      "displayName": "Aayush Adhikari",
      "userId": "12220140506292291733"
     },
     "user_tz": -345
    },
    "id": "1afaaa9f",
    "outputId": "fa2e8eb2-1c46-4080-dcbd-930fd182bbfe"
   },
   "outputs": [
    {
     "data": {
      "image/png": "[encoded data removed]",
      "text/plain": [
       "<Figure size 432x288 with 1 Axes>"
      ]
     },
     "metadata": {
      "needs_background": "light"
     },
     "output_type": "display_data"
    }
   ],
   "source": [
    "plt1 = df[['region','expenses']].groupby(\"region\").mean().plot(kind='bar',legend = True,)\n",
    "plt1.set_xlabel(\"children\")\n",
    "plt1.set_ylabel(\"Avg charges (Dollars)\")\n",
    "xticks(rotation = 0)\n",
    "plt.show()\n"
   ]
  },
  {
   "cell_type": "code",
   "execution_count": 12,
   "id": "789925df",
   "metadata": {
    "colab": {
     "base_uri": "https://localhost:8080/",
     "height": 338
    },
    "executionInfo": {
     "elapsed": 10,
     "status": "ok",
     "timestamp": 1681130685288,
     "user": {
      "displayName": "Aayush Adhikari",
      "userId": "12220140506292291733"
     },
     "user_tz": -345
    },
    "id": "789925df",
    "outputId": "32403ea7-a0e5-43ea-8e75-8e4f1cdfdea0"
   },
   "outputs": [
    {
     "data": {
      "image/png": "[encoded data removed]",
      "text/plain": [
       "<Figure size 1080x216 with 1 Axes>"
      ]
     },
     "metadata": {
      "needs_background": "light"
     },
     "output_type": "display_data"
    }
   ],
   "source": [
    "df_comp_avg_price = df[['region','children']].groupby(\"region\", as_index = False).mean().rename(columns={'children':'no. of children'})\n",
    "plt1 = df_comp_avg_price.plot(x = 'region', kind='bar',legend = True, sort_columns = True, figsize = (15,3))\n",
    "plt1.set_xlabel(\"region\")\n",
    "plt1.set_ylabel(\"Avg no. of children\")\n",
    "xticks(rotation = 90)\n",
    "plt.show()"
   ]
  },
  {
   "cell_type": "code",
   "execution_count": 13,
   "id": "385b74a1",
   "metadata": {
    "colab": {
     "base_uri": "https://localhost:8080/"
    },
    "executionInfo": {
     "elapsed": 10,
     "status": "ok",
     "timestamp": 1681130685288,
     "user": {
      "displayName": "Aayush Adhikari",
      "userId": "12220140506292291733"
     },
     "user_tz": -345
    },
    "id": "385b74a1",
    "outputId": "48451fab-81ef-47f8-bc3e-e88445e6ff16"
   },
   "outputs": [
    {
     "data": {
      "text/plain": [
       "count    1338.000000\n",
       "mean        1.094918\n",
       "std         1.205493\n",
       "min         0.000000\n",
       "25%         0.000000\n",
       "50%         1.000000\n",
       "75%         2.000000\n",
       "max         5.000000\n",
       "Name: children, dtype: float64"
      ]
     },
     "execution_count": 13,
     "metadata": {},
     "output_type": "execute_result"
    }
   ],
   "source": [
    "df.children.describe()"
   ]
  },
  {
   "cell_type": "code",
   "execution_count": 14,
   "id": "d0fc553a",
   "metadata": {
    "colab": {
     "base_uri": "https://localhost:8080/",
     "height": 449
    },
    "executionInfo": {
     "elapsed": 8,
     "status": "ok",
     "timestamp": 1681130685288,
     "user": {
      "displayName": "Aayush Adhikari",
      "userId": "12220140506292291733"
     },
     "user_tz": -345
    },
    "id": "d0fc553a",
    "outputId": "12597aca-b29a-404c-faed-a84115ed3e32"
   },
   "outputs": [
    {
     "data": {
      "image/png": "[encoded data removed]",
      "text/plain": [
       "<Figure size 432x288 with 1 Axes>"
      ]
     },
     "metadata": {
      "needs_background": "light"
     },
     "output_type": "display_data"
    }
   ],
   "source": [
    "plt1 = sns.scatterplot(x = 'age', y = 'children', data = df)\n",
    "plt1.set_xlabel('age (year)')\n",
    "plt1.set_ylabel('children')\n",
    "plt.show()"
   ]
  },
  {
   "cell_type": "code",
   "execution_count": 15,
   "id": "da5f351a",
   "metadata": {
    "colab": {
     "base_uri": "https://localhost:8080/",
     "height": 273
    },
    "executionInfo": {
     "elapsed": 7,
     "status": "ok",
     "timestamp": 1681130685288,
     "user": {
      "displayName": "Aayush Adhikari",
      "userId": "12220140506292291733"
     },
     "user_tz": -345
    },
    "id": "da5f351a",
    "outputId": "6ccad626-179d-4ca4-a4f9-24bf3d8709ae"
   },
   "outputs": [
    {
     "data": {
      "image/png": "[encoded data removed]",
      "text/plain": [
       "<Figure size 1080x216 with 1 Axes>"
      ]
     },
     "metadata": {
      "needs_background": "light"
     },
     "output_type": "display_data"
    }
   ],
   "source": [
    "df_comp_avg_price = df[['children','expenses']].groupby(\"children\", as_index = False).mean()\n",
    "plt1 = df_comp_avg_price.plot(x = 'children', kind='bar',legend = True, sort_columns = True, figsize = (15,3))\n",
    "plt1.set_xlabel(\"children\")\n",
    "plt1.set_ylabel(\"Avg charges \")\n",
    "xticks(rotation = 90)\n",
    "plt.show()"
   ]
  },
  {
   "cell_type": "code",
   "execution_count": 16,
   "id": "4a00b877",
   "metadata": {
    "colab": {
     "base_uri": "https://localhost:8080/",
     "height": 1000
    },
    "executionInfo": {
     "elapsed": 2193,
     "status": "ok",
     "timestamp": 1681130687475,
     "user": {
      "displayName": "Aayush Adhikari",
      "userId": "12220140506292291733"
     },
     "user_tz": -345
    },
    "id": "4a00b877",
    "outputId": "2f40caa2-adc5-4148-d924-d7e3568208f9"
   },
   "outputs": [
    {
     "data": {
      "image/png": "[encoded data removed]",
      "text/plain": [
       "<Figure size 720x720 with 4 Axes>"
      ]
     },
     "metadata": {
      "needs_background": "light"
     },
     "output_type": "display_data"
    }
   ],
   "source": [
    "fig, axs = plt.subplots(2,2,figsize=(10,10))\n",
    "plt1 = sns.scatterplot(x = 'children', y = 'expenses', data = df, ax = axs[0,0])\n",
    "plt1.set_xlabel('children ')\n",
    "plt1.set_ylabel('charges')\n",
    "plt2 = sns.scatterplot(x = 'sex', y = 'age', data = df, ax = axs[0,1])\n",
    "plt2.set_xlabel('gender')\n",
    "plt2.set_ylabel('age(year)')\n",
    "plt3 = sns.scatterplot(x = 'smoker', y = 'children', data = df, ax = axs[1,0])\n",
    "plt3.set_xlabel('smoker')\n",
    "plt3.set_ylabel('children')\n",
    "plt3 = sns.scatterplot(x = 'region', y = 'children', data = df, ax = axs[1,1])\n",
    "plt3.set_xlabel('region')\n",
    "plt3.set_ylabel('children')\n",
    "plt.tight_layout()"
   ]
  },
  {
   "cell_type": "code",
   "execution_count": 17,
   "id": "368bdd0e",
   "metadata": {
    "colab": {
     "base_uri": "https://localhost:8080/",
     "height": 475
    },
    "executionInfo": {
     "elapsed": 11,
     "status": "ok",
     "timestamp": 1681130687476,
     "user": {
      "displayName": "Aayush Adhikari",
      "userId": "12220140506292291733"
     },
     "user_tz": -345
    },
    "id": "368bdd0e",
    "outputId": "b863449f-498a-4c32-fb51-64b907e9bc61"
   },
   "outputs": [
    {
     "data": {
      "image/png": "[encoded data removed]",
      "text/plain": [
       "<Figure size 360x360 with 1 Axes>"
      ]
     },
     "metadata": {
      "needs_background": "light"
     },
     "output_type": "display_data"
    }
   ],
   "source": [
    "df_comp_avg_price = df[['smoker','expenses']].groupby(\"smoker\", as_index = False).mean()\n",
    "plt1 = df_comp_avg_price.plot(x = 'smoker', kind='bar',legend = True, sort_columns = True, figsize = (5,5))\n",
    "plt1.set_xlabel(\"smoker\")\n",
    "plt1.set_ylabel(\"Avg charges \")\n",
    "xticks(rotation = 90)\n",
    "plt.show()"
   ]
  },
  {
   "cell_type": "code",
   "execution_count": 18,
   "id": "748ce6cf",
   "metadata": {
    "colab": {
     "base_uri": "https://localhost:8080/",
     "height": 475
    },
    "executionInfo": {
     "elapsed": 10,
     "status": "ok",
     "timestamp": 1681130687476,
     "user": {
      "displayName": "Aayush Adhikari",
      "userId": "12220140506292291733"
     },
     "user_tz": -345
    },
    "id": "748ce6cf",
    "outputId": "dd66db41-4393-4cc9-dfed-63600b5bc04c"
   },
   "outputs": [
    {
     "data": {
      "image/png": "[encoded data removed]",
      "text/plain": [
       "<Figure size 360x360 with 1 Axes>"
      ]
     },
     "metadata": {
      "needs_background": "light"
     },
     "output_type": "display_data"
    }
   ],
   "source": [
    "df_comp_avg_price = df[['smoker','bmi']].groupby(\"smoker\", as_index = False).mean()\n",
    "plt1 = df_comp_avg_price.plot(x = 'smoker', kind='bar',legend = True, sort_columns = True, figsize = (5,5))\n",
    "plt1.set_xlabel(\"smoker\")\n",
    "plt1.set_ylabel(\"bmi \")\n",
    "xticks(rotation = 90)\n",
    "plt.show()"
   ]
  },
  {
   "cell_type": "code",
   "execution_count": 19,
   "id": "dddeca01",
   "metadata": {
    "colab": {
     "base_uri": "https://localhost:8080/"
    },
    "executionInfo": {
     "elapsed": 10,
     "status": "ok",
     "timestamp": 1681130687476,
     "user": {
      "displayName": "Aayush Adhikari",
      "userId": "12220140506292291733"
     },
     "user_tz": -345
    },
    "id": "dddeca01",
    "outputId": "08d5eda0-2127-4291-ec4a-086c35ff2c0f"
   },
   "outputs": [
    {
     "data": {
      "text/plain": [
       "159"
      ]
     },
     "execution_count": 19,
     "metadata": {},
     "output_type": "execute_result"
    }
   ],
   "source": [
    "len(df[(df['sex']== 'male') & (df['smoker']=='yes')])\n",
    "\n"
   ]
  },
  {
   "cell_type": "code",
   "execution_count": null,
   "id": "ebadae8d",
   "metadata": {
    "executionInfo": {
     "elapsed": 7,
     "status": "ok",
     "timestamp": 1681130687476,
     "user": {
      "displayName": "Aayush Adhikari",
      "userId": "12220140506292291733"
     },
     "user_tz": -345
    },
    "id": "ebadae8d"
   },
   "outputs": [],
   "source": []
  },
  {
   "cell_type": "code",
   "execution_count": 20,
   "id": "b92ef8da",
   "metadata": {
    "executionInfo": {
     "elapsed": 8,
     "status": "ok",
     "timestamp": 1681130687477,
     "user": {
      "displayName": "Aayush Adhikari",
      "userId": "12220140506292291733"
     },
     "user_tz": -345
    },
    "id": "b92ef8da"
   },
   "outputs": [],
   "source": [
    "auto=df[['age', 'sex', 'bmi', 'children', 'smoker', 'region', 'expenses']]"
   ]
  },
  {
   "cell_type": "code",
   "execution_count": 21,
   "id": "272b64f1",
   "metadata": {
    "colab": {
     "base_uri": "https://localhost:8080/",
     "height": 423
    },
    "executionInfo": {
     "elapsed": 8,
     "status": "ok",
     "timestamp": 1681130687477,
     "user": {
      "displayName": "Aayush Adhikari",
      "userId": "12220140506292291733"
     },
     "user_tz": -345
    },
    "id": "272b64f1",
    "outputId": "0b0b1006-de98-4738-fd10-484eed58cf01"
   },
   "outputs": [
    {
     "data": {
      "text/html": [
       "<div>\n",
       "<style scoped>\n",
       "    .dataframe tbody tr th:only-of-type {\n",
       "        vertical-align: middle;\n",
       "    }\n",
       "\n",
       "    .dataframe tbody tr th {\n",
       "        vertical-align: top;\n",
       "    }\n",
       "\n",
       "    .dataframe thead th {\n",
       "        text-align: right;\n",
       "    }\n",
       "</style>\n",
       "<table border=\"1\" class=\"dataframe\">\n",
       "  <thead>\n",
       "    <tr style=\"text-align: right;\">\n",
       "      <th></th>\n",
       "      <th>age</th>\n",
       "      <th>sex</th>\n",
       "      <th>bmi</th>\n",
       "      <th>children</th>\n",
       "      <th>smoker</th>\n",
       "      <th>region</th>\n",
       "      <th>expenses</th>\n",
       "    </tr>\n",
       "  </thead>\n",
       "  <tbody>\n",
       "    <tr>\n",
       "      <th>0</th>\n",
       "      <td>19</td>\n",
       "      <td>female</td>\n",
       "      <td>27.9</td>\n",
       "      <td>0</td>\n",
       "      <td>yes</td>\n",
       "      <td>southwest</td>\n",
       "      <td>16884.92</td>\n",
       "    </tr>\n",
       "    <tr>\n",
       "      <th>1</th>\n",
       "      <td>18</td>\n",
       "      <td>male</td>\n",
       "      <td>33.8</td>\n",
       "      <td>1</td>\n",
       "      <td>no</td>\n",
       "      <td>southeast</td>\n",
       "      <td>1725.55</td>\n",
       "    </tr>\n",
       "    <tr>\n",
       "      <th>2</th>\n",
       "      <td>28</td>\n",
       "      <td>male</td>\n",
       "      <td>33.0</td>\n",
       "      <td>3</td>\n",
       "      <td>no</td>\n",
       "      <td>southeast</td>\n",
       "      <td>4449.46</td>\n",
       "    </tr>\n",
       "    <tr>\n",
       "      <th>3</th>\n",
       "      <td>33</td>\n",
       "      <td>male</td>\n",
       "      <td>22.7</td>\n",
       "      <td>0</td>\n",
       "      <td>no</td>\n",
       "      <td>northwest</td>\n",
       "      <td>21984.47</td>\n",
       "    </tr>\n",
       "    <tr>\n",
       "      <th>4</th>\n",
       "      <td>32</td>\n",
       "      <td>male</td>\n",
       "      <td>28.9</td>\n",
       "      <td>0</td>\n",
       "      <td>no</td>\n",
       "      <td>northwest</td>\n",
       "      <td>3866.86</td>\n",
       "    </tr>\n",
       "    <tr>\n",
       "      <th>...</th>\n",
       "      <td>...</td>\n",
       "      <td>...</td>\n",
       "      <td>...</td>\n",
       "      <td>...</td>\n",
       "      <td>...</td>\n",
       "      <td>...</td>\n",
       "      <td>...</td>\n",
       "    </tr>\n",
       "    <tr>\n",
       "      <th>1333</th>\n",
       "      <td>50</td>\n",
       "      <td>male</td>\n",
       "      <td>31.0</td>\n",
       "      <td>3</td>\n",
       "      <td>no</td>\n",
       "      <td>northwest</td>\n",
       "      <td>10600.55</td>\n",
       "    </tr>\n",
       "    <tr>\n",
       "      <th>1334</th>\n",
       "      <td>18</td>\n",
       "      <td>female</td>\n",
       "      <td>31.9</td>\n",
       "      <td>0</td>\n",
       "      <td>no</td>\n",
       "      <td>northeast</td>\n",
       "      <td>2205.98</td>\n",
       "    </tr>\n",
       "    <tr>\n",
       "      <th>1335</th>\n",
       "      <td>18</td>\n",
       "      <td>female</td>\n",
       "      <td>36.9</td>\n",
       "      <td>0</td>\n",
       "      <td>no</td>\n",
       "      <td>southeast</td>\n",
       "      <td>1629.83</td>\n",
       "    </tr>\n",
       "    <tr>\n",
       "      <th>1336</th>\n",
       "      <td>21</td>\n",
       "      <td>female</td>\n",
       "      <td>25.8</td>\n",
       "      <td>0</td>\n",
       "      <td>no</td>\n",
       "      <td>southwest</td>\n",
       "      <td>2007.95</td>\n",
       "    </tr>\n",
       "    <tr>\n",
       "      <th>1337</th>\n",
       "      <td>61</td>\n",
       "      <td>female</td>\n",
       "      <td>29.1</td>\n",
       "      <td>0</td>\n",
       "      <td>yes</td>\n",
       "      <td>northwest</td>\n",
       "      <td>29141.36</td>\n",
       "    </tr>\n",
       "  </tbody>\n",
       "</table>\n",
       "<p>1338 rows × 7 columns</p>\n",
       "</div>"
      ],
      "text/plain": [
       "      age     sex   bmi  children smoker     region  expenses\n",
       "0      19  female  27.9         0    yes  southwest  16884.92\n",
       "1      18    male  33.8         1     no  southeast   1725.55\n",
       "2      28    male  33.0         3     no  southeast   4449.46\n",
       "3      33    male  22.7         0     no  northwest  21984.47\n",
       "4      32    male  28.9         0     no  northwest   3866.86\n",
       "...   ...     ...   ...       ...    ...        ...       ...\n",
       "1333   50    male  31.0         3     no  northwest  10600.55\n",
       "1334   18  female  31.9         0     no  northeast   2205.98\n",
       "1335   18  female  36.9         0     no  southeast   1629.83\n",
       "1336   21  female  25.8         0     no  southwest   2007.95\n",
       "1337   61  female  29.1         0    yes  northwest  29141.36\n",
       "\n",
       "[1338 rows x 7 columns]"
      ]
     },
     "execution_count": 21,
     "metadata": {},
     "output_type": "execute_result"
    }
   ],
   "source": [
    "auto"
   ]
  },
  {
   "cell_type": "code",
   "execution_count": 22,
   "id": "4036560c",
   "metadata": {
    "colab": {
     "base_uri": "https://localhost:8080/",
     "height": 1000
    },
    "executionInfo": {
     "elapsed": 9713,
     "status": "ok",
     "timestamp": 1681130697183,
     "user": {
      "displayName": "Aayush Adhikari",
      "userId": "12220140506292291733"
     },
     "user_tz": -345
    },
    "id": "4036560c",
    "outputId": "34dede0a-4a6a-4f16-94e6-06c2146f81c9"
   },
   "outputs": [
    {
     "data": {
      "text/plain": [
       "<Figure size 1080x1080 with 0 Axes>"
      ]
     },
     "metadata": {},
     "output_type": "display_data"
    },
    {
     "data": {
      "image/png": "[encoded data removed]",
      "text/plain": [
       "<Figure size 720x720 with 20 Axes>"
      ]
     },
     "metadata": {
      "needs_background": "light"
     },
     "output_type": "display_data"
    }
   ],
   "source": [
    "plt.figure(figsize=(15, 15))\n",
    "sns.pairplot(auto)\n",
    "plt.show()"
   ]
  },
  {
   "cell_type": "code",
   "execution_count": 23,
   "id": "127bce5c",
   "metadata": {
    "colab": {
     "base_uri": "https://localhost:8080/",
     "height": 437
    },
    "executionInfo": {
     "elapsed": 2143,
     "status": "ok",
     "timestamp": 1681130699315,
     "user": {
      "displayName": "Aayush Adhikari",
      "userId": "12220140506292291733"
     },
     "user_tz": -345
    },
    "id": "127bce5c",
    "outputId": "add97268-a136-463b-fdb7-3b579693b7a6"
   },
   "outputs": [
    {
     "data": {
      "text/plain": [
       "<AxesSubplot:>"
      ]
     },
     "execution_count": 23,
     "metadata": {},
     "output_type": "execute_result"
    },
    {
     "data": {
      "image/png": "[encoded data removed]",
      "text/plain": [
       "<Figure size 720x1440 with 2 Axes>"
      ]
     },
     "metadata": {
      "needs_background": "light"
     },
     "output_type": "display_data"
    }
   ],
   "source": [
    "plt.figure(figsize=(10, 20))\n",
    "plt.subplot(4,2,1)\n",
    "sns.boxplot(x = 'region', y = 'expenses', data = auto)\n",
    "plt.subplot(4,2,2)"
   ]
  },
  {
   "cell_type": "code",
   "execution_count": 24,
   "id": "6b76c55f",
   "metadata": {
    "executionInfo": {
     "elapsed": 47,
     "status": "ok",
     "timestamp": 1681130699315,
     "user": {
      "displayName": "Aayush Adhikari",
      "userId": "12220140506292291733"
     },
     "user_tz": -345
    },
    "id": "6b76c55f"
   },
   "outputs": [],
   "source": [
    "gender = pd.get_dummies(auto['sex'], drop_first = True)"
   ]
  },
  {
   "cell_type": "code",
   "execution_count": 25,
   "id": "3989a793",
   "metadata": {
    "executionInfo": {
     "elapsed": 48,
     "status": "ok",
     "timestamp": 1681130699316,
     "user": {
      "displayName": "Aayush Adhikari",
      "userId": "12220140506292291733"
     },
     "user_tz": -345
    },
    "id": "3989a793"
   },
   "outputs": [],
   "source": [
    "auto = pd.concat([auto, gender], axis = 1)"
   ]
  },
  {
   "cell_type": "code",
   "execution_count": 26,
   "id": "7ca6c73c",
   "metadata": {
    "executionInfo": {
     "elapsed": 47,
     "status": "ok",
     "timestamp": 1681130699316,
     "user": {
      "displayName": "Aayush Adhikari",
      "userId": "12220140506292291733"
     },
     "user_tz": -345
    },
    "id": "7ca6c73c"
   },
   "outputs": [],
   "source": [
    "region_typ = pd.get_dummies(auto['region'], drop_first = True)"
   ]
  },
  {
   "cell_type": "code",
   "execution_count": 27,
   "id": "008f50f4",
   "metadata": {
    "executionInfo": {
     "elapsed": 47,
     "status": "ok",
     "timestamp": 1681130699316,
     "user": {
      "displayName": "Aayush Adhikari",
      "userId": "12220140506292291733"
     },
     "user_tz": -345
    },
    "id": "008f50f4"
   },
   "outputs": [],
   "source": [
    "auto = pd.concat([auto, region_typ], axis = 1)"
   ]
  },
  {
   "cell_type": "code",
   "execution_count": 28,
   "id": "91d8d239",
   "metadata": {
    "executionInfo": {
     "elapsed": 47,
     "status": "ok",
     "timestamp": 1681130699316,
     "user": {
      "displayName": "Aayush Adhikari",
      "userId": "12220140506292291733"
     },
     "user_tz": -345
    },
    "id": "91d8d239"
   },
   "outputs": [],
   "source": [
    "smoker = pd.get_dummies(auto['smoker'], drop_first = True)"
   ]
  },
  {
   "cell_type": "code",
   "execution_count": 29,
   "id": "b06a071c",
   "metadata": {
    "executionInfo": {
     "elapsed": 47,
     "status": "ok",
     "timestamp": 1681130699316,
     "user": {
      "displayName": "Aayush Adhikari",
      "userId": "12220140506292291733"
     },
     "user_tz": -345
    },
    "id": "b06a071c"
   },
   "outputs": [],
   "source": [
    "auto = pd.concat([auto, smoker], axis = 1)"
   ]
  },
  {
   "cell_type": "code",
   "execution_count": 30,
   "id": "abf26a0b",
   "metadata": {
    "executionInfo": {
     "elapsed": 47,
     "status": "ok",
     "timestamp": 1681130699316,
     "user": {
      "displayName": "Aayush Adhikari",
      "userId": "12220140506292291733"
     },
     "user_tz": -345
    },
    "id": "abf26a0b"
   },
   "outputs": [],
   "source": [
    "auto.drop(['sex','region','smoker'], axis = 1, inplace = True)"
   ]
  },
  {
   "cell_type": "code",
   "execution_count": 31,
   "id": "272b4a93",
   "metadata": {
    "executionInfo": {
     "elapsed": 48,
     "status": "ok",
     "timestamp": 1681130699317,
     "user": {
      "displayName": "Aayush Adhikari",
      "userId": "12220140506292291733"
     },
     "user_tz": -345
    },
    "id": "272b4a93"
   },
   "outputs": [],
   "source": [
    "from sklearn.model_selection import train_test_split\n",
    "\n",
    "# We specify this so that the train and test data set always have the same rows, respectively\n",
    "np.random.seed(0)\n",
    "df_train, df_test = train_test_split(auto, train_size = 0.7, test_size = 0.3, random_state = 100)"
   ]
  },
  {
   "cell_type": "code",
   "execution_count": 32,
   "id": "345dedd4",
   "metadata": {
    "executionInfo": {
     "elapsed": 47,
     "status": "ok",
     "timestamp": 1681130699317,
     "user": {
      "displayName": "Aayush Adhikari",
      "userId": "12220140506292291733"
     },
     "user_tz": -345
    },
    "id": "345dedd4"
   },
   "outputs": [],
   "source": [
    "from sklearn.preprocessing import MinMaxScaler"
   ]
  },
  {
   "cell_type": "code",
   "execution_count": 33,
   "id": "c008da28",
   "metadata": {
    "executionInfo": {
     "elapsed": 47,
     "status": "ok",
     "timestamp": 1681130699317,
     "user": {
      "displayName": "Aayush Adhikari",
      "userId": "12220140506292291733"
     },
     "user_tz": -345
    },
    "id": "c008da28"
   },
   "outputs": [],
   "source": [
    "scaler = MinMaxScaler()"
   ]
  },
  {
   "cell_type": "code",
   "execution_count": 34,
   "id": "426ddd8d",
   "metadata": {
    "colab": {
     "base_uri": "https://localhost:8080/",
     "height": 206
    },
    "executionInfo": {
     "elapsed": 47,
     "status": "ok",
     "timestamp": 1681130699317,
     "user": {
      "displayName": "Aayush Adhikari",
      "userId": "12220140506292291733"
     },
     "user_tz": -345
    },
    "id": "426ddd8d",
    "outputId": "3a6823c4-8506-4c74-ef4c-201777fdcb92"
   },
   "outputs": [
    {
     "data": {
      "text/html": [
       "<div>\n",
       "<style scoped>\n",
       "    .dataframe tbody tr th:only-of-type {\n",
       "        vertical-align: middle;\n",
       "    }\n",
       "\n",
       "    .dataframe tbody tr th {\n",
       "        vertical-align: top;\n",
       "    }\n",
       "\n",
       "    .dataframe thead th {\n",
       "        text-align: right;\n",
       "    }\n",
       "</style>\n",
       "<table border=\"1\" class=\"dataframe\">\n",
       "  <thead>\n",
       "    <tr style=\"text-align: right;\">\n",
       "      <th></th>\n",
       "      <th>age</th>\n",
       "      <th>bmi</th>\n",
       "      <th>children</th>\n",
       "      <th>expenses</th>\n",
       "      <th>male</th>\n",
       "      <th>northwest</th>\n",
       "      <th>southeast</th>\n",
       "      <th>southwest</th>\n",
       "      <th>yes</th>\n",
       "    </tr>\n",
       "  </thead>\n",
       "  <tbody>\n",
       "    <tr>\n",
       "      <th>966</th>\n",
       "      <td>51</td>\n",
       "      <td>24.8</td>\n",
       "      <td>2</td>\n",
       "      <td>23967.38</td>\n",
       "      <td>1</td>\n",
       "      <td>1</td>\n",
       "      <td>0</td>\n",
       "      <td>0</td>\n",
       "      <td>1</td>\n",
       "    </tr>\n",
       "    <tr>\n",
       "      <th>522</th>\n",
       "      <td>51</td>\n",
       "      <td>33.9</td>\n",
       "      <td>0</td>\n",
       "      <td>9866.30</td>\n",
       "      <td>0</td>\n",
       "      <td>0</td>\n",
       "      <td>0</td>\n",
       "      <td>0</td>\n",
       "      <td>0</td>\n",
       "    </tr>\n",
       "    <tr>\n",
       "      <th>155</th>\n",
       "      <td>44</td>\n",
       "      <td>39.5</td>\n",
       "      <td>0</td>\n",
       "      <td>6948.70</td>\n",
       "      <td>1</td>\n",
       "      <td>1</td>\n",
       "      <td>0</td>\n",
       "      <td>0</td>\n",
       "      <td>0</td>\n",
       "    </tr>\n",
       "    <tr>\n",
       "      <th>671</th>\n",
       "      <td>29</td>\n",
       "      <td>31.2</td>\n",
       "      <td>0</td>\n",
       "      <td>3943.60</td>\n",
       "      <td>0</td>\n",
       "      <td>0</td>\n",
       "      <td>0</td>\n",
       "      <td>0</td>\n",
       "      <td>0</td>\n",
       "    </tr>\n",
       "    <tr>\n",
       "      <th>1173</th>\n",
       "      <td>38</td>\n",
       "      <td>29.3</td>\n",
       "      <td>2</td>\n",
       "      <td>6457.84</td>\n",
       "      <td>1</td>\n",
       "      <td>1</td>\n",
       "      <td>0</td>\n",
       "      <td>0</td>\n",
       "      <td>0</td>\n",
       "    </tr>\n",
       "  </tbody>\n",
       "</table>\n",
       "</div>"
      ],
      "text/plain": [
       "      age   bmi  children  expenses  male  northwest  southeast  southwest  \\\n",
       "966    51  24.8         2  23967.38     1          1          0          0   \n",
       "522    51  33.9         0   9866.30     0          0          0          0   \n",
       "155    44  39.5         0   6948.70     1          1          0          0   \n",
       "671    29  31.2         0   3943.60     0          0          0          0   \n",
       "1173   38  29.3         2   6457.84     1          1          0          0   \n",
       "\n",
       "      yes  \n",
       "966     1  \n",
       "522     0  \n",
       "155     0  \n",
       "671     0  \n",
       "1173    0  "
      ]
     },
     "execution_count": 34,
     "metadata": {},
     "output_type": "execute_result"
    }
   ],
   "source": [
    "df_train.head()"
   ]
  },
  {
   "cell_type": "code",
   "execution_count": 35,
   "id": "7975170e",
   "metadata": {
    "executionInfo": {
     "elapsed": 46,
     "status": "ok",
     "timestamp": 1681130699317,
     "user": {
      "displayName": "Aayush Adhikari",
      "userId": "12220140506292291733"
     },
     "user_tz": -345
    },
    "id": "7975170e"
   },
   "outputs": [],
   "source": [
    "# Apply scaler() to all the columns except the 'dummy' variables\n",
    "num_vars = ['age', 'bmi', 'children', 'expenses']\n",
    "\n",
    "df_train[num_vars] = scaler.fit_transform(df_train[num_vars])"
   ]
  },
  {
   "cell_type": "code",
   "execution_count": 36,
   "id": "f98b01cb",
   "metadata": {
    "colab": {
     "base_uri": "https://localhost:8080/",
     "height": 206
    },
    "executionInfo": {
     "elapsed": 47,
     "status": "ok",
     "timestamp": 1681130699318,
     "user": {
      "displayName": "Aayush Adhikari",
      "userId": "12220140506292291733"
     },
     "user_tz": -345
    },
    "id": "f98b01cb",
    "outputId": "449a2b31-8a1d-4bd4-b89a-ee4c89ada7d6"
   },
   "outputs": [
    {
     "data": {
      "text/html": [
       "<div>\n",
       "<style scoped>\n",
       "    .dataframe tbody tr th:only-of-type {\n",
       "        vertical-align: middle;\n",
       "    }\n",
       "\n",
       "    .dataframe tbody tr th {\n",
       "        vertical-align: top;\n",
       "    }\n",
       "\n",
       "    .dataframe thead th {\n",
       "        text-align: right;\n",
       "    }\n",
       "</style>\n",
       "<table border=\"1\" class=\"dataframe\">\n",
       "  <thead>\n",
       "    <tr style=\"text-align: right;\">\n",
       "      <th></th>\n",
       "      <th>age</th>\n",
       "      <th>bmi</th>\n",
       "      <th>children</th>\n",
       "      <th>expenses</th>\n",
       "      <th>male</th>\n",
       "      <th>northwest</th>\n",
       "      <th>southeast</th>\n",
       "      <th>southwest</th>\n",
       "      <th>yes</th>\n",
       "    </tr>\n",
       "  </thead>\n",
       "  <tbody>\n",
       "    <tr>\n",
       "      <th>966</th>\n",
       "      <td>0.717391</td>\n",
       "      <td>0.237197</td>\n",
       "      <td>0.4</td>\n",
       "      <td>0.364661</td>\n",
       "      <td>1</td>\n",
       "      <td>1</td>\n",
       "      <td>0</td>\n",
       "      <td>0</td>\n",
       "      <td>1</td>\n",
       "    </tr>\n",
       "    <tr>\n",
       "      <th>522</th>\n",
       "      <td>0.717391</td>\n",
       "      <td>0.482480</td>\n",
       "      <td>0.0</td>\n",
       "      <td>0.139579</td>\n",
       "      <td>0</td>\n",
       "      <td>0</td>\n",
       "      <td>0</td>\n",
       "      <td>0</td>\n",
       "      <td>0</td>\n",
       "    </tr>\n",
       "    <tr>\n",
       "      <th>155</th>\n",
       "      <td>0.565217</td>\n",
       "      <td>0.633423</td>\n",
       "      <td>0.0</td>\n",
       "      <td>0.093008</td>\n",
       "      <td>1</td>\n",
       "      <td>1</td>\n",
       "      <td>0</td>\n",
       "      <td>0</td>\n",
       "      <td>0</td>\n",
       "    </tr>\n",
       "    <tr>\n",
       "      <th>671</th>\n",
       "      <td>0.239130</td>\n",
       "      <td>0.409704</td>\n",
       "      <td>0.0</td>\n",
       "      <td>0.045041</td>\n",
       "      <td>0</td>\n",
       "      <td>0</td>\n",
       "      <td>0</td>\n",
       "      <td>0</td>\n",
       "      <td>0</td>\n",
       "    </tr>\n",
       "    <tr>\n",
       "      <th>1173</th>\n",
       "      <td>0.434783</td>\n",
       "      <td>0.358491</td>\n",
       "      <td>0.4</td>\n",
       "      <td>0.085173</td>\n",
       "      <td>1</td>\n",
       "      <td>1</td>\n",
       "      <td>0</td>\n",
       "      <td>0</td>\n",
       "      <td>0</td>\n",
       "    </tr>\n",
       "  </tbody>\n",
       "</table>\n",
       "</div>"
      ],
      "text/plain": [
       "           age       bmi  children  expenses  male  northwest  southeast  \\\n",
       "966   0.717391  0.237197       0.4  0.364661     1          1          0   \n",
       "522   0.717391  0.482480       0.0  0.139579     0          0          0   \n",
       "155   0.565217  0.633423       0.0  0.093008     1          1          0   \n",
       "671   0.239130  0.409704       0.0  0.045041     0          0          0   \n",
       "1173  0.434783  0.358491       0.4  0.085173     1          1          0   \n",
       "\n",
       "      southwest  yes  \n",
       "966           0    1  \n",
       "522           0    0  \n",
       "155           0    0  \n",
       "671           0    0  \n",
       "1173          0    0  "
      ]
     },
     "execution_count": 36,
     "metadata": {},
     "output_type": "execute_result"
    }
   ],
   "source": [
    "df_train.head()"
   ]
  },
  {
   "cell_type": "code",
   "execution_count": 37,
   "id": "a3fdbacd",
   "metadata": {
    "colab": {
     "base_uri": "https://localhost:8080/",
     "height": 300
    },
    "executionInfo": {
     "elapsed": 47,
     "status": "ok",
     "timestamp": 1681130699318,
     "user": {
      "displayName": "Aayush Adhikari",
      "userId": "12220140506292291733"
     },
     "user_tz": -345
    },
    "id": "a3fdbacd",
    "outputId": "4e8175f7-ff3f-42dd-a65b-8d809cbc5966"
   },
   "outputs": [
    {
     "data": {
      "text/html": [
       "<div>\n",
       "<style scoped>\n",
       "    .dataframe tbody tr th:only-of-type {\n",
       "        vertical-align: middle;\n",
       "    }\n",
       "\n",
       "    .dataframe tbody tr th {\n",
       "        vertical-align: top;\n",
       "    }\n",
       "\n",
       "    .dataframe thead th {\n",
       "        text-align: right;\n",
       "    }\n",
       "</style>\n",
       "<table border=\"1\" class=\"dataframe\">\n",
       "  <thead>\n",
       "    <tr style=\"text-align: right;\">\n",
       "      <th></th>\n",
       "      <th>age</th>\n",
       "      <th>bmi</th>\n",
       "      <th>children</th>\n",
       "      <th>expenses</th>\n",
       "      <th>male</th>\n",
       "      <th>northwest</th>\n",
       "      <th>southeast</th>\n",
       "      <th>southwest</th>\n",
       "      <th>yes</th>\n",
       "    </tr>\n",
       "  </thead>\n",
       "  <tbody>\n",
       "    <tr>\n",
       "      <th>count</th>\n",
       "      <td>936.000000</td>\n",
       "      <td>936.000000</td>\n",
       "      <td>936.000000</td>\n",
       "      <td>936.000000</td>\n",
       "      <td>936.000000</td>\n",
       "      <td>936.000000</td>\n",
       "      <td>936.000000</td>\n",
       "      <td>936.000000</td>\n",
       "      <td>936.000000</td>\n",
       "    </tr>\n",
       "    <tr>\n",
       "      <th>mean</th>\n",
       "      <td>0.458171</td>\n",
       "      <td>0.398830</td>\n",
       "      <td>0.220513</td>\n",
       "      <td>0.192301</td>\n",
       "      <td>0.497863</td>\n",
       "      <td>0.244658</td>\n",
       "      <td>0.282051</td>\n",
       "      <td>0.242521</td>\n",
       "      <td>0.194444</td>\n",
       "    </tr>\n",
       "    <tr>\n",
       "      <th>std</th>\n",
       "      <td>0.306065</td>\n",
       "      <td>0.167424</td>\n",
       "      <td>0.241223</td>\n",
       "      <td>0.193690</td>\n",
       "      <td>0.500263</td>\n",
       "      <td>0.430114</td>\n",
       "      <td>0.450239</td>\n",
       "      <td>0.428837</td>\n",
       "      <td>0.395984</td>\n",
       "    </tr>\n",
       "    <tr>\n",
       "      <th>min</th>\n",
       "      <td>0.000000</td>\n",
       "      <td>0.000000</td>\n",
       "      <td>0.000000</td>\n",
       "      <td>0.000000</td>\n",
       "      <td>0.000000</td>\n",
       "      <td>0.000000</td>\n",
       "      <td>0.000000</td>\n",
       "      <td>0.000000</td>\n",
       "      <td>0.000000</td>\n",
       "    </tr>\n",
       "    <tr>\n",
       "      <th>25%</th>\n",
       "      <td>0.173913</td>\n",
       "      <td>0.276954</td>\n",
       "      <td>0.000000</td>\n",
       "      <td>0.055033</td>\n",
       "      <td>0.000000</td>\n",
       "      <td>0.000000</td>\n",
       "      <td>0.000000</td>\n",
       "      <td>0.000000</td>\n",
       "      <td>0.000000</td>\n",
       "    </tr>\n",
       "    <tr>\n",
       "      <th>50%</th>\n",
       "      <td>0.456522</td>\n",
       "      <td>0.390836</td>\n",
       "      <td>0.200000</td>\n",
       "      <td>0.129662</td>\n",
       "      <td>0.000000</td>\n",
       "      <td>0.000000</td>\n",
       "      <td>0.000000</td>\n",
       "      <td>0.000000</td>\n",
       "      <td>0.000000</td>\n",
       "    </tr>\n",
       "    <tr>\n",
       "      <th>75%</th>\n",
       "      <td>0.717391</td>\n",
       "      <td>0.512803</td>\n",
       "      <td>0.400000</td>\n",
       "      <td>0.245247</td>\n",
       "      <td>1.000000</td>\n",
       "      <td>0.000000</td>\n",
       "      <td>1.000000</td>\n",
       "      <td>0.000000</td>\n",
       "      <td>0.000000</td>\n",
       "    </tr>\n",
       "    <tr>\n",
       "      <th>max</th>\n",
       "      <td>1.000000</td>\n",
       "      <td>1.000000</td>\n",
       "      <td>1.000000</td>\n",
       "      <td>1.000000</td>\n",
       "      <td>1.000000</td>\n",
       "      <td>1.000000</td>\n",
       "      <td>1.000000</td>\n",
       "      <td>1.000000</td>\n",
       "      <td>1.000000</td>\n",
       "    </tr>\n",
       "  </tbody>\n",
       "</table>\n",
       "</div>"
      ],
      "text/plain": [
       "              age         bmi    children    expenses        male   northwest  \\\n",
       "count  936.000000  936.000000  936.000000  936.000000  936.000000  936.000000   \n",
       "mean     0.458171    0.398830    0.220513    0.192301    0.497863    0.244658   \n",
       "std      0.306065    0.167424    0.241223    0.193690    0.500263    0.430114   \n",
       "min      0.000000    0.000000    0.000000    0.000000    0.000000    0.000000   \n",
       "25%      0.173913    0.276954    0.000000    0.055033    0.000000    0.000000   \n",
       "50%      0.456522    0.390836    0.200000    0.129662    0.000000    0.000000   \n",
       "75%      0.717391    0.512803    0.400000    0.245247    1.000000    0.000000   \n",
       "max      1.000000    1.000000    1.000000    1.000000    1.000000    1.000000   \n",
       "\n",
       "        southeast   southwest         yes  \n",
       "count  936.000000  936.000000  936.000000  \n",
       "mean     0.282051    0.242521    0.194444  \n",
       "std      0.450239    0.428837    0.395984  \n",
       "min      0.000000    0.000000    0.000000  \n",
       "25%      0.000000    0.000000    0.000000  \n",
       "50%      0.000000    0.000000    0.000000  \n",
       "75%      1.000000    0.000000    0.000000  \n",
       "max      1.000000    1.000000    1.000000  "
      ]
     },
     "execution_count": 37,
     "metadata": {},
     "output_type": "execute_result"
    }
   ],
   "source": [
    "df_train.describe()"
   ]
  },
  {
   "cell_type": "code",
   "execution_count": 38,
   "id": "ac52f737",
   "metadata": {
    "colab": {
     "base_uri": "https://localhost:8080/",
     "height": 790
    },
    "executionInfo": {
     "elapsed": 46,
     "status": "ok",
     "timestamp": 1681130699318,
     "user": {
      "displayName": "Aayush Adhikari",
      "userId": "12220140506292291733"
     },
     "user_tz": -345
    },
    "id": "ac52f737",
    "outputId": "4ccd572e-0450-40d3-faea-5054ae28c954",
    "scrolled": true
   },
   "outputs": [
    {
     "data": {
      "image/png": "[encoded data removed]",
      "text/plain": [
       "<Figure size 1152x720 with 2 Axes>"
      ]
     },
     "metadata": {
      "needs_background": "light"
     },
     "output_type": "display_data"
    }
   ],
   "source": [
    "# Let's check the correlation coefficients to see which variables are highly correlated\n",
    "\n",
    "plt.figure(figsize = (16, 10))\n",
    "sns.heatmap(df_train.corr(), annot = True,)\n",
    "plt.show()"
   ]
  },
  {
   "cell_type": "code",
   "execution_count": 39,
   "id": "6b7b0b69",
   "metadata": {
    "executionInfo": {
     "elapsed": 45,
     "status": "ok",
     "timestamp": 1681130699318,
     "user": {
      "displayName": "Aayush Adhikari",
      "userId": "12220140506292291733"
     },
     "user_tz": -345
    },
    "id": "6b7b0b69"
   },
   "outputs": [],
   "source": [
    "y_train = df_train.pop('expenses')\n",
    "X_train = df_train"
   ]
  },
  {
   "cell_type": "code",
   "execution_count": 40,
   "id": "84e22ee2",
   "metadata": {
    "executionInfo": {
     "elapsed": 46,
     "status": "ok",
     "timestamp": 1681130699319,
     "user": {
      "displayName": "Aayush Adhikari",
      "userId": "12220140506292291733"
     },
     "user_tz": -345
    },
    "id": "84e22ee2"
   },
   "outputs": [],
   "source": [
    "# Importing RFE and LinearRegression\n",
    "from sklearn.feature_selection import RFE\n",
    "from sklearn.linear_model import LinearRegression"
   ]
  },
  {
   "cell_type": "code",
   "execution_count": 41,
   "id": "e0d7f46f",
   "metadata": {
    "executionInfo": {
     "elapsed": 46,
     "status": "ok",
     "timestamp": 1681130699319,
     "user": {
      "displayName": "Aayush Adhikari",
      "userId": "12220140506292291733"
     },
     "user_tz": -345
    },
    "id": "e0d7f46f"
   },
   "outputs": [],
   "source": [
    "# Running RFE with the output number of the variable equal to 10\n",
    "lm = LinearRegression()\n",
    "lm.fit(X_train, y_train)\n",
    "\n",
    "#rfe = RFE(lm, 10)\n",
    "rfe = RFE(lm, n_features_to_select=10)\n",
    "#running RFE\n",
    "rfe = rfe.fit(X_train, y_train)"
   ]
  },
  {
   "cell_type": "code",
   "execution_count": 42,
   "id": "uONijDi6DedT",
   "metadata": {
    "colab": {
     "base_uri": "https://localhost:8080/"
    },
    "executionInfo": {
     "elapsed": 45,
     "status": "ok",
     "timestamp": 1681130699319,
     "user": {
      "displayName": "Aayush Adhikari",
      "userId": "12220140506292291733"
     },
     "user_tz": -345
    },
    "id": "uONijDi6DedT",
    "outputId": "e2069645-c7ce-4623-df1d-6c481160767e"
   },
   "outputs": [
    {
     "data": {
      "text/plain": [
       "Index(['age', 'bmi', 'children', 'male', 'northwest', 'southeast', 'southwest',\n",
       "       'yes'],\n",
       "      dtype='object')"
      ]
     },
     "execution_count": 42,
     "metadata": {},
     "output_type": "execute_result"
    }
   ],
   "source": [
    "X_train.columns"
   ]
  },
  {
   "cell_type": "code",
   "execution_count": 43,
   "id": "15a57d16",
   "metadata": {
    "colab": {
     "base_uri": "https://localhost:8080/"
    },
    "executionInfo": {
     "elapsed": 42,
     "status": "ok",
     "timestamp": 1681130699319,
     "user": {
      "displayName": "Aayush Adhikari",
      "userId": "12220140506292291733"
     },
     "user_tz": -345
    },
    "id": "15a57d16",
    "outputId": "0f4be550-dadc-4c9b-cee5-5428a01bb494"
   },
   "outputs": [
    {
     "data": {
      "text/plain": [
       "[('age', True, 1),\n",
       " ('bmi', True, 1),\n",
       " ('children', True, 1),\n",
       " ('male', True, 1),\n",
       " ('northwest', True, 1),\n",
       " ('southeast', True, 1),\n",
       " ('southwest', True, 1),\n",
       " ('yes', True, 1)]"
      ]
     },
     "execution_count": 43,
     "metadata": {},
     "output_type": "execute_result"
    }
   ],
   "source": [
    "list(zip(X_train.columns,rfe.support_,rfe.ranking_))"
   ]
  },
  {
   "cell_type": "code",
   "execution_count": 44,
   "id": "23e92b14",
   "metadata": {
    "colab": {
     "base_uri": "https://localhost:8080/"
    },
    "executionInfo": {
     "elapsed": 40,
     "status": "ok",
     "timestamp": 1681130699319,
     "user": {
      "displayName": "Aayush Adhikari",
      "userId": "12220140506292291733"
     },
     "user_tz": -345
    },
    "id": "23e92b14",
    "outputId": "62d691b0-8715-4427-b248-e2f038633f1d"
   },
   "outputs": [
    {
     "data": {
      "text/plain": [
       "Index(['age', 'bmi', 'children', 'male', 'northwest', 'southeast', 'southwest',\n",
       "       'yes'],\n",
       "      dtype='object')"
      ]
     },
     "execution_count": 44,
     "metadata": {},
     "output_type": "execute_result"
    }
   ],
   "source": [
    "col = X_train.columns[rfe.support_]\n",
    "col"
   ]
  },
  {
   "cell_type": "code",
   "execution_count": 45,
   "id": "cef113a7",
   "metadata": {
    "executionInfo": {
     "elapsed": 40,
     "status": "ok",
     "timestamp": 1681130699320,
     "user": {
      "displayName": "Aayush Adhikari",
      "userId": "12220140506292291733"
     },
     "user_tz": -345
    },
    "id": "cef113a7"
   },
   "outputs": [],
   "source": [
    "# Creating X_test dataframe with RFE selected variables\n",
    "X_train_rfe = X_train[col]"
   ]
  },
  {
   "cell_type": "code",
   "execution_count": 46,
   "id": "0e6f37ca",
   "metadata": {
    "executionInfo": {
     "elapsed": 40,
     "status": "ok",
     "timestamp": 1681130699320,
     "user": {
      "displayName": "Aayush Adhikari",
      "userId": "12220140506292291733"
     },
     "user_tz": -345
    },
    "id": "0e6f37ca"
   },
   "outputs": [],
   "source": [
    "# Adding a constant variable \n",
    "import statsmodels.api as sm  \n",
    "X_train_rfe = sm.add_constant(X_train_rfe)"
   ]
  },
  {
   "cell_type": "code",
   "execution_count": 47,
   "id": "3FrtZ7zPF8DR",
   "metadata": {
    "colab": {
     "base_uri": "https://localhost:8080/",
     "height": 423
    },
    "executionInfo": {
     "elapsed": 41,
     "status": "ok",
     "timestamp": 1681130699321,
     "user": {
      "displayName": "Aayush Adhikari",
      "userId": "12220140506292291733"
     },
     "user_tz": -345
    },
    "id": "3FrtZ7zPF8DR",
    "outputId": "f3a7e82d-9976-4b5b-e52b-a45faedc2af4"
   },
   "outputs": [
    {
     "data": {
      "text/html": [
       "<div>\n",
       "<style scoped>\n",
       "    .dataframe tbody tr th:only-of-type {\n",
       "        vertical-align: middle;\n",
       "    }\n",
       "\n",
       "    .dataframe tbody tr th {\n",
       "        vertical-align: top;\n",
       "    }\n",
       "\n",
       "    .dataframe thead th {\n",
       "        text-align: right;\n",
       "    }\n",
       "</style>\n",
       "<table border=\"1\" class=\"dataframe\">\n",
       "  <thead>\n",
       "    <tr style=\"text-align: right;\">\n",
       "      <th></th>\n",
       "      <th>const</th>\n",
       "      <th>age</th>\n",
       "      <th>bmi</th>\n",
       "      <th>children</th>\n",
       "      <th>male</th>\n",
       "      <th>northwest</th>\n",
       "      <th>southeast</th>\n",
       "      <th>southwest</th>\n",
       "      <th>yes</th>\n",
       "    </tr>\n",
       "  </thead>\n",
       "  <tbody>\n",
       "    <tr>\n",
       "      <th>966</th>\n",
       "      <td>1.0</td>\n",
       "      <td>0.717391</td>\n",
       "      <td>0.237197</td>\n",
       "      <td>0.4</td>\n",
       "      <td>1</td>\n",
       "      <td>1</td>\n",
       "      <td>0</td>\n",
       "      <td>0</td>\n",
       "      <td>1</td>\n",
       "    </tr>\n",
       "    <tr>\n",
       "      <th>522</th>\n",
       "      <td>1.0</td>\n",
       "      <td>0.717391</td>\n",
       "      <td>0.482480</td>\n",
       "      <td>0.0</td>\n",
       "      <td>0</td>\n",
       "      <td>0</td>\n",
       "      <td>0</td>\n",
       "      <td>0</td>\n",
       "      <td>0</td>\n",
       "    </tr>\n",
       "    <tr>\n",
       "      <th>155</th>\n",
       "      <td>1.0</td>\n",
       "      <td>0.565217</td>\n",
       "      <td>0.633423</td>\n",
       "      <td>0.0</td>\n",
       "      <td>1</td>\n",
       "      <td>1</td>\n",
       "      <td>0</td>\n",
       "      <td>0</td>\n",
       "      <td>0</td>\n",
       "    </tr>\n",
       "    <tr>\n",
       "      <th>671</th>\n",
       "      <td>1.0</td>\n",
       "      <td>0.239130</td>\n",
       "      <td>0.409704</td>\n",
       "      <td>0.0</td>\n",
       "      <td>0</td>\n",
       "      <td>0</td>\n",
       "      <td>0</td>\n",
       "      <td>0</td>\n",
       "      <td>0</td>\n",
       "    </tr>\n",
       "    <tr>\n",
       "      <th>1173</th>\n",
       "      <td>1.0</td>\n",
       "      <td>0.434783</td>\n",
       "      <td>0.358491</td>\n",
       "      <td>0.4</td>\n",
       "      <td>1</td>\n",
       "      <td>1</td>\n",
       "      <td>0</td>\n",
       "      <td>0</td>\n",
       "      <td>0</td>\n",
       "    </tr>\n",
       "    <tr>\n",
       "      <th>...</th>\n",
       "      <td>...</td>\n",
       "      <td>...</td>\n",
       "      <td>...</td>\n",
       "      <td>...</td>\n",
       "      <td>...</td>\n",
       "      <td>...</td>\n",
       "      <td>...</td>\n",
       "      <td>...</td>\n",
       "      <td>...</td>\n",
       "    </tr>\n",
       "    <tr>\n",
       "      <th>802</th>\n",
       "      <td>1.0</td>\n",
       "      <td>0.065217</td>\n",
       "      <td>0.169811</td>\n",
       "      <td>0.2</td>\n",
       "      <td>1</td>\n",
       "      <td>0</td>\n",
       "      <td>0</td>\n",
       "      <td>1</td>\n",
       "      <td>0</td>\n",
       "    </tr>\n",
       "    <tr>\n",
       "      <th>53</th>\n",
       "      <td>1.0</td>\n",
       "      <td>0.391304</td>\n",
       "      <td>0.495957</td>\n",
       "      <td>0.0</td>\n",
       "      <td>1</td>\n",
       "      <td>0</td>\n",
       "      <td>1</td>\n",
       "      <td>0</td>\n",
       "      <td>1</td>\n",
       "    </tr>\n",
       "    <tr>\n",
       "      <th>350</th>\n",
       "      <td>1.0</td>\n",
       "      <td>0.847826</td>\n",
       "      <td>0.194070</td>\n",
       "      <td>0.0</td>\n",
       "      <td>0</td>\n",
       "      <td>1</td>\n",
       "      <td>0</td>\n",
       "      <td>0</td>\n",
       "      <td>0</td>\n",
       "    </tr>\n",
       "    <tr>\n",
       "      <th>79</th>\n",
       "      <td>1.0</td>\n",
       "      <td>0.500000</td>\n",
       "      <td>0.458221</td>\n",
       "      <td>0.0</td>\n",
       "      <td>0</td>\n",
       "      <td>1</td>\n",
       "      <td>0</td>\n",
       "      <td>0</td>\n",
       "      <td>0</td>\n",
       "    </tr>\n",
       "    <tr>\n",
       "      <th>792</th>\n",
       "      <td>1.0</td>\n",
       "      <td>0.086957</td>\n",
       "      <td>0.194070</td>\n",
       "      <td>0.0</td>\n",
       "      <td>0</td>\n",
       "      <td>0</td>\n",
       "      <td>0</td>\n",
       "      <td>0</td>\n",
       "      <td>0</td>\n",
       "    </tr>\n",
       "  </tbody>\n",
       "</table>\n",
       "<p>936 rows × 9 columns</p>\n",
       "</div>"
      ],
      "text/plain": [
       "      const       age       bmi  children  male  northwest  southeast  \\\n",
       "966     1.0  0.717391  0.237197       0.4     1          1          0   \n",
       "522     1.0  0.717391  0.482480       0.0     0          0          0   \n",
       "155     1.0  0.565217  0.633423       0.0     1          1          0   \n",
       "671     1.0  0.239130  0.409704       0.0     0          0          0   \n",
       "1173    1.0  0.434783  0.358491       0.4     1          1          0   \n",
       "...     ...       ...       ...       ...   ...        ...        ...   \n",
       "802     1.0  0.065217  0.169811       0.2     1          0          0   \n",
       "53      1.0  0.391304  0.495957       0.0     1          0          1   \n",
       "350     1.0  0.847826  0.194070       0.0     0          1          0   \n",
       "79      1.0  0.500000  0.458221       0.0     0          1          0   \n",
       "792     1.0  0.086957  0.194070       0.0     0          0          0   \n",
       "\n",
       "      southwest  yes  \n",
       "966           0    1  \n",
       "522           0    0  \n",
       "155           0    0  \n",
       "671           0    0  \n",
       "1173          0    0  \n",
       "...         ...  ...  \n",
       "802           1    0  \n",
       "53            0    1  \n",
       "350           0    0  \n",
       "79            0    0  \n",
       "792           0    0  \n",
       "\n",
       "[936 rows x 9 columns]"
      ]
     },
     "execution_count": 47,
     "metadata": {},
     "output_type": "execute_result"
    }
   ],
   "source": [
    "X_train_rfe"
   ]
  },
  {
   "cell_type": "markdown",
   "id": "R1_4CLwxisEz",
   "metadata": {
    "id": "R1_4CLwxisEz"
   },
   "source": [
    "Ordinary Least Squares regression (OLS) is a common technique for estimating coefficients of linear regression equations which describe the relationship between one or more independent quantitative variables and a dependent variable (simple or multiple linear regression)."
   ]
  },
  {
   "cell_type": "code",
   "execution_count": 48,
   "id": "3ad2d6a5",
   "metadata": {
    "executionInfo": {
     "elapsed": 40,
     "status": "ok",
     "timestamp": 1681130699321,
     "user": {
      "displayName": "Aayush Adhikari",
      "userId": "12220140506292291733"
     },
     "user_tz": -345
    },
    "id": "3ad2d6a5"
   },
   "outputs": [],
   "source": [
    "lm = sm.OLS(y_train,X_train_rfe).fit()   # Running the linear model"
   ]
  },
  {
   "cell_type": "code",
   "execution_count": 49,
   "id": "dadc9280",
   "metadata": {
    "colab": {
     "base_uri": "https://localhost:8080/"
    },
    "executionInfo": {
     "elapsed": 40,
     "status": "ok",
     "timestamp": 1681130699321,
     "user": {
      "displayName": "Aayush Adhikari",
      "userId": "12220140506292291733"
     },
     "user_tz": -345
    },
    "id": "dadc9280",
    "outputId": "025052fd-dc48-46e6-8ea9-99d4ed357a58"
   },
   "outputs": [
    {
     "name": "stdout",
     "output_type": "stream",
     "text": [
      "                            OLS Regression Results                            \n",
      "==============================================================================\n",
      "Dep. Variable:               expenses   R-squared:                       0.738\n",
      "Model:                            OLS   Adj. R-squared:                  0.736\n",
      "Method:                 Least Squares   F-statistic:                     326.2\n",
      "Date:                Mon, 10 Apr 2023   Prob (F-statistic):          2.00e-263\n",
      "Time:                        19:23:31   Log-Likelihood:                 835.45\n",
      "No. Observations:                 936   AIC:                            -1653.\n",
      "Df Residuals:                     927   BIC:                            -1609.\n",
      "Df Model:                           8                                         \n",
      "Covariance Type:            nonrobust                                         \n",
      "==============================================================================\n",
      "                 coef    std err          t      P>|t|      [0.025      0.975]\n",
      "------------------------------------------------------------------------------\n",
      "const         -0.0330      0.011     -2.914      0.004      -0.055      -0.011\n",
      "age            0.1909      0.011     17.767      0.000       0.170       0.212\n",
      "bmi            0.1717      0.021      8.356      0.000       0.131       0.212\n",
      "children       0.0377      0.014      2.783      0.005       0.011       0.064\n",
      "male       -4.232e-06      0.007     -0.001      0.999      -0.013       0.013\n",
      "northwest     -0.0121      0.009     -1.276      0.202      -0.031       0.006\n",
      "southeast     -0.0150      0.009     -1.588      0.113      -0.034       0.004\n",
      "southwest     -0.0256      0.010     -2.684      0.007      -0.044      -0.007\n",
      "yes            0.3829      0.008     46.275      0.000       0.367       0.399\n",
      "==============================================================================\n",
      "Omnibus:                      225.106   Durbin-Watson:                   2.021\n",
      "Prob(Omnibus):                  0.000   Jarque-Bera (JB):              541.634\n",
      "Skew:                           1.274   Prob(JB):                    2.43e-118\n",
      "Kurtosis:                       5.719   Cond. No.                         9.41\n",
      "==============================================================================\n",
      "\n",
      "Notes:\n",
      "[1] Standard Errors assume that the covariance matrix of the errors is correctly specified.\n"
     ]
    }
   ],
   "source": [
    "#Let's see the summary of our linear model\n",
    "print(lm.summary())"
   ]
  },
  {
   "cell_type": "markdown",
   "id": "TvZuuPBjkA9Y",
   "metadata": {
    "id": "TvZuuPBjkA9Y"
   },
   "source": [
    "The Variance Inflation Factor (VIF) is a measure of colinearity among predictor variables within a multiple regression. It is calculated by taking the the ratio of the variance of all a given model's betas divide by the variane of a single beta if it were fit alone."
   ]
  },
  {
   "cell_type": "code",
   "execution_count": 50,
   "id": "76e6b850",
   "metadata": {
    "colab": {
     "base_uri": "https://localhost:8080/",
     "height": 423
    },
    "executionInfo": {
     "elapsed": 39,
     "status": "ok",
     "timestamp": 1681130699321,
     "user": {
      "displayName": "Aayush Adhikari",
      "userId": "12220140506292291733"
     },
     "user_tz": -345
    },
    "id": "76e6b850",
    "outputId": "73d5f04e-71bd-4f32-c3b0-a3d33857dc60"
   },
   "outputs": [
    {
     "data": {
      "text/html": [
       "<div>\n",
       "<style scoped>\n",
       "    .dataframe tbody tr th:only-of-type {\n",
       "        vertical-align: middle;\n",
       "    }\n",
       "\n",
       "    .dataframe tbody tr th {\n",
       "        vertical-align: top;\n",
       "    }\n",
       "\n",
       "    .dataframe thead th {\n",
       "        text-align: right;\n",
       "    }\n",
       "</style>\n",
       "<table border=\"1\" class=\"dataframe\">\n",
       "  <thead>\n",
       "    <tr style=\"text-align: right;\">\n",
       "      <th></th>\n",
       "      <th>const</th>\n",
       "      <th>age</th>\n",
       "      <th>bmi</th>\n",
       "      <th>children</th>\n",
       "      <th>northwest</th>\n",
       "      <th>southeast</th>\n",
       "      <th>southwest</th>\n",
       "      <th>yes</th>\n",
       "    </tr>\n",
       "  </thead>\n",
       "  <tbody>\n",
       "    <tr>\n",
       "      <th>966</th>\n",
       "      <td>1.0</td>\n",
       "      <td>0.717391</td>\n",
       "      <td>0.237197</td>\n",
       "      <td>0.4</td>\n",
       "      <td>1</td>\n",
       "      <td>0</td>\n",
       "      <td>0</td>\n",
       "      <td>1</td>\n",
       "    </tr>\n",
       "    <tr>\n",
       "      <th>522</th>\n",
       "      <td>1.0</td>\n",
       "      <td>0.717391</td>\n",
       "      <td>0.482480</td>\n",
       "      <td>0.0</td>\n",
       "      <td>0</td>\n",
       "      <td>0</td>\n",
       "      <td>0</td>\n",
       "      <td>0</td>\n",
       "    </tr>\n",
       "    <tr>\n",
       "      <th>155</th>\n",
       "      <td>1.0</td>\n",
       "      <td>0.565217</td>\n",
       "      <td>0.633423</td>\n",
       "      <td>0.0</td>\n",
       "      <td>1</td>\n",
       "      <td>0</td>\n",
       "      <td>0</td>\n",
       "      <td>0</td>\n",
       "    </tr>\n",
       "    <tr>\n",
       "      <th>671</th>\n",
       "      <td>1.0</td>\n",
       "      <td>0.239130</td>\n",
       "      <td>0.409704</td>\n",
       "      <td>0.0</td>\n",
       "      <td>0</td>\n",
       "      <td>0</td>\n",
       "      <td>0</td>\n",
       "      <td>0</td>\n",
       "    </tr>\n",
       "    <tr>\n",
       "      <th>1173</th>\n",
       "      <td>1.0</td>\n",
       "      <td>0.434783</td>\n",
       "      <td>0.358491</td>\n",
       "      <td>0.4</td>\n",
       "      <td>1</td>\n",
       "      <td>0</td>\n",
       "      <td>0</td>\n",
       "      <td>0</td>\n",
       "    </tr>\n",
       "    <tr>\n",
       "      <th>...</th>\n",
       "      <td>...</td>\n",
       "      <td>...</td>\n",
       "      <td>...</td>\n",
       "      <td>...</td>\n",
       "      <td>...</td>\n",
       "      <td>...</td>\n",
       "      <td>...</td>\n",
       "      <td>...</td>\n",
       "    </tr>\n",
       "    <tr>\n",
       "      <th>802</th>\n",
       "      <td>1.0</td>\n",
       "      <td>0.065217</td>\n",
       "      <td>0.169811</td>\n",
       "      <td>0.2</td>\n",
       "      <td>0</td>\n",
       "      <td>0</td>\n",
       "      <td>1</td>\n",
       "      <td>0</td>\n",
       "    </tr>\n",
       "    <tr>\n",
       "      <th>53</th>\n",
       "      <td>1.0</td>\n",
       "      <td>0.391304</td>\n",
       "      <td>0.495957</td>\n",
       "      <td>0.0</td>\n",
       "      <td>0</td>\n",
       "      <td>1</td>\n",
       "      <td>0</td>\n",
       "      <td>1</td>\n",
       "    </tr>\n",
       "    <tr>\n",
       "      <th>350</th>\n",
       "      <td>1.0</td>\n",
       "      <td>0.847826</td>\n",
       "      <td>0.194070</td>\n",
       "      <td>0.0</td>\n",
       "      <td>1</td>\n",
       "      <td>0</td>\n",
       "      <td>0</td>\n",
       "      <td>0</td>\n",
       "    </tr>\n",
       "    <tr>\n",
       "      <th>79</th>\n",
       "      <td>1.0</td>\n",
       "      <td>0.500000</td>\n",
       "      <td>0.458221</td>\n",
       "      <td>0.0</td>\n",
       "      <td>1</td>\n",
       "      <td>0</td>\n",
       "      <td>0</td>\n",
       "      <td>0</td>\n",
       "    </tr>\n",
       "    <tr>\n",
       "      <th>792</th>\n",
       "      <td>1.0</td>\n",
       "      <td>0.086957</td>\n",
       "      <td>0.194070</td>\n",
       "      <td>0.0</td>\n",
       "      <td>0</td>\n",
       "      <td>0</td>\n",
       "      <td>0</td>\n",
       "      <td>0</td>\n",
       "    </tr>\n",
       "  </tbody>\n",
       "</table>\n",
       "<p>936 rows × 8 columns</p>\n",
       "</div>"
      ],
      "text/plain": [
       "      const       age       bmi  children  northwest  southeast  southwest  \\\n",
       "966     1.0  0.717391  0.237197       0.4          1          0          0   \n",
       "522     1.0  0.717391  0.482480       0.0          0          0          0   \n",
       "155     1.0  0.565217  0.633423       0.0          1          0          0   \n",
       "671     1.0  0.239130  0.409704       0.0          0          0          0   \n",
       "1173    1.0  0.434783  0.358491       0.4          1          0          0   \n",
       "...     ...       ...       ...       ...        ...        ...        ...   \n",
       "802     1.0  0.065217  0.169811       0.2          0          0          1   \n",
       "53      1.0  0.391304  0.495957       0.0          0          1          0   \n",
       "350     1.0  0.847826  0.194070       0.0          1          0          0   \n",
       "79      1.0  0.500000  0.458221       0.0          1          0          0   \n",
       "792     1.0  0.086957  0.194070       0.0          0          0          0   \n",
       "\n",
       "      yes  \n",
       "966     1  \n",
       "522     0  \n",
       "155     0  \n",
       "671     0  \n",
       "1173    0  \n",
       "...   ...  \n",
       "802     0  \n",
       "53      1  \n",
       "350     0  \n",
       "79      0  \n",
       "792     0  \n",
       "\n",
       "[936 rows x 8 columns]"
      ]
     },
     "execution_count": 50,
     "metadata": {},
     "output_type": "execute_result"
    }
   ],
   "source": [
    "# Dropping male as p-value is high.\n",
    "X_train_new1 = X_train_rfe.drop([\"male\"], axis = 1)\n",
    "\n",
    "X_train_new1\n",
    "\n"
   ]
  },
  {
   "cell_type": "code",
   "execution_count": 51,
   "id": "J_Dsz9QUH83h",
   "metadata": {
    "colab": {
     "base_uri": "https://localhost:8080/",
     "height": 423
    },
    "executionInfo": {
     "elapsed": 38,
     "status": "ok",
     "timestamp": 1681130699321,
     "user": {
      "displayName": "Aayush Adhikari",
      "userId": "12220140506292291733"
     },
     "user_tz": -345
    },
    "id": "J_Dsz9QUH83h",
    "outputId": "0d568994-4539-4b35-c815-a137ab45e444"
   },
   "outputs": [
    {
     "data": {
      "text/html": [
       "<div>\n",
       "<style scoped>\n",
       "    .dataframe tbody tr th:only-of-type {\n",
       "        vertical-align: middle;\n",
       "    }\n",
       "\n",
       "    .dataframe tbody tr th {\n",
       "        vertical-align: top;\n",
       "    }\n",
       "\n",
       "    .dataframe thead th {\n",
       "        text-align: right;\n",
       "    }\n",
       "</style>\n",
       "<table border=\"1\" class=\"dataframe\">\n",
       "  <thead>\n",
       "    <tr style=\"text-align: right;\">\n",
       "      <th></th>\n",
       "      <th>const</th>\n",
       "      <th>age</th>\n",
       "      <th>bmi</th>\n",
       "      <th>children</th>\n",
       "      <th>northwest</th>\n",
       "      <th>southeast</th>\n",
       "      <th>southwest</th>\n",
       "      <th>yes</th>\n",
       "    </tr>\n",
       "  </thead>\n",
       "  <tbody>\n",
       "    <tr>\n",
       "      <th>966</th>\n",
       "      <td>1.0</td>\n",
       "      <td>0.717391</td>\n",
       "      <td>0.237197</td>\n",
       "      <td>0.4</td>\n",
       "      <td>1</td>\n",
       "      <td>0</td>\n",
       "      <td>0</td>\n",
       "      <td>1</td>\n",
       "    </tr>\n",
       "    <tr>\n",
       "      <th>522</th>\n",
       "      <td>1.0</td>\n",
       "      <td>0.717391</td>\n",
       "      <td>0.482480</td>\n",
       "      <td>0.0</td>\n",
       "      <td>0</td>\n",
       "      <td>0</td>\n",
       "      <td>0</td>\n",
       "      <td>0</td>\n",
       "    </tr>\n",
       "    <tr>\n",
       "      <th>155</th>\n",
       "      <td>1.0</td>\n",
       "      <td>0.565217</td>\n",
       "      <td>0.633423</td>\n",
       "      <td>0.0</td>\n",
       "      <td>1</td>\n",
       "      <td>0</td>\n",
       "      <td>0</td>\n",
       "      <td>0</td>\n",
       "    </tr>\n",
       "    <tr>\n",
       "      <th>671</th>\n",
       "      <td>1.0</td>\n",
       "      <td>0.239130</td>\n",
       "      <td>0.409704</td>\n",
       "      <td>0.0</td>\n",
       "      <td>0</td>\n",
       "      <td>0</td>\n",
       "      <td>0</td>\n",
       "      <td>0</td>\n",
       "    </tr>\n",
       "    <tr>\n",
       "      <th>1173</th>\n",
       "      <td>1.0</td>\n",
       "      <td>0.434783</td>\n",
       "      <td>0.358491</td>\n",
       "      <td>0.4</td>\n",
       "      <td>1</td>\n",
       "      <td>0</td>\n",
       "      <td>0</td>\n",
       "      <td>0</td>\n",
       "    </tr>\n",
       "    <tr>\n",
       "      <th>...</th>\n",
       "      <td>...</td>\n",
       "      <td>...</td>\n",
       "      <td>...</td>\n",
       "      <td>...</td>\n",
       "      <td>...</td>\n",
       "      <td>...</td>\n",
       "      <td>...</td>\n",
       "      <td>...</td>\n",
       "    </tr>\n",
       "    <tr>\n",
       "      <th>802</th>\n",
       "      <td>1.0</td>\n",
       "      <td>0.065217</td>\n",
       "      <td>0.169811</td>\n",
       "      <td>0.2</td>\n",
       "      <td>0</td>\n",
       "      <td>0</td>\n",
       "      <td>1</td>\n",
       "      <td>0</td>\n",
       "    </tr>\n",
       "    <tr>\n",
       "      <th>53</th>\n",
       "      <td>1.0</td>\n",
       "      <td>0.391304</td>\n",
       "      <td>0.495957</td>\n",
       "      <td>0.0</td>\n",
       "      <td>0</td>\n",
       "      <td>1</td>\n",
       "      <td>0</td>\n",
       "      <td>1</td>\n",
       "    </tr>\n",
       "    <tr>\n",
       "      <th>350</th>\n",
       "      <td>1.0</td>\n",
       "      <td>0.847826</td>\n",
       "      <td>0.194070</td>\n",
       "      <td>0.0</td>\n",
       "      <td>1</td>\n",
       "      <td>0</td>\n",
       "      <td>0</td>\n",
       "      <td>0</td>\n",
       "    </tr>\n",
       "    <tr>\n",
       "      <th>79</th>\n",
       "      <td>1.0</td>\n",
       "      <td>0.500000</td>\n",
       "      <td>0.458221</td>\n",
       "      <td>0.0</td>\n",
       "      <td>1</td>\n",
       "      <td>0</td>\n",
       "      <td>0</td>\n",
       "      <td>0</td>\n",
       "    </tr>\n",
       "    <tr>\n",
       "      <th>792</th>\n",
       "      <td>1.0</td>\n",
       "      <td>0.086957</td>\n",
       "      <td>0.194070</td>\n",
       "      <td>0.0</td>\n",
       "      <td>0</td>\n",
       "      <td>0</td>\n",
       "      <td>0</td>\n",
       "      <td>0</td>\n",
       "    </tr>\n",
       "  </tbody>\n",
       "</table>\n",
       "<p>936 rows × 8 columns</p>\n",
       "</div>"
      ],
      "text/plain": [
       "      const       age       bmi  children  northwest  southeast  southwest  \\\n",
       "966     1.0  0.717391  0.237197       0.4          1          0          0   \n",
       "522     1.0  0.717391  0.482480       0.0          0          0          0   \n",
       "155     1.0  0.565217  0.633423       0.0          1          0          0   \n",
       "671     1.0  0.239130  0.409704       0.0          0          0          0   \n",
       "1173    1.0  0.434783  0.358491       0.4          1          0          0   \n",
       "...     ...       ...       ...       ...        ...        ...        ...   \n",
       "802     1.0  0.065217  0.169811       0.2          0          0          1   \n",
       "53      1.0  0.391304  0.495957       0.0          0          1          0   \n",
       "350     1.0  0.847826  0.194070       0.0          1          0          0   \n",
       "79      1.0  0.500000  0.458221       0.0          1          0          0   \n",
       "792     1.0  0.086957  0.194070       0.0          0          0          0   \n",
       "\n",
       "      yes  \n",
       "966     1  \n",
       "522     0  \n",
       "155     0  \n",
       "671     0  \n",
       "1173    0  \n",
       "...   ...  \n",
       "802     0  \n",
       "53      1  \n",
       "350     0  \n",
       "79      0  \n",
       "792     0  \n",
       "\n",
       "[936 rows x 8 columns]"
      ]
     },
     "execution_count": 51,
     "metadata": {},
     "output_type": "execute_result"
    }
   ],
   "source": [
    "# Adding a constant variable \n",
    "import statsmodels.api as sm  \n",
    "X_train_lm = sm.add_constant(X_train_new1)\n",
    "X_train_lm\n"
   ]
  },
  {
   "cell_type": "code",
   "execution_count": 52,
   "id": "JA6y-mJBIQ97",
   "metadata": {
    "colab": {
     "base_uri": "https://localhost:8080/"
    },
    "executionInfo": {
     "elapsed": 39,
     "status": "ok",
     "timestamp": 1681130699322,
     "user": {
      "displayName": "Aayush Adhikari",
      "userId": "12220140506292291733"
     },
     "user_tz": -345
    },
    "id": "JA6y-mJBIQ97",
    "outputId": "a02400d9-638d-4273-8baf-d6720552e7f8"
   },
   "outputs": [
    {
     "name": "stdout",
     "output_type": "stream",
     "text": [
      "                            OLS Regression Results                            \n",
      "==============================================================================\n",
      "Dep. Variable:               expenses   R-squared:                       0.738\n",
      "Model:                            OLS   Adj. R-squared:                  0.736\n",
      "Method:                 Least Squares   F-statistic:                     373.2\n",
      "Date:                Mon, 10 Apr 2023   Prob (F-statistic):          9.99e-265\n",
      "Time:                        19:23:32   Log-Likelihood:                 835.45\n",
      "No. Observations:                 936   AIC:                            -1655.\n",
      "Df Residuals:                     928   BIC:                            -1616.\n",
      "Df Model:                           7                                         \n",
      "Covariance Type:            nonrobust                                         \n",
      "==============================================================================\n",
      "                 coef    std err          t      P>|t|      [0.025      0.975]\n",
      "------------------------------------------------------------------------------\n",
      "const         -0.0330      0.011     -3.010      0.003      -0.055      -0.011\n",
      "age            0.1909      0.011     17.776      0.000       0.170       0.212\n",
      "bmi            0.1717      0.021      8.367      0.000       0.131       0.212\n",
      "children       0.0377      0.014      2.786      0.005       0.011       0.064\n",
      "northwest     -0.0121      0.009     -1.277      0.202      -0.031       0.006\n",
      "southeast     -0.0150      0.009     -1.589      0.112      -0.034       0.004\n",
      "southwest     -0.0256      0.010     -2.685      0.007      -0.044      -0.007\n",
      "yes            0.3829      0.008     46.386      0.000       0.367       0.399\n",
      "==============================================================================\n",
      "Omnibus:                      225.107   Durbin-Watson:                   2.021\n",
      "Prob(Omnibus):                  0.000   Jarque-Bera (JB):              541.635\n",
      "Skew:                           1.274   Prob(JB):                    2.43e-118\n",
      "Kurtosis:                       5.719   Cond. No.                         8.71\n",
      "==============================================================================\n",
      "\n",
      "Notes:\n",
      "[1] Standard Errors assume that the covariance matrix of the errors is correctly specified.\n"
     ]
    }
   ],
   "source": [
    "lm = sm.OLS(y_train,X_train_lm).fit()   # Running the linear model\n",
    "\n",
    "#Let's see the summary of our linear model\n",
    "print(lm.summary())"
   ]
  },
  {
   "cell_type": "code",
   "execution_count": 53,
   "id": "cc85cc1f",
   "metadata": {
    "colab": {
     "base_uri": "https://localhost:8080/"
    },
    "executionInfo": {
     "elapsed": 37,
     "status": "ok",
     "timestamp": 1681130699322,
     "user": {
      "displayName": "Aayush Adhikari",
      "userId": "12220140506292291733"
     },
     "user_tz": -345
    },
    "id": "cc85cc1f",
    "outputId": "5f82fc32-ca70-481c-d0b0-2a7ed778d486"
   },
   "outputs": [
    {
     "name": "stdout",
     "output_type": "stream",
     "text": [
      "                            OLS Regression Results                            \n",
      "==============================================================================\n",
      "Dep. Variable:               expenses   R-squared:                       0.737\n",
      "Model:                            OLS   Adj. R-squared:                  0.736\n",
      "Method:                 Least Squares   F-statistic:                     434.8\n",
      "Date:                Mon, 10 Apr 2023   Prob (F-statistic):          1.04e-265\n",
      "Time:                        19:23:32   Log-Likelihood:                 834.63\n",
      "No. Observations:                 936   AIC:                            -1655.\n",
      "Df Residuals:                     929   BIC:                            -1621.\n",
      "Df Model:                           6                                         \n",
      "Covariance Type:            nonrobust                                         \n",
      "==============================================================================\n",
      "                 coef    std err          t      P>|t|      [0.025      0.975]\n",
      "------------------------------------------------------------------------------\n",
      "const         -0.0390      0.010     -3.924      0.000      -0.058      -0.019\n",
      "age            0.1907      0.011     17.754      0.000       0.170       0.212\n",
      "bmi            0.1715      0.021      8.357      0.000       0.131       0.212\n",
      "children       0.0371      0.014      2.741      0.006       0.011       0.064\n",
      "southeast     -0.0088      0.008     -1.087      0.277      -0.025       0.007\n",
      "southwest     -0.0193      0.008     -2.365      0.018      -0.035      -0.003\n",
      "yes            0.3831      0.008     46.399      0.000       0.367       0.399\n",
      "==============================================================================\n",
      "Omnibus:                      222.575   Durbin-Watson:                   2.027\n",
      "Prob(Omnibus):                  0.000   Jarque-Bera (JB):              529.554\n",
      "Skew:                           1.265   Prob(JB):                    1.02e-115\n",
      "Kurtosis:                       5.678   Cond. No.                         8.56\n",
      "==============================================================================\n",
      "\n",
      "Notes:\n",
      "[1] Standard Errors assume that the covariance matrix of the errors is correctly specified.\n"
     ]
    }
   ],
   "source": [
    "# Dropping northwest as p value is high.\n",
    "X_train_new2 = X_train_new1.drop([\"northwest\"], axis = 1)\n",
    "\n",
    "\n",
    "# Adding a constant variable \n",
    "import statsmodels.api as sm  \n",
    "X_train_lm = sm.add_constant(X_train_new2)\n",
    "\n",
    "lm = sm.OLS(y_train,X_train_lm).fit()   # Running the linear model\n",
    "\n",
    "#Let's see the summary of our linear model\n",
    "print(lm.summary())"
   ]
  },
  {
   "cell_type": "code",
   "execution_count": 54,
   "id": "42e5dce4",
   "metadata": {
    "colab": {
     "base_uri": "https://localhost:8080/"
    },
    "executionInfo": {
     "elapsed": 36,
     "status": "ok",
     "timestamp": 1681130699322,
     "user": {
      "displayName": "Aayush Adhikari",
      "userId": "12220140506292291733"
     },
     "user_tz": -345
    },
    "id": "42e5dce4",
    "outputId": "7276c6be-0df5-429c-b5df-08262796e4c7"
   },
   "outputs": [
    {
     "name": "stdout",
     "output_type": "stream",
     "text": [
      "                            OLS Regression Results                            \n",
      "==============================================================================\n",
      "Dep. Variable:               expenses   R-squared:                       0.736\n",
      "Model:                            OLS   Adj. R-squared:                  0.734\n",
      "Method:                 Least Squares   F-statistic:                     518.1\n",
      "Date:                Mon, 10 Apr 2023   Prob (F-statistic):          6.99e-266\n",
      "Time:                        19:23:32   Log-Likelihood:                 831.82\n",
      "No. Observations:                 936   AIC:                            -1652.\n",
      "Df Residuals:                     930   BIC:                            -1623.\n",
      "Df Model:                           5                                         \n",
      "Covariance Type:            nonrobust                                         \n",
      "==============================================================================\n",
      "                 coef    std err          t      P>|t|      [0.025      0.975]\n",
      "------------------------------------------------------------------------------\n",
      "const         -0.0433      0.010     -4.425      0.000      -0.062      -0.024\n",
      "age            0.1906      0.011     17.698      0.000       0.169       0.212\n",
      "bmi            0.1660      0.020      8.121      0.000       0.126       0.206\n",
      "children       0.0367      0.014      2.708      0.007       0.010       0.063\n",
      "southeast     -0.0018      0.008     -0.231      0.817      -0.017       0.013\n",
      "yes            0.3830      0.008     46.270      0.000       0.367       0.399\n",
      "==============================================================================\n",
      "Omnibus:                      223.178   Durbin-Watson:                   2.024\n",
      "Prob(Omnibus):                  0.000   Jarque-Bera (JB):              529.092\n",
      "Skew:                           1.270   Prob(JB):                    1.29e-115\n",
      "Kurtosis:                       5.666   Cond. No.                         8.37\n",
      "==============================================================================\n",
      "\n",
      "Notes:\n",
      "[1] Standard Errors assume that the covariance matrix of the errors is correctly specified.\n"
     ]
    }
   ],
   "source": [
    "# Dropping southwest as p-value is high.\n",
    "X_train_new3 = X_train_new2.drop([\"southwest\"], axis = 1)\n",
    "\n",
    "\n",
    "# Adding a constant variable \n",
    "import statsmodels.api as sm  \n",
    "X_train_lm = sm.add_constant(X_train_new3)\n",
    "\n",
    "lm = sm.OLS(y_train,X_train_lm).fit()   # Running the linear model\n",
    "\n",
    "#Let's see the summary of our linear model\n",
    "print(lm.summary())"
   ]
  },
  {
   "cell_type": "code",
   "execution_count": 55,
   "id": "e6f4d194",
   "metadata": {
    "colab": {
     "base_uri": "https://localhost:8080/"
    },
    "executionInfo": {
     "elapsed": 34,
     "status": "ok",
     "timestamp": 1681130699322,
     "user": {
      "displayName": "Aayush Adhikari",
      "userId": "12220140506292291733"
     },
     "user_tz": -345
    },
    "id": "e6f4d194",
    "outputId": "6798fd6b-1199-482d-9dbb-5e454791d55a"
   },
   "outputs": [
    {
     "name": "stdout",
     "output_type": "stream",
     "text": [
      "                            OLS Regression Results                            \n",
      "==============================================================================\n",
      "Dep. Variable:               expenses   R-squared:                       0.736\n",
      "Model:                            OLS   Adj. R-squared:                  0.735\n",
      "Method:                 Least Squares   F-statistic:                     648.3\n",
      "Date:                Mon, 10 Apr 2023   Prob (F-statistic):          2.65e-267\n",
      "Time:                        19:23:32   Log-Likelihood:                 831.80\n",
      "No. Observations:                 936   AIC:                            -1654.\n",
      "Df Residuals:                     931   BIC:                            -1629.\n",
      "Df Model:                           4                                         \n",
      "Covariance Type:            nonrobust                                         \n",
      "==============================================================================\n",
      "                 coef    std err          t      P>|t|      [0.025      0.975]\n",
      "------------------------------------------------------------------------------\n",
      "const         -0.0433      0.010     -4.431      0.000      -0.063      -0.024\n",
      "age            0.1907      0.011     17.747      0.000       0.170       0.212\n",
      "bmi            0.1647      0.020      8.385      0.000       0.126       0.203\n",
      "children       0.0368      0.014      2.719      0.007       0.010       0.063\n",
      "yes            0.3828      0.008     46.448      0.000       0.367       0.399\n",
      "==============================================================================\n",
      "Omnibus:                      222.985   Durbin-Watson:                   2.024\n",
      "Prob(Omnibus):                  0.000   Jarque-Bera (JB):              528.306\n",
      "Skew:                           1.270   Prob(JB):                    1.90e-115\n",
      "Kurtosis:                       5.664   Cond. No.                         7.85\n",
      "==============================================================================\n",
      "\n",
      "Notes:\n",
      "[1] Standard Errors assume that the covariance matrix of the errors is correctly specified.\n"
     ]
    }
   ],
   "source": [
    "# Dropping southeast as p value is high.\n",
    "X_train_new4 = X_train_new3.drop([\"southeast\"], axis = 1)\n",
    "\n",
    "\n",
    "# Adding a constant variable \n",
    "import statsmodels.api as sm  \n",
    "X_train_lm = sm.add_constant(X_train_new4)\n",
    "\n",
    "lm = sm.OLS(y_train,X_train_lm).fit()   # Running the linear model\n",
    "\n",
    "#Let's see the summary of our linear model\n",
    "print(lm.summary())"
   ]
  },
  {
   "cell_type": "code",
   "execution_count": 56,
   "id": "5c7bb9fd",
   "metadata": {
    "colab": {
     "base_uri": "https://localhost:8080/"
    },
    "executionInfo": {
     "elapsed": 32,
     "status": "ok",
     "timestamp": 1681130699322,
     "user": {
      "displayName": "Aayush Adhikari",
      "userId": "12220140506292291733"
     },
     "user_tz": -345
    },
    "id": "5c7bb9fd",
    "outputId": "f887ebd7-0261-4d9b-fcb5-3df4049f2d4c"
   },
   "outputs": [
    {
     "name": "stdout",
     "output_type": "stream",
     "text": [
      "                            OLS Regression Results                            \n",
      "==============================================================================\n",
      "Dep. Variable:               expenses   R-squared:                       0.734\n",
      "Model:                            OLS   Adj. R-squared:                  0.733\n",
      "Method:                 Least Squares   F-statistic:                     856.1\n",
      "Date:                Mon, 10 Apr 2023   Prob (F-statistic):          3.30e-267\n",
      "Time:                        19:23:32   Log-Likelihood:                 828.10\n",
      "No. Observations:                 936   AIC:                            -1648.\n",
      "Df Residuals:                     932   BIC:                            -1629.\n",
      "Df Model:                           3                                         \n",
      "Covariance Type:            nonrobust                                         \n",
      "==============================================================================\n",
      "                 coef    std err          t      P>|t|      [0.025      0.975]\n",
      "------------------------------------------------------------------------------\n",
      "const         -0.0365      0.009     -3.848      0.000      -0.055      -0.018\n",
      "age            0.1918      0.011     17.801      0.000       0.171       0.213\n",
      "bmi            0.1665      0.020      8.454      0.000       0.128       0.205\n",
      "yes            0.3830      0.008     46.311      0.000       0.367       0.399\n",
      "==============================================================================\n",
      "Omnibus:                      218.132   Durbin-Watson:                   2.021\n",
      "Prob(Omnibus):                  0.000   Jarque-Bera (JB):              503.738\n",
      "Skew:                           1.254   Prob(JB):                    4.12e-110\n",
      "Kurtosis:                       5.574   Cond. No.                         7.72\n",
      "==============================================================================\n",
      "\n",
      "Notes:\n",
      "[1] Standard Errors assume that the covariance matrix of the errors is correctly specified.\n"
     ]
    }
   ],
   "source": [
    "# Dropping children as p value is high.\n",
    "X_train_new5 = X_train_new4.drop([\"children\"], axis = 1)\n",
    "\n",
    "\n",
    "# Adding a constant variable \n",
    "import statsmodels.api as sm  \n",
    "X_train_lm = sm.add_constant(X_train_new5)\n",
    "\n",
    "lm = sm.OLS(y_train,X_train_lm).fit()   # Running the linear model\n",
    "\n",
    "#Let's see the summary of our linear model\n",
    "print(lm.summary())"
   ]
  },
  {
   "cell_type": "code",
   "execution_count": 57,
   "id": "0651d8e2",
   "metadata": {
    "colab": {
     "base_uri": "https://localhost:8080/"
    },
    "executionInfo": {
     "elapsed": 30,
     "status": "ok",
     "timestamp": 1681130699322,
     "user": {
      "displayName": "Aayush Adhikari",
      "userId": "12220140506292291733"
     },
     "user_tz": -345
    },
    "id": "0651d8e2",
    "outputId": "a3591762-519c-419b-a139-1e927ea6010f"
   },
   "outputs": [
    {
     "data": {
      "text/plain": [
       "966     0.523607\n",
       "522     0.181488\n",
       "155     0.177438\n",
       "671     0.077630\n",
       "1173    0.106630\n",
       "          ...   \n",
       "802     0.004318\n",
       "53      0.504154\n",
       "350     0.158474\n",
       "79      0.135749\n",
       "792     0.012528\n",
       "Length: 936, dtype: float64"
      ]
     },
     "execution_count": 57,
     "metadata": {},
     "output_type": "execute_result"
    }
   ],
   "source": [
    "y_train_price = lm.predict(X_train_lm)\n",
    "y_train_price"
   ]
  },
  {
   "cell_type": "code",
   "execution_count": 58,
   "id": "_RjZVBFDKnjR",
   "metadata": {
    "executionInfo": {
     "elapsed": 30,
     "status": "ok",
     "timestamp": 1681130699323,
     "user": {
      "displayName": "Aayush Adhikari",
      "userId": "12220140506292291733"
     },
     "user_tz": -345
    },
    "id": "_RjZVBFDKnjR"
   },
   "outputs": [],
   "source": [
    "# # df_test\n",
    "# lm.predict(df_test)"
   ]
  },
  {
   "cell_type": "code",
   "execution_count": 59,
   "id": "cKczCX8CL4vd",
   "metadata": {
    "colab": {
     "base_uri": "https://localhost:8080/",
     "height": 423
    },
    "executionInfo": {
     "elapsed": 30,
     "status": "ok",
     "timestamp": 1681130699323,
     "user": {
      "displayName": "Aayush Adhikari",
      "userId": "12220140506292291733"
     },
     "user_tz": -345
    },
    "id": "cKczCX8CL4vd",
    "outputId": "15d81cb5-2305-4b65-ffb6-f8f2db3faca3"
   },
   "outputs": [
    {
     "data": {
      "text/html": [
       "<div>\n",
       "<style scoped>\n",
       "    .dataframe tbody tr th:only-of-type {\n",
       "        vertical-align: middle;\n",
       "    }\n",
       "\n",
       "    .dataframe tbody tr th {\n",
       "        vertical-align: top;\n",
       "    }\n",
       "\n",
       "    .dataframe thead th {\n",
       "        text-align: right;\n",
       "    }\n",
       "</style>\n",
       "<table border=\"1\" class=\"dataframe\">\n",
       "  <thead>\n",
       "    <tr style=\"text-align: right;\">\n",
       "      <th></th>\n",
       "      <th>age</th>\n",
       "      <th>bmi</th>\n",
       "      <th>children</th>\n",
       "      <th>expenses</th>\n",
       "      <th>male</th>\n",
       "      <th>northwest</th>\n",
       "      <th>southeast</th>\n",
       "      <th>southwest</th>\n",
       "      <th>yes</th>\n",
       "    </tr>\n",
       "  </thead>\n",
       "  <tbody>\n",
       "    <tr>\n",
       "      <th>12</th>\n",
       "      <td>23</td>\n",
       "      <td>34.4</td>\n",
       "      <td>0</td>\n",
       "      <td>1826.84</td>\n",
       "      <td>1</td>\n",
       "      <td>0</td>\n",
       "      <td>0</td>\n",
       "      <td>1</td>\n",
       "      <td>0</td>\n",
       "    </tr>\n",
       "    <tr>\n",
       "      <th>306</th>\n",
       "      <td>28</td>\n",
       "      <td>27.5</td>\n",
       "      <td>2</td>\n",
       "      <td>20177.67</td>\n",
       "      <td>0</td>\n",
       "      <td>0</td>\n",
       "      <td>0</td>\n",
       "      <td>1</td>\n",
       "      <td>0</td>\n",
       "    </tr>\n",
       "    <tr>\n",
       "      <th>318</th>\n",
       "      <td>44</td>\n",
       "      <td>27.6</td>\n",
       "      <td>0</td>\n",
       "      <td>7421.19</td>\n",
       "      <td>0</td>\n",
       "      <td>1</td>\n",
       "      <td>0</td>\n",
       "      <td>0</td>\n",
       "      <td>0</td>\n",
       "    </tr>\n",
       "    <tr>\n",
       "      <th>815</th>\n",
       "      <td>20</td>\n",
       "      <td>31.5</td>\n",
       "      <td>0</td>\n",
       "      <td>1877.93</td>\n",
       "      <td>0</td>\n",
       "      <td>0</td>\n",
       "      <td>1</td>\n",
       "      <td>0</td>\n",
       "      <td>0</td>\n",
       "    </tr>\n",
       "    <tr>\n",
       "      <th>157</th>\n",
       "      <td>18</td>\n",
       "      <td>25.2</td>\n",
       "      <td>0</td>\n",
       "      <td>15518.18</td>\n",
       "      <td>1</td>\n",
       "      <td>0</td>\n",
       "      <td>0</td>\n",
       "      <td>0</td>\n",
       "      <td>1</td>\n",
       "    </tr>\n",
       "    <tr>\n",
       "      <th>...</th>\n",
       "      <td>...</td>\n",
       "      <td>...</td>\n",
       "      <td>...</td>\n",
       "      <td>...</td>\n",
       "      <td>...</td>\n",
       "      <td>...</td>\n",
       "      <td>...</td>\n",
       "      <td>...</td>\n",
       "      <td>...</td>\n",
       "    </tr>\n",
       "    <tr>\n",
       "      <th>710</th>\n",
       "      <td>18</td>\n",
       "      <td>35.2</td>\n",
       "      <td>1</td>\n",
       "      <td>1727.54</td>\n",
       "      <td>1</td>\n",
       "      <td>0</td>\n",
       "      <td>1</td>\n",
       "      <td>0</td>\n",
       "      <td>0</td>\n",
       "    </tr>\n",
       "    <tr>\n",
       "      <th>1005</th>\n",
       "      <td>29</td>\n",
       "      <td>31.7</td>\n",
       "      <td>2</td>\n",
       "      <td>4433.39</td>\n",
       "      <td>1</td>\n",
       "      <td>1</td>\n",
       "      <td>0</td>\n",
       "      <td>0</td>\n",
       "      <td>0</td>\n",
       "    </tr>\n",
       "    <tr>\n",
       "      <th>389</th>\n",
       "      <td>24</td>\n",
       "      <td>30.2</td>\n",
       "      <td>3</td>\n",
       "      <td>4618.08</td>\n",
       "      <td>0</td>\n",
       "      <td>1</td>\n",
       "      <td>0</td>\n",
       "      <td>0</td>\n",
       "      <td>0</td>\n",
       "    </tr>\n",
       "    <tr>\n",
       "      <th>923</th>\n",
       "      <td>34</td>\n",
       "      <td>35.8</td>\n",
       "      <td>0</td>\n",
       "      <td>4320.41</td>\n",
       "      <td>1</td>\n",
       "      <td>1</td>\n",
       "      <td>0</td>\n",
       "      <td>0</td>\n",
       "      <td>0</td>\n",
       "    </tr>\n",
       "    <tr>\n",
       "      <th>1164</th>\n",
       "      <td>41</td>\n",
       "      <td>28.3</td>\n",
       "      <td>1</td>\n",
       "      <td>7153.55</td>\n",
       "      <td>0</td>\n",
       "      <td>1</td>\n",
       "      <td>0</td>\n",
       "      <td>0</td>\n",
       "      <td>0</td>\n",
       "    </tr>\n",
       "  </tbody>\n",
       "</table>\n",
       "<p>402 rows × 9 columns</p>\n",
       "</div>"
      ],
      "text/plain": [
       "      age   bmi  children  expenses  male  northwest  southeast  southwest  \\\n",
       "12     23  34.4         0   1826.84     1          0          0          1   \n",
       "306    28  27.5         2  20177.67     0          0          0          1   \n",
       "318    44  27.6         0   7421.19     0          1          0          0   \n",
       "815    20  31.5         0   1877.93     0          0          1          0   \n",
       "157    18  25.2         0  15518.18     1          0          0          0   \n",
       "...   ...   ...       ...       ...   ...        ...        ...        ...   \n",
       "710    18  35.2         1   1727.54     1          0          1          0   \n",
       "1005   29  31.7         2   4433.39     1          1          0          0   \n",
       "389    24  30.2         3   4618.08     0          1          0          0   \n",
       "923    34  35.8         0   4320.41     1          1          0          0   \n",
       "1164   41  28.3         1   7153.55     0          1          0          0   \n",
       "\n",
       "      yes  \n",
       "12      0  \n",
       "306     0  \n",
       "318     0  \n",
       "815     0  \n",
       "157     1  \n",
       "...   ...  \n",
       "710     0  \n",
       "1005    0  \n",
       "389     0  \n",
       "923     0  \n",
       "1164    0  \n",
       "\n",
       "[402 rows x 9 columns]"
      ]
     },
     "execution_count": 59,
     "metadata": {},
     "output_type": "execute_result"
    }
   ],
   "source": [
    "df_test"
   ]
  },
  {
   "cell_type": "code",
   "execution_count": 60,
   "id": "eab4d596",
   "metadata": {
    "executionInfo": {
     "elapsed": 29,
     "status": "ok",
     "timestamp": 1681130699323,
     "user": {
      "displayName": "Aayush Adhikari",
      "userId": "12220140506292291733"
     },
     "user_tz": -345
    },
    "id": "eab4d596"
   },
   "outputs": [],
   "source": [
    "num_vars = ['age', 'bmi', 'children', 'expenses']\n",
    "\n",
    "df_test[num_vars] = scaler.transform(df_test[num_vars])"
   ]
  },
  {
   "cell_type": "code",
   "execution_count": 61,
   "id": "fTPYweTKMdzd",
   "metadata": {
    "colab": {
     "base_uri": "https://localhost:8080/",
     "height": 423
    },
    "executionInfo": {
     "elapsed": 29,
     "status": "ok",
     "timestamp": 1681130699323,
     "user": {
      "displayName": "Aayush Adhikari",
      "userId": "12220140506292291733"
     },
     "user_tz": -345
    },
    "id": "fTPYweTKMdzd",
    "outputId": "8ba07aa6-930c-4fc5-e325-f3ad7f43d8a6"
   },
   "outputs": [
    {
     "data": {
      "text/html": [
       "<div>\n",
       "<style scoped>\n",
       "    .dataframe tbody tr th:only-of-type {\n",
       "        vertical-align: middle;\n",
       "    }\n",
       "\n",
       "    .dataframe tbody tr th {\n",
       "        vertical-align: top;\n",
       "    }\n",
       "\n",
       "    .dataframe thead th {\n",
       "        text-align: right;\n",
       "    }\n",
       "</style>\n",
       "<table border=\"1\" class=\"dataframe\">\n",
       "  <thead>\n",
       "    <tr style=\"text-align: right;\">\n",
       "      <th></th>\n",
       "      <th>age</th>\n",
       "      <th>bmi</th>\n",
       "      <th>children</th>\n",
       "      <th>expenses</th>\n",
       "      <th>male</th>\n",
       "      <th>northwest</th>\n",
       "      <th>southeast</th>\n",
       "      <th>southwest</th>\n",
       "      <th>yes</th>\n",
       "    </tr>\n",
       "  </thead>\n",
       "  <tbody>\n",
       "    <tr>\n",
       "      <th>12</th>\n",
       "      <td>0.108696</td>\n",
       "      <td>0.495957</td>\n",
       "      <td>0.0</td>\n",
       "      <td>0.011253</td>\n",
       "      <td>1</td>\n",
       "      <td>0</td>\n",
       "      <td>0</td>\n",
       "      <td>1</td>\n",
       "      <td>0</td>\n",
       "    </tr>\n",
       "    <tr>\n",
       "      <th>306</th>\n",
       "      <td>0.217391</td>\n",
       "      <td>0.309973</td>\n",
       "      <td>0.4</td>\n",
       "      <td>0.304170</td>\n",
       "      <td>0</td>\n",
       "      <td>0</td>\n",
       "      <td>0</td>\n",
       "      <td>1</td>\n",
       "      <td>0</td>\n",
       "    </tr>\n",
       "    <tr>\n",
       "      <th>318</th>\n",
       "      <td>0.565217</td>\n",
       "      <td>0.312668</td>\n",
       "      <td>0.0</td>\n",
       "      <td>0.100550</td>\n",
       "      <td>0</td>\n",
       "      <td>1</td>\n",
       "      <td>0</td>\n",
       "      <td>0</td>\n",
       "      <td>0</td>\n",
       "    </tr>\n",
       "    <tr>\n",
       "      <th>815</th>\n",
       "      <td>0.043478</td>\n",
       "      <td>0.417790</td>\n",
       "      <td>0.0</td>\n",
       "      <td>0.012068</td>\n",
       "      <td>0</td>\n",
       "      <td>0</td>\n",
       "      <td>1</td>\n",
       "      <td>0</td>\n",
       "      <td>0</td>\n",
       "    </tr>\n",
       "    <tr>\n",
       "      <th>157</th>\n",
       "      <td>0.000000</td>\n",
       "      <td>0.247978</td>\n",
       "      <td>0.0</td>\n",
       "      <td>0.229795</td>\n",
       "      <td>1</td>\n",
       "      <td>0</td>\n",
       "      <td>0</td>\n",
       "      <td>0</td>\n",
       "      <td>1</td>\n",
       "    </tr>\n",
       "    <tr>\n",
       "      <th>...</th>\n",
       "      <td>...</td>\n",
       "      <td>...</td>\n",
       "      <td>...</td>\n",
       "      <td>...</td>\n",
       "      <td>...</td>\n",
       "      <td>...</td>\n",
       "      <td>...</td>\n",
       "      <td>...</td>\n",
       "      <td>...</td>\n",
       "    </tr>\n",
       "    <tr>\n",
       "      <th>710</th>\n",
       "      <td>0.000000</td>\n",
       "      <td>0.517520</td>\n",
       "      <td>0.2</td>\n",
       "      <td>0.009668</td>\n",
       "      <td>1</td>\n",
       "      <td>0</td>\n",
       "      <td>1</td>\n",
       "      <td>0</td>\n",
       "      <td>0</td>\n",
       "    </tr>\n",
       "    <tr>\n",
       "      <th>1005</th>\n",
       "      <td>0.239130</td>\n",
       "      <td>0.423181</td>\n",
       "      <td>0.4</td>\n",
       "      <td>0.052859</td>\n",
       "      <td>1</td>\n",
       "      <td>1</td>\n",
       "      <td>0</td>\n",
       "      <td>0</td>\n",
       "      <td>0</td>\n",
       "    </tr>\n",
       "    <tr>\n",
       "      <th>389</th>\n",
       "      <td>0.130435</td>\n",
       "      <td>0.382749</td>\n",
       "      <td>0.6</td>\n",
       "      <td>0.055807</td>\n",
       "      <td>0</td>\n",
       "      <td>1</td>\n",
       "      <td>0</td>\n",
       "      <td>0</td>\n",
       "      <td>0</td>\n",
       "    </tr>\n",
       "    <tr>\n",
       "      <th>923</th>\n",
       "      <td>0.347826</td>\n",
       "      <td>0.533693</td>\n",
       "      <td>0.0</td>\n",
       "      <td>0.051055</td>\n",
       "      <td>1</td>\n",
       "      <td>1</td>\n",
       "      <td>0</td>\n",
       "      <td>0</td>\n",
       "      <td>0</td>\n",
       "    </tr>\n",
       "    <tr>\n",
       "      <th>1164</th>\n",
       "      <td>0.500000</td>\n",
       "      <td>0.331536</td>\n",
       "      <td>0.2</td>\n",
       "      <td>0.096278</td>\n",
       "      <td>0</td>\n",
       "      <td>1</td>\n",
       "      <td>0</td>\n",
       "      <td>0</td>\n",
       "      <td>0</td>\n",
       "    </tr>\n",
       "  </tbody>\n",
       "</table>\n",
       "<p>402 rows × 9 columns</p>\n",
       "</div>"
      ],
      "text/plain": [
       "           age       bmi  children  expenses  male  northwest  southeast  \\\n",
       "12    0.108696  0.495957       0.0  0.011253     1          0          0   \n",
       "306   0.217391  0.309973       0.4  0.304170     0          0          0   \n",
       "318   0.565217  0.312668       0.0  0.100550     0          1          0   \n",
       "815   0.043478  0.417790       0.0  0.012068     0          0          1   \n",
       "157   0.000000  0.247978       0.0  0.229795     1          0          0   \n",
       "...        ...       ...       ...       ...   ...        ...        ...   \n",
       "710   0.000000  0.517520       0.2  0.009668     1          0          1   \n",
       "1005  0.239130  0.423181       0.4  0.052859     1          1          0   \n",
       "389   0.130435  0.382749       0.6  0.055807     0          1          0   \n",
       "923   0.347826  0.533693       0.0  0.051055     1          1          0   \n",
       "1164  0.500000  0.331536       0.2  0.096278     0          1          0   \n",
       "\n",
       "      southwest  yes  \n",
       "12            1    0  \n",
       "306           1    0  \n",
       "318           0    0  \n",
       "815           0    0  \n",
       "157           0    1  \n",
       "...         ...  ...  \n",
       "710           0    0  \n",
       "1005          0    0  \n",
       "389           0    0  \n",
       "923           0    0  \n",
       "1164          0    0  \n",
       "\n",
       "[402 rows x 9 columns]"
      ]
     },
     "execution_count": 61,
     "metadata": {},
     "output_type": "execute_result"
    }
   ],
   "source": [
    "df_test"
   ]
  },
  {
   "cell_type": "code",
   "execution_count": 62,
   "id": "9ed7435e",
   "metadata": {
    "executionInfo": {
     "elapsed": 28,
     "status": "ok",
     "timestamp": 1681130699323,
     "user": {
      "displayName": "Aayush Adhikari",
      "userId": "12220140506292291733"
     },
     "user_tz": -345
    },
    "id": "9ed7435e"
   },
   "outputs": [],
   "source": [
    "y_test = df_test.pop('expenses')\n",
    "X_test = df_test"
   ]
  },
  {
   "cell_type": "code",
   "execution_count": 63,
   "id": "hjWJ9MrLNu3w",
   "metadata": {
    "colab": {
     "base_uri": "https://localhost:8080/"
    },
    "executionInfo": {
     "elapsed": 3,
     "status": "ok",
     "timestamp": 1681130982278,
     "user": {
      "displayName": "Aayush Adhikari",
      "userId": "12220140506292291733"
     },
     "user_tz": -345
    },
    "id": "hjWJ9MrLNu3w",
    "outputId": "0efcbccb-3992-4560-e211-ffcfb10150cf"
   },
   "outputs": [
    {
     "data": {
      "text/plain": [
       "12      0.011253\n",
       "306     0.304170\n",
       "318     0.100550\n",
       "815     0.012068\n",
       "157     0.229795\n",
       "          ...   \n",
       "710     0.009668\n",
       "1005    0.052859\n",
       "389     0.055807\n",
       "923     0.051055\n",
       "1164    0.096278\n",
       "Name: expenses, Length: 402, dtype: float64"
      ]
     },
     "execution_count": 63,
     "metadata": {},
     "output_type": "execute_result"
    }
   ],
   "source": [
    "y_test"
   ]
  },
  {
   "cell_type": "code",
   "execution_count": 64,
   "id": "ZV3nJMEzNx2C",
   "metadata": {
    "colab": {
     "base_uri": "https://localhost:8080/",
     "height": 423
    },
    "executionInfo": {
     "elapsed": 2,
     "status": "ok",
     "timestamp": 1681130994854,
     "user": {
      "displayName": "Aayush Adhikari",
      "userId": "12220140506292291733"
     },
     "user_tz": -345
    },
    "id": "ZV3nJMEzNx2C",
    "outputId": "80c375ea-7d87-450a-97c8-73569a871e23"
   },
   "outputs": [
    {
     "data": {
      "text/html": [
       "<div>\n",
       "<style scoped>\n",
       "    .dataframe tbody tr th:only-of-type {\n",
       "        vertical-align: middle;\n",
       "    }\n",
       "\n",
       "    .dataframe tbody tr th {\n",
       "        vertical-align: top;\n",
       "    }\n",
       "\n",
       "    .dataframe thead th {\n",
       "        text-align: right;\n",
       "    }\n",
       "</style>\n",
       "<table border=\"1\" class=\"dataframe\">\n",
       "  <thead>\n",
       "    <tr style=\"text-align: right;\">\n",
       "      <th></th>\n",
       "      <th>age</th>\n",
       "      <th>bmi</th>\n",
       "      <th>children</th>\n",
       "      <th>male</th>\n",
       "      <th>northwest</th>\n",
       "      <th>southeast</th>\n",
       "      <th>southwest</th>\n",
       "      <th>yes</th>\n",
       "    </tr>\n",
       "  </thead>\n",
       "  <tbody>\n",
       "    <tr>\n",
       "      <th>12</th>\n",
       "      <td>0.108696</td>\n",
       "      <td>0.495957</td>\n",
       "      <td>0.0</td>\n",
       "      <td>1</td>\n",
       "      <td>0</td>\n",
       "      <td>0</td>\n",
       "      <td>1</td>\n",
       "      <td>0</td>\n",
       "    </tr>\n",
       "    <tr>\n",
       "      <th>306</th>\n",
       "      <td>0.217391</td>\n",
       "      <td>0.309973</td>\n",
       "      <td>0.4</td>\n",
       "      <td>0</td>\n",
       "      <td>0</td>\n",
       "      <td>0</td>\n",
       "      <td>1</td>\n",
       "      <td>0</td>\n",
       "    </tr>\n",
       "    <tr>\n",
       "      <th>318</th>\n",
       "      <td>0.565217</td>\n",
       "      <td>0.312668</td>\n",
       "      <td>0.0</td>\n",
       "      <td>0</td>\n",
       "      <td>1</td>\n",
       "      <td>0</td>\n",
       "      <td>0</td>\n",
       "      <td>0</td>\n",
       "    </tr>\n",
       "    <tr>\n",
       "      <th>815</th>\n",
       "      <td>0.043478</td>\n",
       "      <td>0.417790</td>\n",
       "      <td>0.0</td>\n",
       "      <td>0</td>\n",
       "      <td>0</td>\n",
       "      <td>1</td>\n",
       "      <td>0</td>\n",
       "      <td>0</td>\n",
       "    </tr>\n",
       "    <tr>\n",
       "      <th>157</th>\n",
       "      <td>0.000000</td>\n",
       "      <td>0.247978</td>\n",
       "      <td>0.0</td>\n",
       "      <td>1</td>\n",
       "      <td>0</td>\n",
       "      <td>0</td>\n",
       "      <td>0</td>\n",
       "      <td>1</td>\n",
       "    </tr>\n",
       "    <tr>\n",
       "      <th>...</th>\n",
       "      <td>...</td>\n",
       "      <td>...</td>\n",
       "      <td>...</td>\n",
       "      <td>...</td>\n",
       "      <td>...</td>\n",
       "      <td>...</td>\n",
       "      <td>...</td>\n",
       "      <td>...</td>\n",
       "    </tr>\n",
       "    <tr>\n",
       "      <th>710</th>\n",
       "      <td>0.000000</td>\n",
       "      <td>0.517520</td>\n",
       "      <td>0.2</td>\n",
       "      <td>1</td>\n",
       "      <td>0</td>\n",
       "      <td>1</td>\n",
       "      <td>0</td>\n",
       "      <td>0</td>\n",
       "    </tr>\n",
       "    <tr>\n",
       "      <th>1005</th>\n",
       "      <td>0.239130</td>\n",
       "      <td>0.423181</td>\n",
       "      <td>0.4</td>\n",
       "      <td>1</td>\n",
       "      <td>1</td>\n",
       "      <td>0</td>\n",
       "      <td>0</td>\n",
       "      <td>0</td>\n",
       "    </tr>\n",
       "    <tr>\n",
       "      <th>389</th>\n",
       "      <td>0.130435</td>\n",
       "      <td>0.382749</td>\n",
       "      <td>0.6</td>\n",
       "      <td>0</td>\n",
       "      <td>1</td>\n",
       "      <td>0</td>\n",
       "      <td>0</td>\n",
       "      <td>0</td>\n",
       "    </tr>\n",
       "    <tr>\n",
       "      <th>923</th>\n",
       "      <td>0.347826</td>\n",
       "      <td>0.533693</td>\n",
       "      <td>0.0</td>\n",
       "      <td>1</td>\n",
       "      <td>1</td>\n",
       "      <td>0</td>\n",
       "      <td>0</td>\n",
       "      <td>0</td>\n",
       "    </tr>\n",
       "    <tr>\n",
       "      <th>1164</th>\n",
       "      <td>0.500000</td>\n",
       "      <td>0.331536</td>\n",
       "      <td>0.2</td>\n",
       "      <td>0</td>\n",
       "      <td>1</td>\n",
       "      <td>0</td>\n",
       "      <td>0</td>\n",
       "      <td>0</td>\n",
       "    </tr>\n",
       "  </tbody>\n",
       "</table>\n",
       "<p>402 rows × 8 columns</p>\n",
       "</div>"
      ],
      "text/plain": [
       "           age       bmi  children  male  northwest  southeast  southwest  yes\n",
       "12    0.108696  0.495957       0.0     1          0          0          1    0\n",
       "306   0.217391  0.309973       0.4     0          0          0          1    0\n",
       "318   0.565217  0.312668       0.0     0          1          0          0    0\n",
       "815   0.043478  0.417790       0.0     0          0          1          0    0\n",
       "157   0.000000  0.247978       0.0     1          0          0          0    1\n",
       "...        ...       ...       ...   ...        ...        ...        ...  ...\n",
       "710   0.000000  0.517520       0.2     1          0          1          0    0\n",
       "1005  0.239130  0.423181       0.4     1          1          0          0    0\n",
       "389   0.130435  0.382749       0.6     0          1          0          0    0\n",
       "923   0.347826  0.533693       0.0     1          1          0          0    0\n",
       "1164  0.500000  0.331536       0.2     0          1          0          0    0\n",
       "\n",
       "[402 rows x 8 columns]"
      ]
     },
     "execution_count": 64,
     "metadata": {},
     "output_type": "execute_result"
    }
   ],
   "source": [
    "X_test"
   ]
  },
  {
   "cell_type": "code",
   "execution_count": 65,
   "id": "c9088d63",
   "metadata": {
    "executionInfo": {
     "elapsed": 28,
     "status": "ok",
     "timestamp": 1681130699323,
     "user": {
      "displayName": "Aayush Adhikari",
      "userId": "12220140506292291733"
     },
     "user_tz": -345
    },
    "id": "c9088d63"
   },
   "outputs": [],
   "source": [
    "# Now let's use our model to make predictions.\n",
    "\n",
    "# Creating X_test_new dataframe by dropping variables from X_test\n",
    "X_test_new = X_test[['age','bmi','yes']]\n",
    "\n",
    "# Adding a constant variable \n",
    "X_test_new = sm.add_constant(X_test_new)"
   ]
  },
  {
   "cell_type": "code",
   "execution_count": 66,
   "id": "38ca2c97",
   "metadata": {
    "colab": {
     "base_uri": "https://localhost:8080/"
    },
    "executionInfo": {
     "elapsed": 3,
     "status": "ok",
     "timestamp": 1681130762945,
     "user": {
      "displayName": "Aayush Adhikari",
      "userId": "12220140506292291733"
     },
     "user_tz": -345
    },
    "id": "38ca2c97",
    "outputId": "8e17cc24-9071-435d-9ff9-5615650ee567"
   },
   "outputs": [
    {
     "data": {
      "text/plain": [
       "12      0.066976\n",
       "306     0.056850\n",
       "318     0.124018\n",
       "815     0.041448\n",
       "157     0.387796\n",
       "          ...   \n",
       "710     0.049718\n",
       "1005    0.079875\n",
       "389     0.052291\n",
       "923     0.119130\n",
       "1164    0.114650\n",
       "Length: 402, dtype: float64"
      ]
     },
     "execution_count": 66,
     "metadata": {},
     "output_type": "execute_result"
    }
   ],
   "source": [
    "# Making predictions\n",
    "y_pred = lm.predict(X_test_new)\n",
    "y_pred"
   ]
  },
  {
   "cell_type": "code",
   "execution_count": 67,
   "id": "8c5ed460",
   "metadata": {
    "colab": {
     "base_uri": "https://localhost:8080/"
    },
    "executionInfo": {
     "elapsed": 1,
     "status": "ok",
     "timestamp": 1681130854109,
     "user": {
      "displayName": "Aayush Adhikari",
      "userId": "12220140506292291733"
     },
     "user_tz": -345
    },
    "id": "8c5ed460",
    "outputId": "b264f472-f56b-449a-eb05-fc2edfcad064"
   },
   "outputs": [
    {
     "data": {
      "text/plain": [
       "0.7777788976289105"
      ]
     },
     "execution_count": 67,
     "metadata": {},
     "output_type": "execute_result"
    }
   ],
   "source": [
    "from sklearn.metrics import r2_score \n",
    "r2_score(y_test, y_pred)"
   ]
  },
  {
   "cell_type": "code",
   "execution_count": 68,
   "id": "3bfcca4d",
   "metadata": {
    "colab": {
     "base_uri": "https://localhost:8080/",
     "height": 524
    },
    "executionInfo": {
     "elapsed": 27,
     "status": "ok",
     "timestamp": 1681130699324,
     "user": {
      "displayName": "Aayush Adhikari",
      "userId": "12220140506292291733"
     },
     "user_tz": -345
    },
    "id": "3bfcca4d",
    "outputId": "005c9c67-035e-459d-ac9e-e00479a16813"
   },
   "outputs": [
    {
     "data": {
      "text/plain": [
       "Text(0, 0.5, 'y_pred')"
      ]
     },
     "execution_count": 68,
     "metadata": {},
     "output_type": "execute_result"
    },
    {
     "data": {
      "image/png": "[encoded data removed]",
      "text/plain": [
       "<Figure size 432x288 with 1 Axes>"
      ]
     },
     "metadata": {
      "needs_background": "light"
     },
     "output_type": "display_data"
    }
   ],
   "source": [
    "# Plotting y_test and y_pred to understand the spread.\n",
    "fig = plt.figure()\n",
    "plt.scatter(y_test,y_pred)\n",
    "fig.suptitle('y_test vs y_pred', fontsize=20)              # Plot heading \n",
    "plt.xlabel('y_test', fontsize=18)                          # X-label\n",
    "plt.ylabel('y_pred', fontsize=16)                          # Y-label"
   ]
  },
  {
   "cell_type": "code",
   "execution_count": 69,
   "id": "bbab7ba8",
   "metadata": {
    "executionInfo": {
     "elapsed": 25,
     "status": "ok",
     "timestamp": 1681130699324,
     "user": {
      "displayName": "Aayush Adhikari",
      "userId": "12220140506292291733"
     },
     "user_tz": -345
    },
    "id": "bbab7ba8"
   },
   "outputs": [],
   "source": [
    "# charges = 0.1918age+0.1668 bmi+0.3830 yes-0.0366"
   ]
  },
  {
   "cell_type": "code",
   "execution_count": null,
   "id": "K20xHH2QJYcP",
   "metadata": {
    "executionInfo": {
     "elapsed": 25,
     "status": "ok",
     "timestamp": 1681130699324,
     "user": {
      "displayName": "Aayush Adhikari",
      "userId": "12220140506292291733"
     },
     "user_tz": -345
    },
    "id": "K20xHH2QJYcP"
   },
   "outputs": [],
   "source": []
  }
 ],
 "metadata": {
  "colab": {
   "provenance": []
  },
  "kernelspec": {
   "display_name": "Python 3 (ipykernel)",
   "language": "python",
   "name": "python3"
  },
  "language_info": {
   "codemirror_mode": {
    "name": "ipython",
    "version": 3
   },
   "file_extension": ".py",
   "mimetype": "text/x-python",
   "name": "python",
   "nbconvert_exporter": "python",
   "pygments_lexer": "ipython3",
   "version": "3.9.12"
  }
 },
 "nbformat": 4,
 "nbformat_minor": 5
}
